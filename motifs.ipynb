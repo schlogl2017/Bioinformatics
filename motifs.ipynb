{
 "cells": [
  {
   "cell_type": "code",
   "execution_count": 186,
   "metadata": {},
   "outputs": [],
   "source": [
    "from collections import Counter, defaultdict\n",
    "from math import log\n",
    "from time import process_time\n",
    "from functools import reduce\n",
    "from operator import mul\n",
    "from pprint import pprint\n",
    "from random import randint, uniform, choices\n",
    "import copy\n",
    "import math"
   ]
  },
  {
   "cell_type": "code",
   "execution_count": 2,
   "metadata": {},
   "outputs": [],
   "source": [
    "def most_frequent_patterns(sequence, k, n=1):\n",
    "    \"\"\"Returns the n most frequent patterns of lenght k from a input\n",
    "    sequence.\"\"\"\n",
    "    return Counter([sequence[i:i+k] for i in range(len(sequence) - k + 1)]).most_common(n)"
   ]
  },
  {
   "cell_type": "code",
   "execution_count": 3,
   "metadata": {},
   "outputs": [],
   "source": [
    "def probability(N, A, k, t, n):\n",
    "    \"\"\"N = lenght sequence, A = alphabet(num nucleotides), k=kmer lenght, t = times appearence and\n",
    "    n = length of list dna sequences\"\"\"\n",
    "    return (((N - t * (k-1))/t) / A ** (t * k)) * n"
   ]
  },
  {
   "cell_type": "code",
   "execution_count": 4,
   "metadata": {},
   "outputs": [
    {
     "data": {
      "text/plain": [
       "1.89208984375"
      ]
     },
     "execution_count": 4,
     "metadata": {},
     "output_type": "execute_result"
    }
   ],
   "source": [
    "probability(1000, 4, 9, 1, 500)"
   ]
  },
  {
   "cell_type": "code",
   "execution_count": 5,
   "metadata": {},
   "outputs": [],
   "source": [
    "def motifs_entropy(motifs):\n",
    "    entropy = 0\n",
    "    for key in profile(motifs):\n",
    "        for value in profile(motifs)[key]:\n",
    "            if value > 0:\n",
    "                entropy += value * - math.log(value, 2)\n",
    "                \n",
    "    return entropy"
   ]
  },
  {
   "cell_type": "code",
   "execution_count": 6,
   "metadata": {},
   "outputs": [],
   "source": [
    "seq = 'atgaccgggatactgataaaaaaaagggggggggcgtacacattagataaacgtatgaagtacgttagactcggcgccgccg\\\n",
    "acccctattttttgagcagatttagtgacctggaaaaaaaatttgagtacaaaacttttccgaataaaaaaaaaggggggga\\\n",
    "tgagtatccctgggatgacttaaaaaaaagggggggtgctctcccgatttttgaatatgtaggatcattcgccagggtccga\\\n",
    "gctgagaattggatgaaaaaaaagggggggtccacgcaatcgcgaaccaacgcggacccaaaggcaagaccgataaaggaga\\\n",
    "tcccttttgcggtaatgtgccgggaggctggttacgtagggaagccctaacggacttaataaaaaaaagggggggcttatag\\\n",
    "gtcaatcatgttcttgtgaatggatttaaaaaaaaggggggggaccgcttggcgcacccaaattcagtgtgggcgagcgcaa\\\n",
    "cggttttggcccttgttagaggcccccgtaaaaaaaagggggggcaattatgagagagctaatctatcgcgtgcgtgttcat\\\n",
    "aacttgagttaaaaaaaagggggggctggggcacatacaagaggagtcttccttatcagttaatgctgtatgacactatgta\\\n",
    "ttggcccattggctaaaagcccaacttgacaaatggaagatagaatccttgcataaaaaaaagggggggaccgaaagggaag\\\n",
    "ctggtgagcaacgacagattcttacgtgcattagctcgcttccggggatctaatagcacgaagcttaaaaaaaaggggggga'"
   ]
  },
  {
   "cell_type": "code",
   "execution_count": 7,
   "metadata": {},
   "outputs": [],
   "source": [
    "def entropy(sequence):\n",
    "    p, lns = Counter(sequence), float(len(sequence))\n",
    "    return -sum( count/lns * math.log(count/lns, 2) for count in p.values())"
   ]
  },
  {
   "cell_type": "code",
   "execution_count": 8,
   "metadata": {},
   "outputs": [
    {
     "ename": "NameError",
     "evalue": "name 'math' is not defined",
     "output_type": "error",
     "traceback": [
      "\u001b[0;31m---------------------------------------------------------------------------\u001b[0m",
      "\u001b[0;31mNameError\u001b[0m                                 Traceback (most recent call last)",
      "\u001b[0;32m<ipython-input-8-1a6e95f3ee4f>\u001b[0m in \u001b[0;36m<module>\u001b[0;34m\u001b[0m\n\u001b[0;32m----> 1\u001b[0;31m \u001b[0mentropy\u001b[0m\u001b[0;34m(\u001b[0m\u001b[0mseq\u001b[0m\u001b[0;34m)\u001b[0m\u001b[0;34m\u001b[0m\u001b[0;34m\u001b[0m\u001b[0m\n\u001b[0m",
      "\u001b[0;32m<ipython-input-7-2037dc2daa39>\u001b[0m in \u001b[0;36mentropy\u001b[0;34m(sequence)\u001b[0m\n\u001b[1;32m      1\u001b[0m \u001b[0;32mdef\u001b[0m \u001b[0mentropy\u001b[0m\u001b[0;34m(\u001b[0m\u001b[0msequence\u001b[0m\u001b[0;34m)\u001b[0m\u001b[0;34m:\u001b[0m\u001b[0;34m\u001b[0m\u001b[0;34m\u001b[0m\u001b[0m\n\u001b[1;32m      2\u001b[0m     \u001b[0mp\u001b[0m\u001b[0;34m,\u001b[0m \u001b[0mlns\u001b[0m \u001b[0;34m=\u001b[0m \u001b[0mCounter\u001b[0m\u001b[0;34m(\u001b[0m\u001b[0msequence\u001b[0m\u001b[0;34m)\u001b[0m\u001b[0;34m,\u001b[0m \u001b[0mfloat\u001b[0m\u001b[0;34m(\u001b[0m\u001b[0mlen\u001b[0m\u001b[0;34m(\u001b[0m\u001b[0msequence\u001b[0m\u001b[0;34m)\u001b[0m\u001b[0;34m)\u001b[0m\u001b[0;34m\u001b[0m\u001b[0;34m\u001b[0m\u001b[0m\n\u001b[0;32m----> 3\u001b[0;31m     \u001b[0;32mreturn\u001b[0m \u001b[0;34m-\u001b[0m\u001b[0msum\u001b[0m\u001b[0;34m(\u001b[0m \u001b[0mcount\u001b[0m\u001b[0;34m/\u001b[0m\u001b[0mlns\u001b[0m \u001b[0;34m*\u001b[0m \u001b[0mmath\u001b[0m\u001b[0;34m.\u001b[0m\u001b[0mlog\u001b[0m\u001b[0;34m(\u001b[0m\u001b[0mcount\u001b[0m\u001b[0;34m/\u001b[0m\u001b[0mlns\u001b[0m\u001b[0;34m,\u001b[0m \u001b[0;36m2\u001b[0m\u001b[0;34m)\u001b[0m \u001b[0;32mfor\u001b[0m \u001b[0mcount\u001b[0m \u001b[0;32min\u001b[0m \u001b[0mp\u001b[0m\u001b[0;34m.\u001b[0m\u001b[0mvalues\u001b[0m\u001b[0;34m(\u001b[0m\u001b[0;34m)\u001b[0m\u001b[0;34m)\u001b[0m\u001b[0;34m\u001b[0m\u001b[0;34m\u001b[0m\u001b[0m\n\u001b[0m",
      "\u001b[0;32m<ipython-input-7-2037dc2daa39>\u001b[0m in \u001b[0;36m<genexpr>\u001b[0;34m(.0)\u001b[0m\n\u001b[1;32m      1\u001b[0m \u001b[0;32mdef\u001b[0m \u001b[0mentropy\u001b[0m\u001b[0;34m(\u001b[0m\u001b[0msequence\u001b[0m\u001b[0;34m)\u001b[0m\u001b[0;34m:\u001b[0m\u001b[0;34m\u001b[0m\u001b[0;34m\u001b[0m\u001b[0m\n\u001b[1;32m      2\u001b[0m     \u001b[0mp\u001b[0m\u001b[0;34m,\u001b[0m \u001b[0mlns\u001b[0m \u001b[0;34m=\u001b[0m \u001b[0mCounter\u001b[0m\u001b[0;34m(\u001b[0m\u001b[0msequence\u001b[0m\u001b[0;34m)\u001b[0m\u001b[0;34m,\u001b[0m \u001b[0mfloat\u001b[0m\u001b[0;34m(\u001b[0m\u001b[0mlen\u001b[0m\u001b[0;34m(\u001b[0m\u001b[0msequence\u001b[0m\u001b[0;34m)\u001b[0m\u001b[0;34m)\u001b[0m\u001b[0;34m\u001b[0m\u001b[0;34m\u001b[0m\u001b[0m\n\u001b[0;32m----> 3\u001b[0;31m     \u001b[0;32mreturn\u001b[0m \u001b[0;34m-\u001b[0m\u001b[0msum\u001b[0m\u001b[0;34m(\u001b[0m \u001b[0mcount\u001b[0m\u001b[0;34m/\u001b[0m\u001b[0mlns\u001b[0m \u001b[0;34m*\u001b[0m \u001b[0mmath\u001b[0m\u001b[0;34m.\u001b[0m\u001b[0mlog\u001b[0m\u001b[0;34m(\u001b[0m\u001b[0mcount\u001b[0m\u001b[0;34m/\u001b[0m\u001b[0mlns\u001b[0m\u001b[0;34m,\u001b[0m \u001b[0;36m2\u001b[0m\u001b[0;34m)\u001b[0m \u001b[0;32mfor\u001b[0m \u001b[0mcount\u001b[0m \u001b[0;32min\u001b[0m \u001b[0mp\u001b[0m\u001b[0;34m.\u001b[0m\u001b[0mvalues\u001b[0m\u001b[0;34m(\u001b[0m\u001b[0;34m)\u001b[0m\u001b[0;34m)\u001b[0m\u001b[0;34m\u001b[0m\u001b[0;34m\u001b[0m\u001b[0m\n\u001b[0m",
      "\u001b[0;31mNameError\u001b[0m: name 'math' is not defined"
     ]
    }
   ],
   "source": [
    "entropy(seq)"
   ]
  },
  {
   "cell_type": "code",
   "execution_count": 9,
   "metadata": {},
   "outputs": [
    {
     "name": "stdout",
     "output_type": "stream",
     "text": [
      "[('aaaaaaaagggg', 10)]\n"
     ]
    }
   ],
   "source": [
    "m_kmer = most_frequent_patterns(seq, 12)\n",
    "print(m_kmer)"
   ]
  },
  {
   "cell_type": "code",
   "execution_count": 10,
   "metadata": {},
   "outputs": [],
   "source": [
    "def motifs_count(motifs):\n",
    "    \"\"\"Returns the count of the nucleotides that appears in each\n",
    "    columns of the motifs. Motifs are a matrix of strings(list of lists)\"\"\"\n",
    "    count = defaultdict(int)\n",
    "    k = len(motifs[0])\n",
    "    t = len(motifs)\n",
    "    for char in 'ACGT':\n",
    "        count[char] = count.get(char, [0]*k)\n",
    "    for i in range(t):\n",
    "        for j in range(k):\n",
    "            char = motifs[i][j]  # motifs[i] char[j]\n",
    "            count[char][j] += 1  # ad to the count the char in j position in the cols\n",
    "    return count"
   ]
  },
  {
   "cell_type": "code",
   "execution_count": 11,
   "metadata": {},
   "outputs": [],
   "source": [
    "def motifs_count2(motifs):\n",
    "    \"\"\"Returns the count of the nucleotides that appears in each\n",
    "    columns of the motifs. Motifs are a matrix of strings(list of lists)\"\"\"\n",
    "    count = defaultdict(int)\n",
    "    for char in 'ACGT':\n",
    "        count[char] = count.get(char, [0] * len(motifs[0]))\n",
    "    for i, motif in enumerate(motifs):\n",
    "        for j, char in enumerate(motifs[0]):\n",
    "            char = motifs[i][j]  # motifs[i] char[j]\n",
    "            count[char][j] += 1  # ad to the count the char in j position in the cols\n",
    "    return count"
   ]
  },
  {
   "cell_type": "code",
   "execution_count": 12,
   "metadata": {},
   "outputs": [
    {
     "data": {
      "text/plain": [
       "defaultdict(int,\n",
       "            {'A': [1, 2, 1, 0, 0, 2],\n",
       "             'C': [2, 1, 4, 2, 0, 0],\n",
       "             'G': [1, 1, 0, 2, 1, 1],\n",
       "             'T': [1, 1, 0, 1, 4, 2]})"
      ]
     },
     "execution_count": 12,
     "metadata": {},
     "output_type": "execute_result"
    }
   ],
   "source": [
    "m = ['AACGTA', 'CCCGTT', 'CACCTT', 'GGATTA', 'TTCCGG']\n",
    "#{'A': [1, 2, 1, 0, 0, 2], 'C': [2, 1, 4, 2, 0, 0], 'G': [1, 1, 0, 2, 1, 1], 'T': [1, 1, 0, 1, 4, 2]}\n",
    "motifs_count(m)"
   ]
  },
  {
   "cell_type": "code",
   "execution_count": 13,
   "metadata": {},
   "outputs": [
    {
     "data": {
      "text/plain": [
       "defaultdict(int,\n",
       "            {'A': [1, 2, 1, 0, 0, 2],\n",
       "             'C': [2, 1, 4, 2, 0, 0],\n",
       "             'G': [1, 1, 0, 2, 1, 1],\n",
       "             'T': [1, 1, 0, 1, 4, 2]})"
      ]
     },
     "execution_count": 13,
     "metadata": {},
     "output_type": "execute_result"
    }
   ],
   "source": [
    "m = ['AACGTA', 'CCCGTT', 'CACCTT', 'GGATTA', 'TTCCGG']\n",
    "#{'A': [1, 2, 1, 0, 0, 2], 'C': [2, 1, 4, 2, 0, 0], 'G': [1, 1, 0, 2, 1, 1], 'T': [1, 1, 0, 1, 4, 2]}\n",
    "motifs_count2(m)"
   ]
  },
  {
   "cell_type": "code",
   "execution_count": 14,
   "metadata": {},
   "outputs": [
    {
     "data": {
      "text/plain": [
       "defaultdict(int,\n",
       "            {'A': [2, 3, 3, 3, 6, 4, 2, 2, 1, 3],\n",
       "             'C': [2, 3, 4, 3, 2, 3, 2, 1, 3, 3],\n",
       "             'G': [4, 2, 3, 0, 1, 3, 4, 5, 5, 0],\n",
       "             'T': [2, 2, 0, 4, 1, 0, 2, 2, 1, 4]})"
      ]
     },
     "execution_count": 14,
     "metadata": {},
     "output_type": "execute_result"
    }
   ],
   "source": [
    "m1 = ['GTACAACTGT', 'CAACTATGAA', 'TCCTACAGGA', 'AAGCAAGGGT', 'GCGTACGACC',\n",
    "      'TCGTCAGCGT', 'AACAAGGTCA', 'CTCAGGCGTC', 'GGATCCAGGT', 'GGCAAGTACC']\n",
    "# {'A': [2, 3, 3, 3, 6, 4, 2, 2, 1, 3], 'C': [2, 3, 4, 3, 2, 3, 2, 1, 3, 3], \n",
    "# 'G': [4, 2, 3, 0, 1, 3, 4, 5, 5, 0], 'T': [2, 2, 0, 4, 1, 0, 2, 2, 1, 4]}\n",
    "\n",
    "motifs_count(m1)"
   ]
  },
  {
   "cell_type": "code",
   "execution_count": 15,
   "metadata": {},
   "outputs": [
    {
     "data": {
      "text/plain": [
       "defaultdict(int,\n",
       "            {'A': [2, 3, 3, 3, 6, 4, 2, 2, 1, 3],\n",
       "             'C': [2, 3, 4, 3, 2, 3, 2, 1, 3, 3],\n",
       "             'G': [4, 2, 3, 0, 1, 3, 4, 5, 5, 0],\n",
       "             'T': [2, 2, 0, 4, 1, 0, 2, 2, 1, 4]})"
      ]
     },
     "execution_count": 15,
     "metadata": {},
     "output_type": "execute_result"
    }
   ],
   "source": [
    "motifs_count2(m1)"
   ]
  },
  {
   "cell_type": "code",
   "execution_count": 16,
   "metadata": {},
   "outputs": [
    {
     "name": "stdout",
     "output_type": "stream",
     "text": [
      "15 µs ± 64.8 ns per loop (mean ± std. dev. of 7 runs, 100000 loops each)\n"
     ]
    }
   ],
   "source": [
    "%timeit motifs_count(m1)"
   ]
  },
  {
   "cell_type": "code",
   "execution_count": 17,
   "metadata": {},
   "outputs": [
    {
     "name": "stdout",
     "output_type": "stream",
     "text": [
      "16.3 µs ± 248 ns per loop (mean ± std. dev. of 7 runs, 100000 loops each)\n"
     ]
    }
   ],
   "source": [
    "%timeit motifs_count2(m1)"
   ]
  },
  {
   "cell_type": "code",
   "execution_count": 21,
   "metadata": {},
   "outputs": [
    {
     "name": "stdout",
     "output_type": "stream",
     "text": [
      "0.00016221399999949426\n"
     ]
    }
   ],
   "source": [
    "t0 = process_time()\n",
    "motifs_count(m1)\n",
    "t1 = process_time()\n",
    "tot = t1 - t0\n",
    "print(tot)"
   ]
  },
  {
   "cell_type": "code",
   "execution_count": 22,
   "metadata": {},
   "outputs": [
    {
     "name": "stdout",
     "output_type": "stream",
     "text": [
      "0.0001993539999993743\n"
     ]
    }
   ],
   "source": [
    "t0 = process_time()\n",
    "motifs_count2(m1)\n",
    "t1 = process_time()\n",
    "tot = t1 - t0\n",
    "print(tot)"
   ]
  },
  {
   "cell_type": "code",
   "execution_count": 23,
   "metadata": {},
   "outputs": [],
   "source": [
    "def profile_motifs(motifs):\n",
    "    \"\"\"Returns the frequence of the char[i] in the counts dictionary.\n",
    "    It is the division of the counts of the char divide by the length\n",
    "    of the motifs matrix\"\"\"\n",
    "    k = len(motifs[0])\n",
    "    assert all(len(x) == k for x in motifs), print('Motifs must have the same lengths')\n",
    "    counts = motifs_count(motifs)\n",
    "    return {char: [(count/len(motifs)) for count in counts[char]] for\n",
    "           char in counts.keys()}"
   ]
  },
  {
   "cell_type": "code",
   "execution_count": 24,
   "metadata": {},
   "outputs": [
    {
     "data": {
      "text/plain": [
       "{'A': [0.2, 0.4, 0.2, 0.0, 0.0, 0.4],\n",
       " 'C': [0.4, 0.2, 0.8, 0.4, 0.0, 0.0],\n",
       " 'G': [0.2, 0.2, 0.0, 0.4, 0.2, 0.2],\n",
       " 'T': [0.2, 0.2, 0.0, 0.2, 0.8, 0.4]}"
      ]
     },
     "execution_count": 24,
     "metadata": {},
     "output_type": "execute_result"
    }
   ],
   "source": [
    "profile_motifs(m)\n",
    "# {'A': [0.2, 0.4, 0.2, 0.0, 0.0, 0.4], 'C': [0.4, 0.2, 0.8, 0.4, 0.0, 0.0],\n",
    "# 'G': [0.2, 0.2, 0.0, 0.4, 0.2, 0.2], 'T': [0.2, 0.2, 0.0, 0.2, 0.8, 0.4]}"
   ]
  },
  {
   "cell_type": "code",
   "execution_count": 25,
   "metadata": {},
   "outputs": [
    {
     "data": {
      "text/plain": [
       "{'A': [0.2, 0.3, 0.3, 0.3, 0.6, 0.4, 0.2, 0.2, 0.1, 0.3],\n",
       " 'C': [0.2, 0.3, 0.4, 0.3, 0.2, 0.3, 0.2, 0.1, 0.3, 0.3],\n",
       " 'G': [0.4, 0.2, 0.3, 0.0, 0.1, 0.3, 0.4, 0.5, 0.5, 0.0],\n",
       " 'T': [0.2, 0.2, 0.0, 0.4, 0.1, 0.0, 0.2, 0.2, 0.1, 0.4]}"
      ]
     },
     "execution_count": 25,
     "metadata": {},
     "output_type": "execute_result"
    }
   ],
   "source": [
    "profile_motifs(m1)\n",
    "# {'A': [0.2, 0.3, 0.3, 0.3, 0.6, 0.4, 0.2, 0.2, 0.1, 0.3], \n",
    "#  'C': [0.2, 0.3, 0.4, 0.3, 0.2, 0.3, 0.2, 0.1, 0.3, 0.3], \n",
    "#  'G': [0.4, 0.2, 0.3, 0.0, 0.1, 0.3, 0.4, 0.5, 0.5, 0.0], \n",
    "#  'T': [0.2, 0.2, 0.0, 0.4, 0.1, 0.0, 0.2, 0.2, 0.1, 0.4]}"
   ]
  },
  {
   "cell_type": "code",
   "execution_count": 26,
   "metadata": {},
   "outputs": [
    {
     "ename": "NameError",
     "evalue": "name 'm2' is not defined",
     "output_type": "error",
     "traceback": [
      "\u001b[0;31m---------------------------------------------------------------------------\u001b[0m",
      "\u001b[0;31mNameError\u001b[0m                                 Traceback (most recent call last)",
      "\u001b[0;32m<ipython-input-26-8e63448fd2c4>\u001b[0m in \u001b[0;36m<module>\u001b[0;34m\u001b[0m\n\u001b[0;32m----> 1\u001b[0;31m \u001b[0mprofile_motifs\u001b[0m\u001b[0;34m(\u001b[0m\u001b[0mm2\u001b[0m\u001b[0;34m)\u001b[0m\u001b[0;34m\u001b[0m\u001b[0;34m\u001b[0m\u001b[0m\n\u001b[0m",
      "\u001b[0;31mNameError\u001b[0m: name 'm2' is not defined"
     ]
    }
   ],
   "source": [
    "profile_motifs(m2)"
   ]
  },
  {
   "cell_type": "code",
   "execution_count": 54,
   "metadata": {},
   "outputs": [],
   "source": [
    "def consensus_sequence(motifs):\n",
    "    \"\"\"Returns the consensus sequence from a matrix of \n",
    "    motifs\"\"\"\n",
    "    k = len(motifs[0])\n",
    "    assert all(len(x) == k for x in motifs), print('Motifs must have the same lengths')\n",
    "    counts = motifs_count(motifs)\n",
    "    consensus = ''\n",
    "    for i in range(k):\n",
    "        count = 0\n",
    "        freq_char = ''\n",
    "        for char in 'ACGT':\n",
    "            if counts[char][i] > count:\n",
    "                count = counts[char][i]\n",
    "                freq_char = char\n",
    "        consensus += freq_char\n",
    "    return consensus       "
   ]
  },
  {
   "cell_type": "code",
   "execution_count": null,
   "metadata": {},
   "outputs": [],
   "source": [
    "len(strings)"
   ]
  },
  {
   "cell_type": "code",
   "execution_count": 55,
   "metadata": {},
   "outputs": [
    {
     "data": {
      "text/plain": [
       "'CACCTA'"
      ]
     },
     "execution_count": 55,
     "metadata": {},
     "output_type": "execute_result"
    }
   ],
   "source": [
    "consensus_sequence(m) # CACCTA"
   ]
  },
  {
   "cell_type": "code",
   "execution_count": 56,
   "metadata": {},
   "outputs": [
    {
     "data": {
      "text/plain": [
       "'GACTAAGGGT'"
      ]
     },
     "execution_count": 56,
     "metadata": {},
     "output_type": "execute_result"
    }
   ],
   "source": [
    "consensus_sequence(m1) # GACTAAGGGT"
   ]
  },
  {
   "cell_type": "code",
   "execution_count": 57,
   "metadata": {},
   "outputs": [
    {
     "name": "stdout",
     "output_type": "stream",
     "text": [
      "Motifs must have the same lengths\n"
     ]
    },
    {
     "ename": "AssertionError",
     "evalue": "None",
     "output_type": "error",
     "traceback": [
      "\u001b[0;31m---------------------------------------------------------------------------\u001b[0m",
      "\u001b[0;31mAssertionError\u001b[0m                            Traceback (most recent call last)",
      "\u001b[0;32m<ipython-input-57-39ed5aa5e792>\u001b[0m in \u001b[0;36m<module>\u001b[0;34m\u001b[0m\n\u001b[1;32m      1\u001b[0m \u001b[0mm2\u001b[0m \u001b[0;34m=\u001b[0m \u001b[0;34m[\u001b[0m\u001b[0;34m'AACGTA'\u001b[0m\u001b[0;34m,\u001b[0m \u001b[0;34m'CCCGTT'\u001b[0m\u001b[0;34m,\u001b[0m \u001b[0;34m'CACCT'\u001b[0m\u001b[0;34m,\u001b[0m \u001b[0;34m'GGATTA'\u001b[0m\u001b[0;34m,\u001b[0m \u001b[0;34m'TTCCGG'\u001b[0m\u001b[0;34m]\u001b[0m\u001b[0;34m\u001b[0m\u001b[0;34m\u001b[0m\u001b[0m\n\u001b[0;32m----> 2\u001b[0;31m \u001b[0mconsensus_sequence\u001b[0m\u001b[0;34m(\u001b[0m\u001b[0mm2\u001b[0m\u001b[0;34m)\u001b[0m\u001b[0;34m\u001b[0m\u001b[0;34m\u001b[0m\u001b[0m\n\u001b[0m",
      "\u001b[0;32m<ipython-input-54-95150065ca16>\u001b[0m in \u001b[0;36mconsensus_sequence\u001b[0;34m(motifs)\u001b[0m\n\u001b[1;32m      3\u001b[0m     motifs\"\"\"\n\u001b[1;32m      4\u001b[0m     \u001b[0mk\u001b[0m \u001b[0;34m=\u001b[0m \u001b[0mlen\u001b[0m\u001b[0;34m(\u001b[0m\u001b[0mmotifs\u001b[0m\u001b[0;34m[\u001b[0m\u001b[0;36m0\u001b[0m\u001b[0;34m]\u001b[0m\u001b[0;34m)\u001b[0m\u001b[0;34m\u001b[0m\u001b[0;34m\u001b[0m\u001b[0m\n\u001b[0;32m----> 5\u001b[0;31m     \u001b[0;32massert\u001b[0m \u001b[0mall\u001b[0m\u001b[0;34m(\u001b[0m\u001b[0mlen\u001b[0m\u001b[0;34m(\u001b[0m\u001b[0mx\u001b[0m\u001b[0;34m)\u001b[0m \u001b[0;34m==\u001b[0m \u001b[0mk\u001b[0m \u001b[0;32mfor\u001b[0m \u001b[0mx\u001b[0m \u001b[0;32min\u001b[0m \u001b[0mmotifs\u001b[0m\u001b[0;34m)\u001b[0m\u001b[0;34m,\u001b[0m \u001b[0mprint\u001b[0m\u001b[0;34m(\u001b[0m\u001b[0;34m'Motifs must have the same lengths'\u001b[0m\u001b[0;34m)\u001b[0m\u001b[0;34m\u001b[0m\u001b[0;34m\u001b[0m\u001b[0m\n\u001b[0m\u001b[1;32m      6\u001b[0m     \u001b[0mcounts\u001b[0m \u001b[0;34m=\u001b[0m \u001b[0mmotifs_count\u001b[0m\u001b[0;34m(\u001b[0m\u001b[0mmotifs\u001b[0m\u001b[0;34m)\u001b[0m\u001b[0;34m\u001b[0m\u001b[0;34m\u001b[0m\u001b[0m\n\u001b[1;32m      7\u001b[0m     \u001b[0mconsensus\u001b[0m \u001b[0;34m=\u001b[0m \u001b[0;34m''\u001b[0m\u001b[0;34m\u001b[0m\u001b[0;34m\u001b[0m\u001b[0m\n",
      "\u001b[0;31mAssertionError\u001b[0m: None"
     ]
    }
   ],
   "source": [
    "m2 = ['AACGTA', 'CCCGTT', 'CACCT', 'GGATTA', 'TTCCGG']\n",
    "consensus_sequence(m2)"
   ]
  },
  {
   "cell_type": "code",
   "execution_count": 31,
   "metadata": {},
   "outputs": [],
   "source": [
    "def profile_motifs(motifs):\n",
    "    \"\"\"Returns the frequence of the char[i] in the counts dictionary.\n",
    "    It is the division of the counts of the char divide by the length\n",
    "    of the motifs matrix\"\"\"\n",
    "    k = len(motifs[0])\n",
    "    assert all(len(x) == k for x in motifs), print('Motifs must have the same lengths')\n",
    "    counts = motifs_count(motifs)\n",
    "    return {char: [(count/len(motifs)) for count in counts[char]] for\n",
    "           char in counts.keys()}"
   ]
  },
  {
   "cell_type": "code",
   "execution_count": 63,
   "metadata": {},
   "outputs": [],
   "source": [
    "def motifs_scores(strings):\n",
    "    score = 0\n",
    "    consensus = consensus_sequence(strings)\n",
    "    for i in range(len(strings)):\n",
    "        for j in range(len(strings[0])):\n",
    "            if strings[i][j] != consensus[j]:\n",
    "                score += 1\n",
    "    return score"
   ]
  },
  {
   "cell_type": "code",
   "execution_count": 64,
   "metadata": {},
   "outputs": [
    {
     "data": {
      "text/plain": [
       "14"
      ]
     },
     "execution_count": 64,
     "metadata": {},
     "output_type": "execute_result"
    }
   ],
   "source": [
    "motifs_scores(m)"
   ]
  },
  {
   "cell_type": "code",
   "execution_count": 65,
   "metadata": {},
   "outputs": [
    {
     "data": {
      "text/plain": [
       "57"
      ]
     },
     "execution_count": 65,
     "metadata": {},
     "output_type": "execute_result"
    }
   ],
   "source": [
    "motifs_scores(m1)"
   ]
  },
  {
   "cell_type": "code",
   "execution_count": 66,
   "metadata": {},
   "outputs": [
    {
     "name": "stdout",
     "output_type": "stream",
     "text": [
      "Motifs must have the same lengths\n"
     ]
    },
    {
     "ename": "AssertionError",
     "evalue": "None",
     "output_type": "error",
     "traceback": [
      "\u001b[0;31m---------------------------------------------------------------------------\u001b[0m",
      "\u001b[0;31mAssertionError\u001b[0m                            Traceback (most recent call last)",
      "\u001b[0;32m<ipython-input-66-58ee1abd2cc5>\u001b[0m in \u001b[0;36m<module>\u001b[0;34m\u001b[0m\n\u001b[0;32m----> 1\u001b[0;31m \u001b[0mmotifs_scores\u001b[0m\u001b[0;34m(\u001b[0m\u001b[0mm2\u001b[0m\u001b[0;34m)\u001b[0m\u001b[0;34m\u001b[0m\u001b[0;34m\u001b[0m\u001b[0m\n\u001b[0m",
      "\u001b[0;32m<ipython-input-63-57b4f66783f8>\u001b[0m in \u001b[0;36mmotifs_scores\u001b[0;34m(strings)\u001b[0m\n\u001b[1;32m      1\u001b[0m \u001b[0;32mdef\u001b[0m \u001b[0mmotifs_scores\u001b[0m\u001b[0;34m(\u001b[0m\u001b[0mstrings\u001b[0m\u001b[0;34m)\u001b[0m\u001b[0;34m:\u001b[0m\u001b[0;34m\u001b[0m\u001b[0;34m\u001b[0m\u001b[0m\n\u001b[1;32m      2\u001b[0m     \u001b[0mscore\u001b[0m \u001b[0;34m=\u001b[0m \u001b[0;36m0\u001b[0m\u001b[0;34m\u001b[0m\u001b[0;34m\u001b[0m\u001b[0m\n\u001b[0;32m----> 3\u001b[0;31m     \u001b[0mconsensus\u001b[0m \u001b[0;34m=\u001b[0m \u001b[0mconsensus_sequence\u001b[0m\u001b[0;34m(\u001b[0m\u001b[0mstrings\u001b[0m\u001b[0;34m)\u001b[0m\u001b[0;34m\u001b[0m\u001b[0;34m\u001b[0m\u001b[0m\n\u001b[0m\u001b[1;32m      4\u001b[0m     \u001b[0;32mfor\u001b[0m \u001b[0mi\u001b[0m \u001b[0;32min\u001b[0m \u001b[0mrange\u001b[0m\u001b[0;34m(\u001b[0m\u001b[0mlen\u001b[0m\u001b[0;34m(\u001b[0m\u001b[0mstrings\u001b[0m\u001b[0;34m)\u001b[0m\u001b[0;34m)\u001b[0m\u001b[0;34m:\u001b[0m\u001b[0;34m\u001b[0m\u001b[0;34m\u001b[0m\u001b[0m\n\u001b[1;32m      5\u001b[0m         \u001b[0;32mfor\u001b[0m \u001b[0mj\u001b[0m \u001b[0;32min\u001b[0m \u001b[0mrange\u001b[0m\u001b[0;34m(\u001b[0m\u001b[0mlen\u001b[0m\u001b[0;34m(\u001b[0m\u001b[0mstrings\u001b[0m\u001b[0;34m[\u001b[0m\u001b[0;36m0\u001b[0m\u001b[0;34m]\u001b[0m\u001b[0;34m)\u001b[0m\u001b[0;34m)\u001b[0m\u001b[0;34m:\u001b[0m\u001b[0;34m\u001b[0m\u001b[0;34m\u001b[0m\u001b[0m\n",
      "\u001b[0;32m<ipython-input-54-95150065ca16>\u001b[0m in \u001b[0;36mconsensus_sequence\u001b[0;34m(motifs)\u001b[0m\n\u001b[1;32m      3\u001b[0m     motifs\"\"\"\n\u001b[1;32m      4\u001b[0m     \u001b[0mk\u001b[0m \u001b[0;34m=\u001b[0m \u001b[0mlen\u001b[0m\u001b[0;34m(\u001b[0m\u001b[0mmotifs\u001b[0m\u001b[0;34m[\u001b[0m\u001b[0;36m0\u001b[0m\u001b[0;34m]\u001b[0m\u001b[0;34m)\u001b[0m\u001b[0;34m\u001b[0m\u001b[0;34m\u001b[0m\u001b[0m\n\u001b[0;32m----> 5\u001b[0;31m     \u001b[0;32massert\u001b[0m \u001b[0mall\u001b[0m\u001b[0;34m(\u001b[0m\u001b[0mlen\u001b[0m\u001b[0;34m(\u001b[0m\u001b[0mx\u001b[0m\u001b[0;34m)\u001b[0m \u001b[0;34m==\u001b[0m \u001b[0mk\u001b[0m \u001b[0;32mfor\u001b[0m \u001b[0mx\u001b[0m \u001b[0;32min\u001b[0m \u001b[0mmotifs\u001b[0m\u001b[0;34m)\u001b[0m\u001b[0;34m,\u001b[0m \u001b[0mprint\u001b[0m\u001b[0;34m(\u001b[0m\u001b[0;34m'Motifs must have the same lengths'\u001b[0m\u001b[0;34m)\u001b[0m\u001b[0;34m\u001b[0m\u001b[0;34m\u001b[0m\u001b[0m\n\u001b[0m\u001b[1;32m      6\u001b[0m     \u001b[0mcounts\u001b[0m \u001b[0;34m=\u001b[0m \u001b[0mmotifs_count\u001b[0m\u001b[0;34m(\u001b[0m\u001b[0mmotifs\u001b[0m\u001b[0;34m)\u001b[0m\u001b[0;34m\u001b[0m\u001b[0;34m\u001b[0m\u001b[0m\n\u001b[1;32m      7\u001b[0m     \u001b[0mconsensus\u001b[0m \u001b[0;34m=\u001b[0m \u001b[0;34m''\u001b[0m\u001b[0;34m\u001b[0m\u001b[0;34m\u001b[0m\u001b[0m\n",
      "\u001b[0;31mAssertionError\u001b[0m: None"
     ]
    }
   ],
   "source": [
    "motifs_scores(m2)"
   ]
  },
  {
   "cell_type": "code",
   "execution_count": 67,
   "metadata": {},
   "outputs": [],
   "source": [
    "def motif_probability(string, profile):\n",
    "    \"\"\"Returns the probability that sequence fits the profile\"\"\"\n",
    "    probability = 1\n",
    "    for i, char in enumerate(string):\n",
    "        probability *= profile[char][i]\n",
    "    return probability"
   ]
  },
  {
   "cell_type": "code",
   "execution_count": 68,
   "metadata": {},
   "outputs": [
    {
     "data": {
      "text/plain": [
       "0.0008398080000000002"
      ]
     },
     "execution_count": 68,
     "metadata": {},
     "output_type": "execute_result"
    }
   ],
   "source": [
    "s = 'ACGGGGATTACC'  # 0.0008398080000000002\n",
    "profile =  { 'A': [ 0.2 ,0.2 ,0.0 ,0.0 ,0.0 ,0.0, 0.9, 0.1, 0.1, 0.1, 0.3, 0.0],\n",
    "             'C': [ 0.1 ,0.6 ,0.0 ,0.0 ,0.0 ,0.0 ,0.0 ,0.4 ,0.1, 0.2, 0.4, 0.6], \n",
    "             'G': [ 0.0 ,0.0 ,1.0 ,1.0 ,0.9 ,0.9 ,0.1 ,0.0, 0.0 ,0.0 ,0.0, 0.0], \n",
    "             'T': [ 0.7 ,0.2 ,0.0 ,0.0 ,0.1 ,0.1 ,0.0, 0.5 ,0.8, 0.7, 0.3, 0.4]}\n",
    "\n",
    "motif_probability(s, profile)"
   ]
  },
  {
   "cell_type": "code",
   "execution_count": 69,
   "metadata": {},
   "outputs": [
    {
     "data": {
      "text/plain": [
       "3.265920000000001e-05"
      ]
     },
     "execution_count": 69,
     "metadata": {},
     "output_type": "execute_result"
    }
   ],
   "source": [
    "s1 = 'TCGGGGGCCACC' # 3.26592e-05\n",
    "p1 = {'A': [0.2, 0.2, 0.0, 0.0, 0.0, 0.0, 0.9, 0.1, 0.1, 0.1, 0.3, 0.0],\n",
    "      'C': [0.1, 0.6, 0.0, 0.0, 0.0, 0.0, 0.0, 0.4, 0.1, 0.2, 0.4, 0.6],\n",
    "      'G': [0.0, 0.0, 1.0, 1.0, 0.9, 0.9, 0.1, 0.0, 0.0, 0.0, 0.0, 0.0],\n",
    "      'T': [0.7, 0.2, 0.0, 0.0, 0.1, 0.1, 0.0, 0.5, 0.8, 0.7, 0.3, 0.4]}\n",
    "motif_probability(s1, p1)"
   ]
  },
  {
   "cell_type": "code",
   "execution_count": 38,
   "metadata": {},
   "outputs": [],
   "source": [
    "def probability_motifs(string, profile):\n",
    "    freqs = [profile[char][i] for i, char in enumerate(string)]\n",
    "    return reduce(mul, freqs)"
   ]
  },
  {
   "cell_type": "code",
   "execution_count": 39,
   "metadata": {},
   "outputs": [
    {
     "data": {
      "text/plain": [
       "0.0008398080000000002"
      ]
     },
     "execution_count": 39,
     "metadata": {},
     "output_type": "execute_result"
    }
   ],
   "source": [
    "probability_motifs(s, profile)"
   ]
  },
  {
   "cell_type": "code",
   "execution_count": 40,
   "metadata": {},
   "outputs": [
    {
     "data": {
      "text/plain": [
       "3.265920000000001e-05"
      ]
     },
     "execution_count": 40,
     "metadata": {},
     "output_type": "execute_result"
    }
   ],
   "source": [
    "probability_motifs(s1, p1)"
   ]
  },
  {
   "cell_type": "code",
   "execution_count": 41,
   "metadata": {},
   "outputs": [
    {
     "name": "stdout",
     "output_type": "stream",
     "text": [
      "0.00014858800000183692\n"
     ]
    }
   ],
   "source": [
    "t0 = process_time()\n",
    "motif_probability(s1, p1)\n",
    "t1 = process_time()\n",
    "tot = t1 - t0\n",
    "print(tot)"
   ]
  },
  {
   "cell_type": "code",
   "execution_count": 42,
   "metadata": {},
   "outputs": [
    {
     "name": "stdout",
     "output_type": "stream",
     "text": [
      "0.000156182999997867\n"
     ]
    }
   ],
   "source": [
    "t0 = process_time()\n",
    "probability_motifs(s1, p1)\n",
    "t1 = process_time()\n",
    "tot = t1 - t0\n",
    "print(tot)"
   ]
  },
  {
   "cell_type": "code",
   "execution_count": 141,
   "metadata": {},
   "outputs": [],
   "source": [
    "def get_most_probable_Kmer_from_profile(strings, k, profile):\n",
    "    \"\"\"Returns the most probable kmer of length k from a given string\"\"\"\n",
    "    prob = -1  # must be -1 because you have some kmer with prob zero\n",
    "    most_prob_kmer = strings[:k]\n",
    "    for i in range(len(strings) - k + 1):\n",
    "        seq = strings[i:i+k]\n",
    "        prob_most = motif_probability(seq, profile)\n",
    "        if prob_most > prob:\n",
    "            prob = prob_most\n",
    "            most_prob_kmer = seq\n",
    "    return most_prob_kmer"
   ]
  },
  {
   "cell_type": "code",
   "execution_count": 142,
   "metadata": {},
   "outputs": [
    {
     "data": {
      "text/plain": [
       "'CCGAG'"
      ]
     },
     "execution_count": 142,
     "metadata": {},
     "output_type": "execute_result"
    }
   ],
   "source": [
    "prof = {'A': [0.2, 0.2, 0.3, 0.2, 0.3],\n",
    "        'C': [0.4, 0.3, 0.1, 0.5, 0.1],\n",
    "        'G': [0.3, 0.3, 0.5, 0.2, 0.4],\n",
    "        'T': [0.1, 0.2, 0.1, 0.1, 0.2]}\n",
    "\n",
    "seq = 'ACCTGTTTATTGCCTAAGTTCCGAACAAACCCAATATAGCCCGAGGGCCT'  # CCGAG\n",
    "get_most_probable_Kmer_from_profile(seq, 5, prof)"
   ]
  },
  {
   "cell_type": "code",
   "execution_count": 143,
   "metadata": {},
   "outputs": [
    {
     "name": "stdout",
     "output_type": "stream",
     "text": [
      "AGCAGCTT\n",
      "AAGCAGAGTTTA\n",
      "AAC\n",
      "CAGCG\n"
     ]
    }
   ],
   "source": [
    "# Check if you're missing the first kmer of Text AGCAGCTT\n",
    "seq1 = 'AGCAGCTTTGACTGCAACGGGCAATATGTCTCTGTGTGGATTAAAAAAAGAGTGTCTGATCTGAACTGGTTACCTGCCGTGAGTAAAT'\n",
    "prof1 = { 'A': [ 0.7, 0.2, 0.1, 0.5, 0.4, 0.3, 0.2, 0.1],\n",
    "         'C': [ 0.2, 0.2, 0.5, 0.4, 0.2, 0.3, 0.1, 0.6], \n",
    "         'G': [0.1, 0.3, 0.2, 0.1, 0.2, 0.1, 0.4, 0.2], \n",
    "         'T': [ 0.0, 0.3, 0.2, 0.0, 0.2, 0.3, 0.3, 0.1]}\n",
    "k1 = 8\n",
    "print(get_most_probable_Kmer_from_profile(seq1, k1, prof1))\n",
    "\n",
    "# Check if you are missing the last kmer of Text AAGCAGAGTTTA\n",
    "seq2 = 'TTACCATGGGACCGCTGACTGATTTCTGGCGTCAGCGTGATGCTGGTGTGGATGACATTCCGGTGCGCTTTGTAAGCAGAGTTTA'\n",
    "prof2= { 'A': [ 0.2, 0.3, 0.4, 0.5, 0.6, 0.7, 0.8, 0.1, 0.2, 0.3, 0.4, 0.5],\n",
    "        'C': [ 0.3, 0.2, 0.1, 0.1, 0.2, 0.1, 0.1, 0.4, 0.3, 0.2, 0.2, 0.1], \n",
    "        'G': [0.2, 0.1, 0.4, 0.3, 0.1, 0.1, 0.1, 0.3, 0.1, 0.1, 0.2, 0.1], \n",
    "        'T': [ 0.3, 0.4, 0.1, 0.1, 0.1, 0.1, 0.0, 0.2, 0.4, 0.4, 0.2, 0.3]}\n",
    "k2 = 12\n",
    "print(get_most_probable_Kmer_from_profile(seq2, k2, prof2))\n",
    "\n",
    "# Check if you correctly handle ties (you should pick the first such kmer) AAC\n",
    "seq3 = 'AACCGGTT'\n",
    "prof3= { 'A': [ 1.0 ,1.0, 1.0],'C': [ 0.0, 0.0, 0.0], 'G': [ 0.0, 0.0, 0.0], 'T': [ 0.0, 0.0, 0.0]}\n",
    "k3 = 3\n",
    "print(get_most_probable_Kmer_from_profile(seq3, k3, prof3))\n",
    "\n",
    "# code grade CAGCG\n",
    "seq4 = 'TTACCATGGGACCGCTGACTGATTTCTGGCGTCAGCGTGATGCTGGTGTGGATGACATTCCGGTGCGCTTTGTAAGCAGAGTTTA'\n",
    "prof4= { 'A': [ 0.2, 0.2, 0.3, 0.2, 0.3],'C': [ 0.4, 0.3, 0.1, 0.5, 0.1], \n",
    "        'G': [ 0.3, 0.3, 0.5, 0.2, 0.4], 'T': [0.1, 0.2, 0.1 ,0.1, 0.2]}\n",
    "k4 = 5\n",
    "print(get_most_probable_Kmer_from_profile(seq4, k4, prof4))"
   ]
  },
  {
   "cell_type": "code",
   "execution_count": 144,
   "metadata": {},
   "outputs": [],
   "source": [
    "def ProfileMostProbableKmer(text, k, profile):\n",
    "    n = len(text)\n",
    "    P = {}\n",
    "    for i in range(n-k+1):\n",
    "        Text = text[i:i+k]\n",
    "        Probability = Pr(Text, profile)\n",
    "        P[Text] = Probability\n",
    "        maximum = max(P, key = P.get)\n",
    "    return maximum\n",
    "\n",
    "def Pr(Text, Profile):\n",
    "    p = 1\n",
    "    for i in range(len(Text)):\n",
    "        p = p * Profile[Text[i]][i]\n",
    "    return p"
   ]
  },
  {
   "cell_type": "code",
   "execution_count": 145,
   "metadata": {},
   "outputs": [
    {
     "name": "stdout",
     "output_type": "stream",
     "text": [
      "AGCAGCTT\n",
      "AAGCAGAGTTTA\n",
      "AAC\n",
      "CAGCG\n"
     ]
    }
   ],
   "source": [
    "# Check if you're missing the first kmer of Text AGCAGCTT\n",
    "seq1 = 'AGCAGCTTTGACTGCAACGGGCAATATGTCTCTGTGTGGATTAAAAAAAGAGTGTCTGATCTGAACTGGTTACCTGCCGTGAGTAAAT'\n",
    "prof1 = { 'A': [ 0.7, 0.2, 0.1, 0.5, 0.4, 0.3, 0.2, 0.1],\n",
    "         'C': [ 0.2, 0.2, 0.5, 0.4, 0.2, 0.3, 0.1, 0.6], \n",
    "         'G': [0.1, 0.3, 0.2, 0.1, 0.2, 0.1, 0.4, 0.2], \n",
    "         'T': [ 0.0, 0.3, 0.2, 0.0, 0.2, 0.3, 0.3, 0.1]}\n",
    "k1 = 8\n",
    "print(ProfileMostProbableKmer(seq1, k1, prof1))\n",
    "\n",
    "# Check if you are missing the last kmer of Text AAGCAGAGTTTA\n",
    "seq2 = 'TTACCATGGGACCGCTGACTGATTTCTGGCGTCAGCGTGATGCTGGTGTGGATGACATTCCGGTGCGCTTTGTAAGCAGAGTTTA'\n",
    "prof2= { 'A': [ 0.2, 0.3, 0.4, 0.5, 0.6, 0.7, 0.8, 0.1, 0.2, 0.3, 0.4, 0.5],\n",
    "        'C': [ 0.3, 0.2, 0.1, 0.1, 0.2, 0.1, 0.1, 0.4, 0.3, 0.2, 0.2, 0.1], \n",
    "        'G': [0.2, 0.1, 0.4, 0.3, 0.1, 0.1, 0.1, 0.3, 0.1, 0.1, 0.2, 0.1], \n",
    "        'T': [ 0.3, 0.4, 0.1, 0.1, 0.1, 0.1, 0.0, 0.2, 0.4, 0.4, 0.2, 0.3]}\n",
    "k2 = 12\n",
    "print(ProfileMostProbableKmer(seq2, k2, prof2))\n",
    "\n",
    "# Check if you correctly handle ties (you should pick the first such kmer) AAC\n",
    "seq3 = 'AACCGGTT'\n",
    "prof3= { 'A': [ 1.0 ,1.0, 1.0],'C': [ 0.0, 0.0, 0.0], 'G': [ 0.0, 0.0, 0.0], 'T': [ 0.0, 0.0, 0.0]}\n",
    "k3 = 3\n",
    "print(ProfileMostProbableKmer(seq3, k3, prof3))\n",
    "\n",
    "# code grade CAGCG\n",
    "seq4 = 'TTACCATGGGACCGCTGACTGATTTCTGGCGTCAGCGTGATGCTGGTGTGGATGACATTCCGGTGCGCTTTGTAAGCAGAGTTTA'\n",
    "prof4= { 'A': [ 0.2, 0.2, 0.3, 0.2, 0.3],'C': [ 0.4, 0.3, 0.1, 0.5, 0.1], \n",
    "        'G': [ 0.3, 0.3, 0.5, 0.2, 0.4], 'T': [0.1, 0.2, 0.1 ,0.1, 0.2]}\n",
    "k4 = 5\n",
    "print(ProfileMostProbableKmer(seq4, k4, prof4))"
   ]
  },
  {
   "cell_type": "code",
   "execution_count": 77,
   "metadata": {},
   "outputs": [
    {
     "name": "stdout",
     "output_type": "stream",
     "text": [
      "0.000366527000000616\n"
     ]
    }
   ],
   "source": [
    "t0 = process_time()\n",
    "get_most_probable_Kmer_from_profile(seq2, k2, prof2)\n",
    "t1 = process_time()\n",
    "tot = t1 - t0\n",
    "print(tot)"
   ]
  },
  {
   "cell_type": "code",
   "execution_count": 78,
   "metadata": {},
   "outputs": [
    {
     "name": "stdout",
     "output_type": "stream",
     "text": [
      "0.0008138459999997849\n"
     ]
    }
   ],
   "source": [
    "t0 = process_time()\n",
    "ProfileMostProbableKmer(seq2, k2, prof2)\n",
    "t1 = process_time()\n",
    "tot = t1 - t0\n",
    "print(tot)"
   ]
  },
  {
   "cell_type": "code",
   "execution_count": 80,
   "metadata": {},
   "outputs": [],
   "source": [
    "def greedy_motif_search(string, k, t):\n",
    "    best_motifs = []\n",
    "    for i in range(0, t):\n",
    "        best_motifs.append(string[i][0:k])\n",
    "    n = len(string[0])\n",
    "    for i in range(n - k + 1):\n",
    "        motifs = []\n",
    "        motifs.append(string[0][i:i + k])\n",
    "        for j in range(1, t):\n",
    "            profile = profile_motifs(motifs[0:j])\n",
    "            motifs.append(get_most_probable_Kmer_from_profile(string[j], k, profile))\n",
    "        if motifs_scores(motifs) < motifs_scores(best_motifs):\n",
    "            best_motifs = motifs\n",
    "    return (best_motifs)"
   ]
  },
  {
   "cell_type": "code",
   "execution_count": 81,
   "metadata": {},
   "outputs": [
    {
     "data": {
      "text/plain": [
       "['CAG', 'CAG', 'CAA', 'CAA', 'CAA']"
      ]
     },
     "execution_count": 81,
     "metadata": {},
     "output_type": "execute_result"
    }
   ],
   "source": [
    "motifs = [\"GGCGTTCAGGCA\", \"AAGAATCAGTCA\", \"CAAGGAGTTCGC\",\"CACGTCAATCAC\", \"CAATAATATTCG\"]\n",
    "greedy_motif_search(motifs, 3, 5)\n",
    "# CAG    CAG    CAA    CAA    CAA"
   ]
  },
  {
   "cell_type": "code",
   "execution_count": 82,
   "metadata": {},
   "outputs": [
    {
     "name": "stdout",
     "output_type": "stream",
     "text": [
      "['GCC', 'GCC', 'AAC', 'TTC']\n"
     ]
    }
   ],
   "source": [
    "# Check if you're returning the first occuring Profile-most probable kmer (in the case of a tie)\n",
    "seq_lst1 = ['GCCCAA', 'GGCCTG', 'AACCTA', 'TTCCTT']\n",
    "k1, t1 = 3, 4\n",
    "print(greedy_motif_search(seq_lst1, k1, t1))\n",
    "# GCC    GCC    AAC    TTC"
   ]
  },
  {
   "cell_type": "code",
   "execution_count": 83,
   "metadata": {},
   "outputs": [
    {
     "name": "stdout",
     "output_type": "stream",
     "text": [
      "['GAGGC', 'TCATC', 'TCGGC', 'GAGTC', 'GCAGC', 'GCGGC', 'GCGGC', 'GCATC']\n"
     ]
    }
   ],
   "source": [
    "# Check if you're missing the first kmer of each string in Dna\n",
    "\n",
    "seq_lst2 = ['GAGGCGCACATCATTATCGATAACGATTCGCCGCATTGCC', \n",
    "            'TCATCGAATCCGATAACTGACACCTGCTCTGGCACCGCTC', \n",
    "            'TCGGCGGTATAGCCAGAAAGCGTAGTGCCAATAATTTCCT', \n",
    "            'GAGTCGTGGTGAAGTGTGGGTTATGGGGAAAGGCAGACTG',\n",
    "            'GACGGCAACTACGGTTACAACGCAGCAACCGAAGAATATT',\n",
    "            'TCTGTTGTTGCTAACACCGTTAAAGGCGGCGACGGCAACT',\n",
    "            'AAGCGGCCAACGTAGGCGCGGCTTGGCATCTCGGTGTGTG',\n",
    "            'AATTGAAAGGCGCATCTTACTCTTTTCGCTTTCAAAAAAA']\n",
    "k2, t2 = 5, 8\n",
    "print(greedy_motif_search(seq_lst2, k2, t2))\n",
    "# GAGGC    TCATC    TCGGC    GAGTC    GCAGC    GCGGC    GCGGC    GCATC"
   ]
  },
  {
   "cell_type": "code",
   "execution_count": 84,
   "metadata": {},
   "outputs": [
    {
     "name": "stdout",
     "output_type": "stream",
     "text": [
      "['GTGCGT', 'GTGCGT', 'GCGCCA', 'GTGCCA', 'GCGCCA']\n"
     ]
    }
   ],
   "source": [
    "# Check if you're missing the last kmer of each string in Dna\n",
    "\n",
    "seq_lst3 = ['GCAGGTTAATACCGCGGATCAGCTGAGAAACCGGAATGTGCGT', \n",
    "            'CCTGCATGCCCGGTTTGAGGAACATCAGCGAAGAACTGTGCGT', \n",
    "            'GCGCCAGTAACCCGTGCCAGTCAGGTTAATGGCAGTAACATTT',\n",
    "            'AACCCGTGCCAGTCAGGTTAATGGCAGTAACATTTATGCCTTC',\n",
    "            'ATGCCTTCCGCGCCAATTGTTCGTATCGTCGCCACTTCGAGTG']\n",
    "k3, t3 = 6, 5\n",
    "print(greedy_motif_search(seq_lst3, k3, t3))\n",
    "# GTGCGT    GTGCGT    GCGCCA    GTGCCA    GCGCCA"
   ]
  },
  {
   "cell_type": "code",
   "execution_count": 85,
   "metadata": {},
   "outputs": [
    {
     "name": "stdout",
     "output_type": "stream",
     "text": [
      "['GCAGC', 'TCATT', 'GGAGT', 'TCATC', 'GCATC', 'GCATC', 'GGTAT', 'GCAAC']\n"
     ]
    }
   ],
   "source": [
    "# Check if you're not breaking ties properly\n",
    "\n",
    "seq_lst4 = ['GACCTACGGTTACAACGCAGCAACCGAAGAATATTGGCAA',\n",
    "    'TCATTATCGATAACGATTCGCCGGAGGCCATTGCCGCACA',\n",
    "    'GGAGTCTGGTGAAGTGTGGGTTATGGGGCAGACTGGGAAA',\n",
    "    'GAATCCGATAACTGACACCTGCTCTGGCACCGCTCTCATC',\n",
    "    'AAGCGCGTAGGCGCGGCTTGGCATCTCGGTGTGTGGCCAA',\n",
    "    'AATTGAAAGGCGCATCTTACTCTTTTCGCTTAAAATCAAA',\n",
    "    'GGTATAGCCAGAAAGCGTAGTTAATTTCGGCTCCTGCCAA',\n",
    "    'TCTGTTGTTGCTAACACCGTTAAAGGCGGCGACGGCAACT']\n",
    "k4, t4 = 5, 8\n",
    "print(greedy_motif_search(seq_lst4, k4, t4))\n",
    "# GCAGC    TCATT    GGAGT    TCATC    GCATC    GCATC   GGTAT    GCAAC"
   ]
  },
  {
   "cell_type": "code",
   "execution_count": 86,
   "metadata": {},
   "outputs": [
    {
     "name": "stdout",
     "output_type": "stream",
     "text": [
      "['CGCA', 'CGCA', 'GGAG', 'GGCA', 'GGCA', 'CGCA', 'GGTA', 'GGCA']\n"
     ]
    }
   ],
   "source": [
    "# data set\n",
    "seq_lst5 = ['GACCTACGGTTACAACGCAGCAACCGAAGAATATTGGCAA',\n",
    "    'TCATTATCGATAACGATTCGCCGGAGGCCATTGCCGCACA',\n",
    "    'GGAGTCTGGTGAAGTGTGGGTTATGGGGCAGACTGGGAAA',\n",
    "    'GAATCCGATAACTGACACCTGCTCTGGCACCGCTCTCATC',\n",
    "    'AAGCGCGTAGGCGCGGCTTGGCATCTCGGTGTGTGGCCAA',\n",
    "    'AATTGAAAGGCGCATCTTACTCTTTTCGCTTAAAATCAAA',\n",
    "    'GGTATAGCCAGAAAGCGTAGTTAATTTCGGCTCCTGCCAA',\n",
    "    'TCTGTTGTTGCTAACACCGTTAAAGGCGGCGACGGCAACT']\n",
    "k5, t5 = 4, 8\n",
    "\n",
    "print(greedy_motif_search(seq_lst5, k5, t5))\n",
    "# CGCA    CGCA    GGAG    GGCA    GGCA    CGCA    GGTA    GGCA"
   ]
  },
  {
   "cell_type": "code",
   "execution_count": 87,
   "metadata": {},
   "outputs": [],
   "source": [
    "def greedy_search_motif(strings, k, t):\n",
    "    best_motifs = [strings[i][0:k] for i in range(len(strings))]\n",
    "    motifs = [strings[0][i:i + k] for i in range(len(strings[0]) - k + 1)]\n",
    "    for motif in motifs:\n",
    "        temp_motifs = [motif]\n",
    "        for j in range(1, len(strings)):\n",
    "            profile = profile_motifs(temp_motifs)\n",
    "            temp_motifs.append(get_most_probable_Kmer_from_profile(strings[j], k, profile))\n",
    "        if motifs_scores(temp_motifs) < motifs_scores(best_motifs):\n",
    "            best_motifs = temp_motifs\n",
    "    return best_motifs"
   ]
  },
  {
   "cell_type": "code",
   "execution_count": 88,
   "metadata": {},
   "outputs": [
    {
     "data": {
      "text/plain": [
       "['CAG', 'CAG', 'CAA', 'CAA', 'CAA']"
      ]
     },
     "execution_count": 88,
     "metadata": {},
     "output_type": "execute_result"
    }
   ],
   "source": [
    "greedy_search_motif(motifs, 3, 5)"
   ]
  },
  {
   "cell_type": "code",
   "execution_count": 89,
   "metadata": {},
   "outputs": [
    {
     "data": {
      "text/plain": [
       "['CAG', 'CAG', 'CAA', 'CAA', 'CAA']"
      ]
     },
     "execution_count": 89,
     "metadata": {},
     "output_type": "execute_result"
    }
   ],
   "source": [
    "motifs = [\"GGCGTTCAGGCA\", \"AAGAATCAGTCA\", \"CAAGGAGTTCGC\",\"CACGTCAATCAC\", \"CAATAATATTCG\"]\n",
    "greedy_search_motif(motifs, 3, 5)\n",
    "# CAG    CAG    CAA    CAA    CAA"
   ]
  },
  {
   "cell_type": "code",
   "execution_count": 90,
   "metadata": {},
   "outputs": [
    {
     "name": "stdout",
     "output_type": "stream",
     "text": [
      "['GCC', 'GCC', 'AAC', 'TTC']\n"
     ]
    }
   ],
   "source": [
    "# Check if you're returning the first occuring Profile-most probable kmer (in the case of a tie)\n",
    "seq_lst1 = ['GCCCAA', 'GGCCTG', 'AACCTA', 'TTCCTT']\n",
    "k1, t1 = 3, 4\n",
    "print(greedy_search_motif(seq_lst1, k1, t1))\n",
    "# GCC    GCC    AAC    TTC"
   ]
  },
  {
   "cell_type": "code",
   "execution_count": 91,
   "metadata": {},
   "outputs": [
    {
     "name": "stdout",
     "output_type": "stream",
     "text": [
      "['GAGGC', 'TCATC', 'TCGGC', 'GAGTC', 'GCAGC', 'GCGGC', 'GCGGC', 'GCATC']\n"
     ]
    }
   ],
   "source": [
    "# Check if you're missing the first kmer of each string in Dna\n",
    "\n",
    "seq_lst2 = ['GAGGCGCACATCATTATCGATAACGATTCGCCGCATTGCC', \n",
    "            'TCATCGAATCCGATAACTGACACCTGCTCTGGCACCGCTC', \n",
    "            'TCGGCGGTATAGCCAGAAAGCGTAGTGCCAATAATTTCCT', \n",
    "            'GAGTCGTGGTGAAGTGTGGGTTATGGGGAAAGGCAGACTG',\n",
    "            'GACGGCAACTACGGTTACAACGCAGCAACCGAAGAATATT',\n",
    "            'TCTGTTGTTGCTAACACCGTTAAAGGCGGCGACGGCAACT',\n",
    "            'AAGCGGCCAACGTAGGCGCGGCTTGGCATCTCGGTGTGTG',\n",
    "            'AATTGAAAGGCGCATCTTACTCTTTTCGCTTTCAAAAAAA']\n",
    "k2, t2 = 5, 8\n",
    "print(greedy_search_motif(seq_lst2, k2, t2))\n",
    "# GAGGC    TCATC    TCGGC    GAGTC    GCAGC    GCGGC    GCGGC    GCATC"
   ]
  },
  {
   "cell_type": "code",
   "execution_count": 92,
   "metadata": {},
   "outputs": [
    {
     "name": "stdout",
     "output_type": "stream",
     "text": [
      "['GTGCGT', 'GTGCGT', 'GCGCCA', 'GTGCCA', 'GCGCCA']\n"
     ]
    }
   ],
   "source": [
    "# Check if you're missing the last kmer of each string in Dna\n",
    "\n",
    "seq_lst3 = ['GCAGGTTAATACCGCGGATCAGCTGAGAAACCGGAATGTGCGT', \n",
    "            'CCTGCATGCCCGGTTTGAGGAACATCAGCGAAGAACTGTGCGT', \n",
    "            'GCGCCAGTAACCCGTGCCAGTCAGGTTAATGGCAGTAACATTT',\n",
    "            'AACCCGTGCCAGTCAGGTTAATGGCAGTAACATTTATGCCTTC',\n",
    "            'ATGCCTTCCGCGCCAATTGTTCGTATCGTCGCCACTTCGAGTG']\n",
    "k3, t3 = 6, 5\n",
    "print(greedy_search_motif(seq_lst3, k3, t3))\n",
    "# GTGCGT    GTGCGT    GCGCCA    GTGCCA    GCGCCA"
   ]
  },
  {
   "cell_type": "code",
   "execution_count": 93,
   "metadata": {},
   "outputs": [
    {
     "name": "stdout",
     "output_type": "stream",
     "text": [
      "['GCAGC', 'TCATT', 'GGAGT', 'TCATC', 'GCATC', 'GCATC', 'GGTAT', 'GCAAC']\n"
     ]
    }
   ],
   "source": [
    "# Check if you're not breaking ties properly\n",
    "\n",
    "seq_lst4 = ['GACCTACGGTTACAACGCAGCAACCGAAGAATATTGGCAA',\n",
    "    'TCATTATCGATAACGATTCGCCGGAGGCCATTGCCGCACA',\n",
    "    'GGAGTCTGGTGAAGTGTGGGTTATGGGGCAGACTGGGAAA',\n",
    "    'GAATCCGATAACTGACACCTGCTCTGGCACCGCTCTCATC',\n",
    "    'AAGCGCGTAGGCGCGGCTTGGCATCTCGGTGTGTGGCCAA',\n",
    "    'AATTGAAAGGCGCATCTTACTCTTTTCGCTTAAAATCAAA',\n",
    "    'GGTATAGCCAGAAAGCGTAGTTAATTTCGGCTCCTGCCAA',\n",
    "    'TCTGTTGTTGCTAACACCGTTAAAGGCGGCGACGGCAACT']\n",
    "k4, t4 = 5, 8\n",
    "print(greedy_search_motif(seq_lst4, k4, t4))\n",
    "# GCAGC    TCATT    GGAGT    TCATC    GCATC    GCATC   GGTAT    GCAAC"
   ]
  },
  {
   "cell_type": "code",
   "execution_count": 94,
   "metadata": {},
   "outputs": [
    {
     "name": "stdout",
     "output_type": "stream",
     "text": [
      "['CGCA', 'CGCA', 'GGAG', 'GGCA', 'GGCA', 'CGCA', 'GGTA', 'GGCA']\n"
     ]
    }
   ],
   "source": [
    "# data set\n",
    "seq_lst5 = ['GACCTACGGTTACAACGCAGCAACCGAAGAATATTGGCAA',\n",
    "    'TCATTATCGATAACGATTCGCCGGAGGCCATTGCCGCACA',\n",
    "    'GGAGTCTGGTGAAGTGTGGGTTATGGGGCAGACTGGGAAA',\n",
    "    'GAATCCGATAACTGACACCTGCTCTGGCACCGCTCTCATC',\n",
    "    'AAGCGCGTAGGCGCGGCTTGGCATCTCGGTGTGTGGCCAA',\n",
    "    'AATTGAAAGGCGCATCTTACTCTTTTCGCTTAAAATCAAA',\n",
    "    'GGTATAGCCAGAAAGCGTAGTTAATTTCGGCTCCTGCCAA',\n",
    "    'TCTGTTGTTGCTAACACCGTTAAAGGCGGCGACGGCAACT']\n",
    "k5, t5 = 4, 8\n",
    "\n",
    "print(greedy_search_motif(seq_lst5, k5, t5))\n",
    "# CGCA    CGCA    GGAG    GGCA    GGCA    CGCA    GGTA    GGCA"
   ]
  },
  {
   "cell_type": "code",
   "execution_count": 95,
   "metadata": {},
   "outputs": [
    {
     "name": "stdout",
     "output_type": "stream",
     "text": [
      "0.022592745000000747\n"
     ]
    }
   ],
   "source": [
    "t0 = process_time()\n",
    "greedy_motif_search(seq_lst2, k2, t2)\n",
    "t1 = process_time()\n",
    "tot = t1 - t0\n",
    "print(tot)"
   ]
  },
  {
   "cell_type": "code",
   "execution_count": 96,
   "metadata": {},
   "outputs": [
    {
     "name": "stdout",
     "output_type": "stream",
     "text": [
      "0.02252455800000064\n"
     ]
    }
   ],
   "source": [
    "t0 = process_time()\n",
    "greedy_search_motif(seq_lst2, k2, t2)\n",
    "t1 = process_time()\n",
    "tot = t1 - t0\n",
    "print(tot)"
   ]
  },
  {
   "cell_type": "code",
   "execution_count": 97,
   "metadata": {},
   "outputs": [
    {
     "name": "stdout",
     "output_type": "stream",
     "text": [
      "['GTTAGGGCCGGAAGT', 'CCGATCGGCATCACT', 'ACCGTCGATGTGCCC', 'GGGTCAGGTATATTT', 'GTGACCGACGTCCCC', 'CTGTTCGCCGGCAGC', 'CTGTTCGATATCACC', 'GTACATGTCCAGAGC', 'GCGATAGGTGAGATT', 'CTCATCGCTGTCATC']\n",
      "64\n",
      "\n",
      "['GTTAGGGCCGGAAGT', 'CCGATCGGCATCACT', 'ACCGTCGATGTGCCC', 'GGGTCAGGTATATTT', 'GTGACCGACGTCCCC', 'CTGTTCGCCGGCAGC', 'CTGTTCGATATCACC', 'GTACATGTCCAGAGC', 'GCGATAGGTGAGATT', 'CTCATCGCTGTCATC']\n",
      "64\n"
     ]
    }
   ],
   "source": [
    "tb_DosR = [\"GCGCCCCGCCCGGACAGCCATGCGCTAACCCTGGCTTCGATGGCGCCGGCTCAGTTAGGGCCGGAAGTCCCCAATGTGGCAGACCTTTCGCCCCTGGCGGACGAATGACCCCAGTGGCCGGGACTTCAGGCCCTATCGGAGGGCTCCGGCGCGGTGGTCGGATTTGTCTGTGGAGGTTACACCCCAATCGCAAGGATGCATTATGACCAGCGAGCTGAGCCTGGTCGCCACTGGAAAGGGGAGCAACATC\", \n",
    "           \"CCGATCGGCATCACTATCGGTCCTGCGGCCGCCCATAGCGCTATATCCGGCTGGTGAAATCAATTGACAACCTTCGACTTTGAGGTGGCCTACGGCGAGGACAAGCCAGGCAAGCCAGCTGCCTCAACGCGCGCCAGTACGGGTCCATCGACCCGCGGCCCACGGGTCAAACGACCCTAGTGTTCGCTACGACGTGGTCGTACCTTCGGCAGCAGATCAGCAATAGCACCCCGACTCGAGGAGGATCCCG\", \n",
    "           \"ACCGTCGATGTGCCCGGTCGCGCCGCGTCCACCTCGGTCATCGACCCCACGATGAGGACGCCATCGGCCGCGACCAAGCCCCGTGAAACTCTGACGGCGTGCTGGCCGGGCTGCGGCACCTGATCACCTTAGGGCACTTGGGCCACCACAACGGGCCGCCGGTCTCGACAGTGGCCACCACCACACAGGTGACTTCCGGCGGGACGTAAGTCCCTAACGCGTCGTTCCGCACGCGGTTAGCTTTGCTGCC\", \n",
    "           \"GGGTCAGGTATATTTATCGCACACTTGGGCACATGACACACAAGCGCCAGAATCCCGGACCGAACCGAGCACCGTGGGTGGGCAGCCTCCATACAGCGATGACCTGATCGATCATCGGCCAGGGCGCCGGGCTTCCAACCGTGGCCGTCTCAGTACCCAGCCTCATTGACCCTTCGACGCATCCACTGCGCGTAAGTCGGCTCAACCCTTTCAAACCGCTGGATTACCGACCGCAGAAAGGGGGCAGGAC\", \n",
    "           \"GTAGGTCAAACCGGGTGTACATACCCGCTCAATCGCCCAGCACTTCGGGCAGATCACCGGGTTTCCCCGGTATCACCAATACTGCCACCAAACACAGCAGGCGGGAAGGGGCGAAAGTCCCTTATCCGACAATAAAACTTCGCTTGTTCGACGCCCGGTTCACCCGATATGCACGGCGCCCAGCCATTCGTGACCGACGTCCCCAGCCCCAAGGCCGAACGACCCTAGGAGCCACGAGCAATTCACAGCG\", \n",
    "           \"CCGCTGGCGACGCTGTTCGCCGGCAGCGTGCGTGACGACTTCGAGCTGCCCGACTACACCTGGTGACCACCGCCGACGGGCACCTCTCCGCCAGGTAGGCACGGTTTGTCGCCGGCAATGTGACCTTTGGGCGCGGTCTTGAGGACCTTCGGCCCCACCCACGAGGCCGCCGCCGGCCGATCGTATGACGTGCAATGTACGCCATAGGGTGCGTGTTACGGCGATTACCTGAAGGCGGCGGTGGTCCGGA\", \n",
    "           \"GGCCAACTGCACCGCGCTCTTGATGACATCGGTGGTCACCATGGTGTCCGGCATGATCAACCTCCGCTGTTCGATATCACCCCGATCTTTCTGAACGGCGGTTGGCAGACAACAGGGTCAATGGTCCCCAAGTGGATCACCGACGGGCGCGGACAAATGGCCCGCGCTTCGGGGACTTCTGTCCCTAGCCCTGGCCACGATGGGCTGGTCGGATCAAAGGCATCCGTTTCCATCGATTAGGAGGCATCAA\", \n",
    "           \"GTACATGTCCAGAGCGAGCCTCAGCTTCTGCGCAGCGACGGAAACTGCCACACTCAAAGCCTACTGGGCGCACGTGTGGCAACGAGTCGATCCACACGAAATGCCGCCGTTGGGCCGCGGACTAGCCGAATTTTCCGGGTGGTGACACAGCCCACATTTGGCATGGGACTTTCGGCCCTGTCCGCGTCCGTGTCGGCCAGACAAGCTTTGGGCATTGGCCACAATCGGGCCACAATCGAAAGCCGAGCAG\", \n",
    "           \"GGCAGCTGTCGGCAACTGTAAGCCATTTCTGGGACTTTGCTGTGAAAAGCTGGGCGATGGTTGTGGACCTGGACGAGCCACCCGTGCGATAGGTGAGATTCATTCTCGCCCTGACGGGTTGCGTCTGTCATCGGTCGATAAGGACTAACGGCCCTCAGGTGGGGACCAACGCCCCTGGGAGATAGCGGTCCCCGCCAGTAACGTACCGCTGAACCGACGGGATGTATCCGCCCCAGCGAAGGAGACGGCG\", \n",
    "           \"TCAGCACCATGACCGCCTGGCCACCAATCGCCCGTAACAAGCGGGACGTCCGCGACGACGCGTGCGCTAGCGCCGTGGCGGTGACAACGACCAGATATGGTCCGAGCACGCGGGCGAACCTCGTGTTCTGGCCTCGGCCAGTTGTGTAGAGCTCATCGCTGTCATCGAGCGATATCCGACCACTGATCCAAGTCGGGGGCTCTGGGGACCGAAGTCCCCGGGCTCGGAGCTATCGGACCTCACGATCACC\"]\n",
    "k = 15\n",
    "t = 10\n",
    "\n",
    "print(greedy_motif_search(tb_DosR, k, t))\n",
    "print(motifs_scores(greedy_motif_search(tb_DosR, k, t)))\n",
    "print()\n",
    "print(greedy_search_motif(tb_DosR, k, t))\n",
    "print(motifs_scores(greedy_search_motif(tb_DosR, k, t)))\n",
    "\n",
    "# GTTAGGGCCGGAAGT  CCGATCGGCATCACT     ACCGTCGATGTGCCC GGGTCAGGTATATTT GTGACCGACGTCCCC CTGTTCGCCGGCAGC \n",
    "# CTGTTCGATATCACC GTACATGTCCAGAGC  GCGATAGGTGAGATT     CTCATCGCTGTCATC"
   ]
  },
  {
   "cell_type": "code",
   "execution_count": 100,
   "metadata": {},
   "outputs": [
    {
     "name": "stdout",
     "output_type": "stream",
     "text": [
      "{'A': [0.25], 'C': [0.5], 'G': [0.0], 'T': [0.25]}\n",
      "1.5\n"
     ]
    }
   ],
   "source": [
    "kmer = 'ACCT'\n",
    "print(profile_motifs(kmer))\n",
    "print(entropy(kmer))"
   ]
  },
  {
   "cell_type": "code",
   "execution_count": 101,
   "metadata": {},
   "outputs": [
    {
     "name": "stdout",
     "output_type": "stream",
     "text": [
      "['TTAC']\n"
     ]
    }
   ],
   "source": [
    "# not good \n",
    "\n",
    "def greedy_motif_search(string, k, t):\n",
    "    best_motifs = []\n",
    "    for i in range(0, t):\n",
    "        best_motifs.append(string[i][0:k])\n",
    "    n = len(string[0])\n",
    "    for i in range(n - k + 1):\n",
    "        motifs = []\n",
    "        motifs.append(string[0][i:i+k])\n",
    "        for j in range(1, t):\n",
    "            profile = profile_motifs(motifs[0:j])\n",
    "            motifs.append(get_most_probable_Kmer_from_profile(string[j], k, profile))\n",
    "        if motifs_scores(motifs) < motifs_scores(best_motifs):\n",
    "            best_motifs = motifs\n",
    "    return (best_motifs)\n",
    "\n",
    "\n",
    "dna = [\n",
    "\"TTACCTTAAC\",\n",
    "\"GATGTCTGTC\",\n",
    "\"ACGGCGTTAG\",\n",
    "\"CCCTAACGAG\",\n",
    "\"CGTCAGAGGT\"]\n",
    "k = 4\n",
    "t = 1\n",
    "print(greedy_motif_search(dna, k, t))"
   ]
  },
  {
   "cell_type": "code",
   "execution_count": 102,
   "metadata": {},
   "outputs": [],
   "source": [
    "def motifs_count_pseudo_counts(motifs):\n",
    "    \"\"\"Returns the count of the nucleotides that appears in each\n",
    "    columns of the motifs. Motifs are a matrix of strings(list of lists)\"\"\"\n",
    "    count = defaultdict(int)\n",
    "    k = len(motifs[0])\n",
    "    t = len(motifs)\n",
    "    for char in 'ACGT':\n",
    "        count[char] = count.get(char, [1]*k)\n",
    "    for i in range(t):\n",
    "        for j in range(k):\n",
    "            char = motifs[i][j]  # motifs[i] char[j]\n",
    "            count[char][j] += 1  # ad to the count the char in j position in the cols\n",
    "    return count"
   ]
  },
  {
   "cell_type": "code",
   "execution_count": 103,
   "metadata": {},
   "outputs": [
    {
     "data": {
      "text/plain": [
       "defaultdict(int,\n",
       "            {'A': [2, 3, 2, 1, 1, 3],\n",
       "             'C': [3, 2, 5, 3, 1, 1],\n",
       "             'G': [2, 2, 1, 3, 2, 2],\n",
       "             'T': [2, 2, 1, 2, 5, 3]})"
      ]
     },
     "execution_count": 103,
     "metadata": {},
     "output_type": "execute_result"
    }
   ],
   "source": [
    "mo = ['AACGTA', 'CCCGTT', 'CACCTT', 'GGATTA', 'TTCCGG']\n",
    "motifs_count_pseudo_counts(mo)\n",
    "# {'A': [2, 3, 2, 1, 1, 3], 'C': [3, 2, 5, 3, 1, 1], 'G': [2, 2, 1, 3, 2, 2], 'T': [2, 2, 1, 2, 5, 3]}"
   ]
  },
  {
   "cell_type": "code",
   "execution_count": 104,
   "metadata": {},
   "outputs": [
    {
     "data": {
      "text/plain": [
       "defaultdict(int,\n",
       "            {'A': [3, 4, 4, 4, 7, 5, 3, 3, 2, 4],\n",
       "             'C': [3, 4, 5, 4, 3, 4, 3, 2, 4, 4],\n",
       "             'G': [5, 3, 4, 1, 2, 4, 5, 6, 6, 1],\n",
       "             'T': [3, 3, 1, 5, 2, 1, 3, 3, 2, 5]})"
      ]
     },
     "execution_count": 104,
     "metadata": {},
     "output_type": "execute_result"
    }
   ],
   "source": [
    "mo1 = ['GTACAACTGT', 'CAACTATGAA', 'TCCTACAGGA', 'AAGCAAGGGT', 'GCGTACGACC', 'TCGTCAGCGT',\n",
    "       'AACAAGGTCA', 'CTCAGGCGTC',  'GGATCCAGGT', 'GGCAAGTACC']\n",
    "motifs_count_pseudo_counts(mo1)\n",
    "#{'A': [3, 4, 4, 4, 7, 5, 3, 3, 2, 4], 'C': [3, 4, 5, 4, 3, 4, 3, 2, 4, 4], \n",
    "# 'T': [3, 3, 1, 5, 2, 1, 3, 3, 2, 5], 'G': [5, 3, 4, 1, 2, 4, 5, 6, 6, 1]}"
   ]
  },
  {
   "cell_type": "code",
   "execution_count": 105,
   "metadata": {},
   "outputs": [],
   "source": [
    "def profile_motifs_pseudo_counts(motifs):\n",
    "    \"\"\"Returns the frequence of the char[i] in the counts dictionary.\n",
    "    It is the division of the counts of the char divide by the length\n",
    "    of the motifs matrix\"\"\"\n",
    "    k = len(motifs[0])\n",
    "    assert all(len(x) == k for x in motifs), print('Motifs must have the same lengths')\n",
    "    counts = motifs_count_pseudo_counts(motifs)\n",
    "    return {char: [val / (len(motifs) + 4) for val in value] for\n",
    "           char, value in counts.items()}"
   ]
  },
  {
   "cell_type": "code",
   "execution_count": 106,
   "metadata": {},
   "outputs": [
    {
     "name": "stdout",
     "output_type": "stream",
     "text": [
      "{'A': [0.2222222222222222, 0.3333333333333333, 0.2222222222222222, 0.1111111111111111, 0.1111111111111111, 0.3333333333333333], 'C': [0.3333333333333333, 0.2222222222222222, 0.5555555555555556, 0.3333333333333333, 0.1111111111111111, 0.1111111111111111], 'G': [0.2222222222222222, 0.2222222222222222, 0.1111111111111111, 0.3333333333333333, 0.2222222222222222, 0.2222222222222222], 'T': [0.2222222222222222, 0.2222222222222222, 0.1111111111111111, 0.2222222222222222, 0.5555555555555556, 0.3333333333333333]}\n"
     ]
    }
   ],
   "source": [
    "print(profile_motifs_pseudo_counts(mo))\n",
    "\n",
    "#{'A': [0.2222222222222222, 0.3333333333333333, 0.2222222222222222, 0.1111111111111111, 0.1111111111111111, 0.3333333333333333], \n",
    "#'C': [0.3333333333333333, 0.2222222222222222, 0.5555555555555556, 0.3333333333333333, 0.1111111111111111, 0.1111111111111111], 'G': [0.2222222222222222, 0.2222222222222222, 0.1111111111111111, 0.3333333333333333, 0.2222222222222222, 0.2222222222222222], 'T': [0.2222222222222222, 0.2222222222222222, 0.1111111111111111, 0.2222222222222222, 0.5555555555555556, 0.3333333333333333]}"
   ]
  },
  {
   "cell_type": "code",
   "execution_count": 107,
   "metadata": {},
   "outputs": [
    {
     "name": "stdout",
     "output_type": "stream",
     "text": [
      "{'A': [0.21428571428571427,\n",
      "       0.2857142857142857,\n",
      "       0.2857142857142857,\n",
      "       0.2857142857142857,\n",
      "       0.5,\n",
      "       0.35714285714285715,\n",
      "       0.21428571428571427,\n",
      "       0.21428571428571427,\n",
      "       0.14285714285714285,\n",
      "       0.2857142857142857],\n",
      " 'C': [0.21428571428571427,\n",
      "       0.2857142857142857,\n",
      "       0.35714285714285715,\n",
      "       0.2857142857142857,\n",
      "       0.21428571428571427,\n",
      "       0.2857142857142857,\n",
      "       0.21428571428571427,\n",
      "       0.14285714285714285,\n",
      "       0.2857142857142857,\n",
      "       0.2857142857142857],\n",
      " 'G': [0.35714285714285715,\n",
      "       0.21428571428571427,\n",
      "       0.2857142857142857,\n",
      "       0.07142857142857142,\n",
      "       0.14285714285714285,\n",
      "       0.2857142857142857,\n",
      "       0.35714285714285715,\n",
      "       0.42857142857142855,\n",
      "       0.42857142857142855,\n",
      "       0.07142857142857142],\n",
      " 'T': [0.21428571428571427,\n",
      "       0.21428571428571427,\n",
      "       0.07142857142857142,\n",
      "       0.35714285714285715,\n",
      "       0.14285714285714285,\n",
      "       0.07142857142857142,\n",
      "       0.21428571428571427,\n",
      "       0.21428571428571427,\n",
      "       0.14285714285714285,\n",
      "       0.35714285714285715]}\n"
     ]
    }
   ],
   "source": [
    "pprint(profile_motifs_pseudo_counts(mo1))\n",
    "#{'A': [0.21428571428571427, 0.2857142857142857, 0.2857142857142857, 0.2857142857142857, 0.5, 0.35714285714285715, 0.21428571428571427, 0.21428571428571427, 0.14285714285714285, 0.2857142857142857], \n",
    "#'C': [0.21428571428571427, 0.2857142857142857, 0.35714285714285715, 0.2857142857142857, 0.21428571428571427, 0.2857142857142857, 0.21428571428571427, 0.14285714285714285, 0.2857142857142857, 0.2857142857142857], \n",
    "#'T': [0.21428571428571427, 0.21428571428571427, 0.07142857142857142, 0.35714285714285715, 0.14285714285714285, 0.07142857142857142, 0.21428571428571427, 0.21428571428571427, 0.14285714285714285, 0.35714285714285715], \n",
    "#'G': [0.35714285714285715, 0.21428571428571427, 0.2857142857142857, 0.07142857142857142, 0.14285714285714285, 0.2857142857142857, 0.35714285714285715, 0.42857142857142855, 0.42857142857142855, 0.07142857142857142]}"
   ]
  },
  {
   "cell_type": "code",
   "execution_count": 110,
   "metadata": {},
   "outputs": [],
   "source": [
    "def greedy_search_motif_with_pseudo_count(strings, k, t):\n",
    "    best_motifs = [strings[i][0:k] for i in range(len(strings))]\n",
    "    motifs = [strings[0][i:i + k] for i in range(len(strings[0]) - k + 1)]\n",
    "    for motif in motifs:\n",
    "        temp_motifs = [motif]\n",
    "        for j in range(1, len(strings)):\n",
    "            profile = profile_motifs_pseudo_counts(temp_motifs)\n",
    "            temp_motifs.append(get_most_probable_Kmer_from_profile(strings[j], k, profile))\n",
    "        if motifs_scores(temp_motifs) < motifs_scores(best_motifs):\n",
    "            best_motifs = temp_motifs\n",
    "    return best_motifs"
   ]
  },
  {
   "cell_type": "code",
   "execution_count": 111,
   "metadata": {},
   "outputs": [
    {
     "data": {
      "text/plain": [
       "['GTTC', 'AATC', 'GTTC', 'AATC', 'ATTC']"
      ]
     },
     "execution_count": 111,
     "metadata": {},
     "output_type": "execute_result"
    }
   ],
   "source": [
    "#trainning data set\n",
    "str_1 = ['GGCGTTCAGGCA', 'AAGAATCAGTCA', 'CAAGGAGTTCGC', 'CACGTCAATCAC','CAATAATATTCG']\n",
    "k1, t1 = 3, 5\n",
    "greedy_search_motif_with_pseudo_count(str_1, k, t)\n",
    "# TTC    ATC    TTC    ATC    TTC"
   ]
  },
  {
   "cell_type": "code",
   "execution_count": 112,
   "metadata": {},
   "outputs": [
    {
     "data": {
      "text/plain": [
       "['AGGCG', 'ATCCG', 'CGGCG', 'AGTCG', 'AACCG', 'AGGCG', 'AGGCG', 'AGGCG']"
      ]
     },
     "execution_count": 112,
     "metadata": {},
     "output_type": "execute_result"
    }
   ],
   "source": [
    "# Check if you're missing the first kmer in each string of Dna\n",
    "seq_lst2 = ['AGGCGGCACATCATTATCGATAACGATTCGCCGCATTGCC','ATCCGTCATCGAATAACTGACACCTGCTCTGGCACCGCTC',\n",
    "            'AGCGTCGGCGGTATAGCCAGATAGTGCCAATAATTTCCT', 'AGTCGGTGGTGAAGTGTGGGTTATGGGGAAAGGCAGACTG',\n",
    "            'AACCGGACGGCAACTACGGTTACAACGCAGCAAGAATATT','AGGCGTCTGTTGTTGCTAACACCGTTAAGCGACGGCAACT',\n",
    "            'AAGCGGCCAACGTAGGCGCGGCTTGGCATCTCGGTGTGTG', 'AATTGAAAGGCGCATCTTACTCTTTTCGCTTTCAAAAAAA']\n",
    "k2, t2 = 5, 8\n",
    "\n",
    "greedy_search_motif_with_pseudo_count(seq_lst2, k2, t2)\n",
    "# AGGCG    ATCCG    AAGCG    AGTCG    AACCG    AGGCG    AGGCG    AGGCG"
   ]
  },
  {
   "cell_type": "code",
   "execution_count": 113,
   "metadata": {},
   "outputs": [
    {
     "data": {
      "text/plain": [
       "['AGGCG', 'TGGCA', 'AAGCG', 'AGGCA', 'CGGCA', 'AGGCG', 'AGGCG', 'AGGCG']"
      ]
     },
     "execution_count": 113,
     "metadata": {},
     "output_type": "execute_result"
    }
   ],
   "source": [
    "# Check if you're not breaking ties correctly (you should pick the first kmer in the case of a tie)\n",
    "seq_lst3 = ['GCACATCATTAAACGATTCGCCGCATTGCCTCGATAGGCG','TCATAACTGACACCTGCTCTGGCACCGCTCATCCGTCGAA',\n",
    "            'AAGCGGGTATAGCCAGATAGTGCCAATAATTTCCTTCGGC', 'AGTCGGTGGTGAAGTGTGGGTTATGGGGAAAGGCAGACTG',\n",
    "            'AACCGGACGGCAACTACGGTTACAACGCAGCAAGAATATT','AGGCGTCTGTTGTTGCTAACACCGTTAAGCGACGGCAACT',\n",
    "            'AAGCTTCCAACATCGTCTTGGCATCTCGGTGTGTGAGGCG', 'AATTGAACATCTTACTCTTTTCGCTTTCAAAAAAAAGGCG']\n",
    "k3, t3 = 5, 8\n",
    "\n",
    "greedy_search_motif_with_pseudo_count(seq_lst3, k3, t3)\n",
    "# AGGCG    TGGCA    AAGCG    AGGCA    CGGCA    AGGCG    AGGCG    AGGCG"
   ]
  },
  {
   "cell_type": "code",
   "execution_count": 114,
   "metadata": {},
   "outputs": [
    {
     "data": {
      "text/plain": [
       "['GGCGG', 'GGCTC', 'GGCGG', 'GGCAG', 'GACGG', 'GACGG', 'GGCGC', 'GGCGC']"
      ]
     },
     "execution_count": 114,
     "metadata": {},
     "output_type": "execute_result"
    }
   ],
   "source": [
    "# Check if you're missing the last kmer in each string of Dna\n",
    "seq_lst4 = ['GCACATCATTATCGATAACGATTCATTGCCAGGCGGCCGC', 'TCATCGAATAACTGACACCTGCTCTGGCTCATCCGACCGC',\n",
    "            'TCGGCGGTATAGCCAGATAGTGCCAATAATTTCCTAAGCG', 'GTGGTGAAGTGTGGGTTATGGGGAAAGGCAGACTGAGTCG',\n",
    "            'GACGGCAACTACGGTTACAACGCAGCAAGAATATTAACCG', 'TCTGTTGTTGCTAACACCGTTAAGCGACGGCAACTAGGCG',\n",
    "            'GCCAACGTAGGCGCGGCTTGGCATCTCGGTGTGTGAAGCG', 'AAAGGCGCATCTTACTCTTTTCGCTTTCAAAAAAAAATTG']\n",
    "k4, t4 = 5, 8\n",
    "greedy_search_motif_with_pseudo_count(seq_lst4, k4, t4)\n",
    "#GGCGG     GGCTC    GGCGG    GGCAG    GACGG    GACGG    GGCGC    GGCGC"
   ]
  },
  {
   "cell_type": "code",
   "execution_count": 115,
   "metadata": {},
   "outputs": [
    {
     "data": {
      "text/plain": [
       "['GGC', 'GGC', 'GGC', 'GGC', 'GGC', 'GGC', 'GGC', 'GGC']"
      ]
     },
     "execution_count": 115,
     "metadata": {},
     "output_type": "execute_result"
    }
   ],
   "source": [
    "# Full dataset\n",
    "seq_lst5 = ['AGGCGGCACATCATTATCGATAACGATTCGCCGCATTGCC','ATCCGTCATCGAATAACTGACACCTGCTCTGGCACCGCTC',\n",
    "            'AGCGTCGGCGGTATAGCCAGATAGTGCCAATAATTTCCT', 'AGTCGGTGGTGAAGTGTGGGTTATGGGGAAAGGCAGACTG',\n",
    "            'AACCGGACGGCAACTACGGTTACAACGCAGCAAGAATATT','AGGCGTCTGTTGTTGCTAACACCGTTAAGCGACGGCAACT',\n",
    "            'AAGCGGCCAACGTAGGCGCGGCTTGGCATCTCGGTGTGTG', 'AATTGAAAGGCGCATCTTACTCTTTTCGCTTTCAAAAAAA']\n",
    "k5, t5 = 3, 8\n",
    "\n",
    "greedy_search_motif_with_pseudo_count(seq_lst5, k5, t5)\n",
    "# GGC    GGC    GGC    GGC    GGC    GGC    GGC    GGC"
   ]
  },
  {
   "cell_type": "code",
   "execution_count": 116,
   "metadata": {},
   "outputs": [
    {
     "name": "stdout",
     "output_type": "stream",
     "text": [
      "['TTC', 'ATC', 'TTC', 'ATC', 'TTC']\n",
      "2\n"
     ]
    }
   ],
   "source": [
    "kt, tt = 3, 5\n",
    "s_ls = ['GGCGTTCAGGCA','AAGAATCAGTCA','CAAGGAGTTCGC','CACGTCAATCAC','CAATAATATTCG']\n",
    "print(greedy_search_motif_with_pseudo_count(s_ls, kt, tt))\n",
    "print(motifs_scores(greedy_search_motif_with_pseudo_count(s_ls, kt, tt)))\n",
    "# ['TTC', 'ATC', 'TTC', 'ATC', 'TTC'] 2"
   ]
  },
  {
   "cell_type": "code",
   "execution_count": 117,
   "metadata": {},
   "outputs": [
    {
     "name": "stdout",
     "output_type": "stream",
     "text": [
      "['GGACTTCAGGCCCTA', 'GGTCAAACGACCCTA', 'GGACGTAAGTCCCTA', 'GGATTACCGACCGCA', 'GGCCGAACGACCCTA', 'GGACCTTCGGCCCCA', 'GGACTTCTGTCCCTA', 'GGACTTTCGGCCCTG', 'GGACTAACGGCCCTC', 'GGACCGAAGTCCCCG']\n",
      "35\n"
     ]
    }
   ],
   "source": [
    "print(greedy_search_motif_with_pseudo_count(tb_DosR, 15, 10))\n",
    "print(motifs_scores(greedy_search_motif_with_pseudo_count(tb_DosR, 15, 10)))\n",
    "#GGACTTCAGGCCCTA GGTCAAACGACCCTA GGACGTAAGTCCCTA GGATTACCGACCGCA GGCCGAACGACCCTA GGACCTTCGGCCCCA GGACTTCTGTCCCTA \n",
    "#GGACTTTCGGCCCTG GGACTAACGGCCCTC GGACCGAAGTCCCCG"
   ]
  },
  {
   "cell_type": "code",
   "execution_count": 119,
   "metadata": {},
   "outputs": [
    {
     "name": "stdout",
     "output_type": "stream",
     "text": [
      "['CCGC', 'CCGC', 'CCGC', 'CCGC', 'CCGC', 'CCGC', 'CCGC', 'CCGC', 'CCGC', 'CCGC']\n",
      "0\n"
     ]
    }
   ],
   "source": [
    "dna = [\n",
    "\"TTACCTTAAC\",\n",
    "\"GATGTCTGTC\",\n",
    "\"ACGGCGTTAG\",\n",
    "\"CCCTAACGAG\",\n",
    "\"CGTCAGAGGT\"]\n",
    "\n",
    "print(greedy_search_motif_with_pseudo_count(tb_DosR, 4, 1))\n",
    "print(motifs_scores(greedy_search_motif_with_pseudo_count(tb_DosR, 4, 1)))"
   ]
  },
  {
   "cell_type": "code",
   "execution_count": 138,
   "metadata": {},
   "outputs": [],
   "source": [
    "def get_motifs(strings, k, profile):\n",
    "    return [get_most_probable_Kmer_from_profile(string, k, profile) for string in strings]"
   ]
  },
  {
   "cell_type": "code",
   "execution_count": 139,
   "metadata": {},
   "outputs": [
    {
     "data": {
      "text/plain": [
       "['ACCT', 'ATGT', 'GCGT', 'ACGA', 'AGGT']"
      ]
     },
     "execution_count": 139,
     "metadata": {},
     "output_type": "execute_result"
    }
   ],
   "source": [
    "profile_0 = { 'A': [0.8, 0.0, 0.0, 0.2 ],'C': [ 0.0, 0.6, 0.2, 0.0], \n",
    "              'G': [ 0.2 ,0.2 ,0.8, 0.0], 'T': [ 0.0, 0.2, 0.0, 0.8]}\n",
    "\n",
    "dnas = ['TTACCTTAAC','GATGTCTGTC','ACGGCGTTAG','CCCTAACGAG','CGTCAGAGGT']\n",
    "\n",
    "get_motifs(dnas, 4, profile_0)\n",
    "\n",
    "# ACCT    ATGT    GCGT    ACGA    AGGT"
   ]
  },
  {
   "cell_type": "code",
   "execution_count": 140,
   "metadata": {},
   "outputs": [
    {
     "data": {
      "text/plain": [
       "['ACCT', 'ATGT', 'GCGT', 'ACGA', 'AGGT']"
      ]
     },
     "execution_count": 140,
     "metadata": {},
     "output_type": "execute_result"
    }
   ],
   "source": [
    "# Full dataset\n",
    "profile_1 = { 'A': [0.5, 0.0, 0.2, 0.2],'C': [ 0.3, 0.6, 0.2, 0.0], \n",
    "              'G': [ 0.2, 0.2, 0.6, 0.0], 'T': [ 0.0, 0.2, 0.0, 0.8]}\n",
    "\n",
    "get_motifs(dnas, 4, profile_1)\n",
    "\n",
    "# ACCT     ATGT    GCGT    ACGA    AGGT"
   ]
  },
  {
   "cell_type": "code",
   "execution_count": 148,
   "metadata": {},
   "outputs": [],
   "source": [
    "def consensus_sequence_pseudo(motifs):\n",
    "    \"\"\"Returns the consensus sequence from a matrix of \n",
    "    motifs\"\"\"\n",
    "    k = len(motifs[0])\n",
    "    assert all(len(x) == k for x in motifs), print('Motifs must have the same lengths')\n",
    "    counts = motifs_count_pseudo_counts(motifs)\n",
    "    consensus = ''\n",
    "    for i in range(k):\n",
    "        count = 0\n",
    "        freq_char = ''\n",
    "        for char in 'ACGT':\n",
    "            if counts[char][i] > count:\n",
    "                count = counts[char][i]\n",
    "                freq_char = char\n",
    "        consensus += freq_char\n",
    "    return consensus       "
   ]
  },
  {
   "cell_type": "code",
   "execution_count": 149,
   "metadata": {},
   "outputs": [],
   "source": [
    "def get_random_motifs(strings, k, t):\n",
    "    random_motifs = []\n",
    "    for i in range(len(strings)):\n",
    "        idx = randint(0, len(strings[0]) - k)\n",
    "        motif = strings[i][idx:idx+k]\n",
    "        random_motifs.append(motif)\n",
    "    return random_motifs\n",
    "        "
   ]
  },
  {
   "cell_type": "code",
   "execution_count": 150,
   "metadata": {},
   "outputs": [
    {
     "data": {
      "text/plain": [
       "['TAC', 'ATG', 'GTT', 'TAA', 'GGT']"
      ]
     },
     "execution_count": 150,
     "metadata": {},
     "output_type": "execute_result"
    }
   ],
   "source": [
    "dnas1 = [\"TTACCTTAAC\",\n",
    "       \"GATGTCTGTC\",\n",
    "       \"ACGGCGTTAG\",\n",
    "       \"CCCTAACGAG\",\n",
    "       \"CGTCAGAGGT\"]\n",
    "k, t = 3, 5\n",
    "\n",
    "get_random_motifs(dnas1, k, t)\n",
    "# something like\n",
    "# TTA GTC ACG ACG GAG"
   ]
  },
  {
   "cell_type": "code",
   "execution_count": 151,
   "metadata": {},
   "outputs": [],
   "source": [
    "def RandomizedMotifSearch(strings, k, t):\n",
    "    M = get_random_motifs(strings, k, t)\n",
    "    BestMotifs = M\n",
    "    score = motifs_scores(M)\n",
    "    best_score = motifs_scores(BestMotifs)\n",
    "    while True:\n",
    "        profile = profile_motifs_pseudo_counts(M)\n",
    "        M = get_motifs(strings, k, profile)\n",
    "        if score < best_score:\n",
    "            BestMotifs = M\n",
    "        else:\n",
    "            return BestMotifs"
   ]
  },
  {
   "cell_type": "code",
   "execution_count": 152,
   "metadata": {},
   "outputs": [
    {
     "name": "stdout",
     "output_type": "stream",
     "text": [
      "['CTCGGGGG', 'TAAGTGCC', 'GAGACCGA', 'GCACGTCG', 'TCCACGTG']\n",
      "17\n"
     ]
    }
   ],
   "source": [
    "Dna = [\"CGCCCCTCTCGGGGGTGTTCAGTAAACGGCCA\",\n",
    "       \"GGGCGAGGTATGTGTAAGTGCCAAGGTGCCAG\",\n",
    "       \"TAGTACCGAGACCGAAAGAAGTATACAGGCGT\",\n",
    "       \"TAGATCAAGTTTCAGGTGCACGTCGGTGAACC\",\n",
    "       \"AATCCACCAGCTCCACGTGCAATGTTGGCCTA\"]\n",
    "\n",
    "print(RandomizedMotifSearch(Dna, 8, 5))\n",
    "print(motifs_scores(RandomizedMotifSearch(Dna, 8, 5)))\n",
    "\n",
    "# CGGGGGTG TGTAAGTG TACAGGCG TTCAGGTG TCCACGTG"
   ]
  },
  {
   "cell_type": "code",
   "execution_count": 176,
   "metadata": {},
   "outputs": [],
   "source": [
    "def randomized_motif_search(strings, k, t):\n",
    "    M = get_random_motifs(strings, k, t)\n",
    "    best_motifs = M\n",
    "    while True:\n",
    "        profile = profile_motifs_pseudo_counts(M)\n",
    "        M = get_motifs(strings, k, profile)\n",
    "        if motifs_scores(M) < motifs_scores(best_motifs):\n",
    "            best_motifs = M\n",
    "        else:\n",
    "            return best_motifs"
   ]
  },
  {
   "cell_type": "code",
   "execution_count": 177,
   "metadata": {},
   "outputs": [
    {
     "name": "stdout",
     "output_type": "stream",
     "text": [
      "['CCTCTCGG', 'AAGGTGCC', 'GAGACCGA', 'CACGTCGG', 'CAGCTCCA']\n",
      "14\n"
     ]
    }
   ],
   "source": [
    "Dna = [\"CGCCCCTCTCGGGGGTGTTCAGTAAACGGCCA\",\n",
    "       \"GGGCGAGGTATGTGTAAGTGCCAAGGTGCCAG\",\n",
    "       \"TAGTACCGAGACCGAAAGAAGTATACAGGCGT\",\n",
    "       \"TAGATCAAGTTTCAGGTGCACGTCGGTGAACC\",\n",
    "       \"AATCCACCAGCTCCACGTGCAATGTTGGCCTA\"]\n",
    "\n",
    "print(randomized_motif_search(Dna, 8, 5))\n",
    "print(motifs_scores(randomized_motif_search(Dna, 8, 5)))\n",
    "\n",
    "# CGGGGGTG TGTAAGTG TACAGGCG TTCAGGTG TCCACGTG"
   ]
  },
  {
   "cell_type": "code",
   "execution_count": 158,
   "metadata": {},
   "outputs": [],
   "source": [
    "def RepeatedRandomizedMotifSearch(strings, k, t, N):\n",
    "    BestScore = float('inf')\n",
    "    BestMotifs = []\n",
    "    for i in range(N):\n",
    "        Motifs = RandomizedMotifSearch(strings, k, t)\n",
    "        CurrScore = motifs_scores(Motifs)\n",
    "        if CurrScore < BestScore:\n",
    "            BestScore = CurrScore\n",
    "            BestMotifs = Motifs\n",
    "    return BestMotifs"
   ]
  },
  {
   "cell_type": "code",
   "execution_count": 168,
   "metadata": {},
   "outputs": [
    {
     "name": "stdout",
     "output_type": "stream",
     "text": [
      "['CTGGTCGCCACTGGA', 'ACGCGCGCCAGTACG', 'CGCCGCGTCCACCTC', 'CCAACCGTGGCCGTC', 'ACGCCCGGTTCACCC', 'CCGGCCGATCGTATG', 'TGGCCCGCGCTTCGG', 'CGCCGTTGGGCCGCG', 'CTGTCATCGGTCGAT', 'CGGGCGAACCTCGTG']\n",
      "71\n"
     ]
    }
   ],
   "source": [
    "t = 10\n",
    "k = 15\n",
    "N = 1000\n",
    "\n",
    "print(RepeatedRandomizedMotifSearch(tb_DosR, k, t, N))\n",
    "print(motifs_scores(RepeatedRandomizedMotifSearch(tb_DosR, k, t, N)))\n",
    "\n",
    "# CCTGGCTTCGATGGC ACCCGCGGCCCACGG CGCCGCGTCCACCTC CGACGCATCCACTGC ACCGACGTCCCCAGC ACGCTGTTCGCCGGC\n",
    "# CCGCTGTTCGATATC AGCCTCAGCTTCTGC GGTGGGGACCAACGC CCACTGATCCAAGTC"
   ]
  },
  {
   "cell_type": "code",
   "execution_count": 180,
   "metadata": {},
   "outputs": [],
   "source": [
    "def normalize_probabilities(probabilities):\n",
    "    return {key: val / total for total in (sum(probabilities.values()),) for key, val in probabilities.items()}"
   ]
  },
  {
   "cell_type": "code",
   "execution_count": 181,
   "metadata": {},
   "outputs": [
    {
     "data": {
      "text/plain": [
       "{'A': 0.25, 'C': 0.25, 'G': 0.25, 'T': 0.25}"
      ]
     },
     "execution_count": 181,
     "metadata": {},
     "output_type": "execute_result"
    }
   ],
   "source": [
    "probs = {'A': 0.1, 'C': 0.1, 'G': 0.1, 'T': 0.1}\n",
    "\n",
    "normalize_probabilities(probs)"
   ]
  },
  {
   "cell_type": "code",
   "execution_count": 187,
   "metadata": {},
   "outputs": [],
   "source": [
    "# Output: A randomly chosen k-mer with respect to the values in Probabilities\n",
    "# #random.choices\n",
    "def get_weighted_probabilities(probabilities):\n",
    "    return choices(list(probabilities.keys()), weights=list(probabilities.values()))[0]"
   ]
  },
  {
   "cell_type": "code",
   "execution_count": 188,
   "metadata": {},
   "outputs": [
    {
     "data": {
      "text/plain": [
       "'G'"
      ]
     },
     "execution_count": 188,
     "metadata": {},
     "output_type": "execute_result"
    }
   ],
   "source": [
    "get_weighted_probabilities(probs)"
   ]
  },
  {
   "cell_type": "code",
   "execution_count": 193,
   "metadata": {},
   "outputs": [],
   "source": [
    "#random.uniform\n",
    "def weighted_die(probabilities):\n",
    "    s = 0.0\n",
    "    for kmer, prob in probabilities.items():\n",
    "        s += prob\n",
    "        if uniform(0, 1) < s:\n",
    "            return kmer"
   ]
  },
  {
   "cell_type": "code",
   "execution_count": 195,
   "metadata": {},
   "outputs": [
    {
     "data": {
      "text/plain": [
       "'G'"
      ]
     },
     "execution_count": 195,
     "metadata": {},
     "output_type": "execute_result"
    }
   ],
   "source": [
    "weighted_die(probs)"
   ]
  },
  {
   "cell_type": "code",
   "execution_count": 196,
   "metadata": {},
   "outputs": [],
   "source": [
    "def profile_generated_string(strings, k, profile):\n",
    "    probabilities = {}\n",
    "    for i in range(len(strings) - k + 1):\n",
    "        probabilities[strings[i:i+k]] = motif_probability(strings[i:i+k], profile)\n",
    "    probabilities = normalize_probabilities(probabilities)\n",
    "    return get_weighted_probabilities(probabilities)"
   ]
  },
  {
   "cell_type": "code",
   "execution_count": 198,
   "metadata": {},
   "outputs": [
    {
     "data": {
      "text/plain": [
       "'AC'"
      ]
     },
     "execution_count": 198,
     "metadata": {},
     "output_type": "execute_result"
    }
   ],
   "source": [
    "strs = 'AAACCCAAACCC'\n",
    "profs = {'A': [0.5, 0.1], 'C': [0.3, 0.2], 'G': [0.2, 0.4], 'T': [0.0, 0.3]}\n",
    "k = 2\n",
    "profile_generated_string(strs, k, profs)"
   ]
  },
  {
   "cell_type": "markdown",
   "metadata": {},
   "source": [
    "    GibbsSampler(Dna, k, t, N)\n",
    "        randomly select k-mers Motifs = (Motif1, …, Motift) in each string from Dna\n",
    "        ﻿BestMotifs ← Motifs\n",
    "        for j ← 1 to N\n",
    "            i ← randomly generated integer between 1 and t\n",
    "            Profile ← profile matrix formed from all strings in Motifs except for Motifi\n",
    "            Motifi ← Profile-randomly generated k-mer in the i-th string\n",
    "            if Score(Motifs) < Score(BestMotifs)\n",
    "                BestMotifs ← Motifs\n",
    "        return BestMotifs"
   ]
  },
  {
   "cell_type": "code",
   "execution_count": 206,
   "metadata": {},
   "outputs": [],
   "source": [
    "# random.randint\n",
    "def GibbsSampler(strings, k, t, num_searches):\n",
    "    motifs = get_random_motifs(strings, k, t)\n",
    "    best_motifs = motifs\n",
    "    for j in range(1, num_searches):\n",
    "        i = randint(0, t - 1)\n",
    "        motifs.pop(i)\n",
    "        profile = profile_motifs_pseudo_counts(motifs)\n",
    "        motifs.insert(i, get_most_probable_Kmer_from_profile(strings[i], k, profile))\n",
    "        if motifs_scores(motifs) < motifs_scores(best_motifs):\n",
    "            best_motifs = motifs\n",
    "    return best_motifs"
   ]
  },
  {
   "cell_type": "code",
   "execution_count": 207,
   "metadata": {},
   "outputs": [
    {
     "data": {
      "text/plain": [
       "['GTAAACGG', 'GTGTAAGT', 'GTATACAG', 'GTGCACGT', 'GTGCAATG']"
      ]
     },
     "execution_count": 207,
     "metadata": {},
     "output_type": "execute_result"
    }
   ],
   "source": [
    "se = ['CGCCCCTCTCGGGGGTGTTCAGTAAACGGCCA', 'GGGCGAGGTATGTGTAAGTGCCAAGGTGCCAG', 'TAGTACCGAGACCGAAAGAAGTATACAGGCGT',\n",
    "'TAGATCAAGTTTCAGGTGCACGTCGGTGAACC', 'AATCCACCAGCTCCACGTGCAATGTTGGCCTA']\n",
    "k, t, N = 8, 5, 100\n",
    "\n",
    "GibbsSampler(se, k, t, N)\n",
    "\n",
    "# AACGGCCA AAGTGCCA TAGTACCG AAGTTTCA ACGTGCAA"
   ]
  },
  {
   "cell_type": "code",
   "execution_count": 211,
   "metadata": {},
   "outputs": [
    {
     "name": "stdout",
     "output_type": "stream",
     "text": [
      "['CTCCGGCGCGGTGGT', 'CTACGACGTGGTCGT', 'GTCCACCTCGGTCAT', 'TCCAACCGTGGCCGT', 'CAGCCCCAAGGCCGA', 'TTTGGGCGCGGTCTT', 'CTGCACCGCGCTCTT', 'TTGGGCCGCGGACTA', 'CTGGGCGATGGTTGT', 'TAGCGCCGTGGCGGT']\n",
      "47\n"
     ]
    }
   ],
   "source": [
    "k, t, N = 15, 10, 100\n",
    "\n",
    "print(GibbsSampler(tb_DosR, k, t, N))\n",
    "print(motifs_scores(GibbsSampler(tb_DosR, k, t, N)))\n",
    "# GACGAATGACCCCAG GTCAAACGACCCTAG GGTCATCGACCCCAC GATTACCGACCGCAG GACCGACGTCCCCAG GACCTTCGGCCCCAC\n",
    "# GATCAACCTCCGCTG GACTTTCGGCCCTGT GACCAACGCCCCTGG GACCGAAGTCCCCGG"
   ]
  },
  {
   "cell_type": "code",
   "execution_count": 212,
   "metadata": {},
   "outputs": [
    {
     "data": {
      "text/plain": [
       "'CTGCGCCGCGGTCGT'"
      ]
     },
     "execution_count": 212,
     "metadata": {},
     "output_type": "execute_result"
    }
   ],
   "source": [
    "l1 = ['CTCCGGCGCGGTGGT', 'CTACGACGTGGTCGT', 'GTCCACCTCGGTCAT', 'TCCAACCGTGGCCGT', \n",
    "      'CAGCCCCAAGGCCGA', 'TTTGGGCGCGGTCTT', 'CTGCACCGCGCTCTT', 'TTGGGCCGCGGACTA', \n",
    "      'CTGGGCGATGGTTGT', 'TAGCGCCGTGGCGGT']\n",
    "consensus_sequence_pseudo(l1)"
   ]
  },
  {
   "cell_type": "code",
   "execution_count": 213,
   "metadata": {},
   "outputs": [
    {
     "name": "stdout",
     "output_type": "stream",
     "text": [
      "['GGACTTCAGGCCCTATCGGA', 'GGTCCATCGACCCGCGGCCC', 'GGACGTAAGTCCCTAACGCG', 'CGATCATCGGCCAGGGCGCC', 'TGACCGACGTCCCCAGCCCC', 'GGACCTTCGGCCCCACCCAC', 'GGACTTCTGTCCCTAGCCCT', 'GGACTTTCGGCCCTGTCCGC', 'GGACTAACGGCCCTCAGGTG', 'GGACCGAAGTCCCCGGGCTC']\n",
      "71\n"
     ]
    }
   ],
   "source": [
    "k, t, N = 20, 10, 100\n",
    "\n",
    "print(GibbsSampler(tb_DosR, k, t, N))\n",
    "print(motifs_scores(GibbsSampler(tb_DosR, k, t, N)))"
   ]
  },
  {
   "cell_type": "code",
   "execution_count": 214,
   "metadata": {},
   "outputs": [
    {
     "data": {
      "text/plain": [
       "'GGACCTACGGCCCTAGCCCC'"
      ]
     },
     "execution_count": 214,
     "metadata": {},
     "output_type": "execute_result"
    }
   ],
   "source": [
    "l2 = ['GGACTTCAGGCCCTATCGGA', 'GGTCCATCGACCCGCGGCCC', 'GGACGTAAGTCCCTAACGCG', 'CGATCATCGGCCAGGGCGCC', \n",
    "      'TGACCGACGTCCCCAGCCCC', 'GGACCTTCGGCCCCACCCAC', 'GGACTTCTGTCCCTAGCCCT', 'GGACTTTCGGCCCTGTCCGC', \n",
    "      'GGACTAACGGCCCTCAGGTG', 'GGACCGAAGTCCCCGGGCTC']\n",
    "consensus_sequence_pseudo(l2)"
   ]
  },
  {
   "cell_type": "code",
   "execution_count": null,
   "metadata": {},
   "outputs": [],
   "source": []
  }
 ],
 "metadata": {
  "kernelspec": {
   "display_name": "Python 3",
   "language": "python",
   "name": "python3"
  },
  "language_info": {
   "codemirror_mode": {
    "name": "ipython",
    "version": 3
   },
   "file_extension": ".py",
   "mimetype": "text/x-python",
   "name": "python",
   "nbconvert_exporter": "python",
   "pygments_lexer": "ipython3",
   "version": "3.7.3"
  }
 },
 "nbformat": 4,
 "nbformat_minor": 2
}
