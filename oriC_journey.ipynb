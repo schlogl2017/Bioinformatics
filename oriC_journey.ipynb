{
 "cells": [
  {
   "cell_type": "markdown",
   "metadata": {},
   "source": [
    "Counting patterns in the genome"
   ]
  },
  {
   "cell_type": "code",
   "execution_count": 35,
   "metadata": {},
   "outputs": [],
   "source": [
    "from collections import Counter\n",
    "from Bio import SeqIO\n",
    "from collections import defaultdict\n",
    "import itertools\n",
    "import time\n",
    "import re\n",
    "import matplotlib.pyplot as plt"
   ]
  },
  {
   "cell_type": "markdown",
   "metadata": {},
   "source": [
    "    PatternCount(Text, Pattern)\n",
    "        count ← 0\n",
    "        for i ← 0 to |Text| − |Pattern|\n",
    "            if Text(i, |Pattern|) = Pattern\n",
    "                count ← count + 1\n",
    "        return count"
   ]
  },
  {
   "cell_type": "code",
   "execution_count": 34,
   "metadata": {},
   "outputs": [
    {
     "name": "stdout",
     "output_type": "stream",
     "text": [
      "TGCAGTTGAAACCTTTGTTCACTCTTCTTCCTGTCGTTTTGAGTAGTGTCGTTCAAGCACAAGAGAATACCGAGCAAGCCGTCGATGAAACCGTTACGGT\n"
     ]
    }
   ],
   "source": [
    "seq_record = SeqIO.read(\"vibrio_cholera.fasta\", \"fasta\") # GenBank ID: CP033513.1\n",
    "vibrio_genome = str(seq_record.seq)\n",
    "print(vibrio_genome[:100])"
   ]
  },
  {
   "cell_type": "code",
   "execution_count": 3,
   "metadata": {},
   "outputs": [],
   "source": [
    "def pattern_count(sequence, pattern):\n",
    "    '''Return the count the input pattern found in to a give string.'''\n",
    "    count = 0\n",
    "    for i in range(0, len(sequence) - len(pattern) + 1):\n",
    "        if sequence[i:i+len(pattern)] == pattern:\n",
    "            count = count + 1\n",
    "    return count"
   ]
  },
  {
   "cell_type": "code",
   "execution_count": 4,
   "metadata": {},
   "outputs": [
    {
     "name": "stdout",
     "output_type": "stream",
     "text": [
      "18\n"
     ]
    }
   ],
   "source": [
    "pattern = 'ATGATCAAG'\n",
    "sequence = vibrio_genome\n",
    "pat_c = pattern_count(sequence, pattern)\n",
    "print(pat_c)"
   ]
  },
  {
   "cell_type": "code",
   "execution_count": 4,
   "metadata": {},
   "outputs": [],
   "source": [
    "#faster\n",
    "\n",
    "def pattern_counter(sequence, pattern):\n",
    "    '''Return the count the input pattern found in to a give string.'''\n",
    "    return Counter([sequence[i:i+len(pattern)] for i in range(len(sequence)-len(pattern) + 1) \n",
    "                    if sequence[i:i+len(pattern)] == pattern])\n",
    "\n"
   ]
  },
  {
   "cell_type": "code",
   "execution_count": 5,
   "metadata": {},
   "outputs": [
    {
     "name": "stdout",
     "output_type": "stream",
     "text": [
      "ATGATCAAG\n",
      "18\n",
      "Counter({'ATGATCAAG': 18})\n"
     ]
    }
   ],
   "source": [
    "pattern = 'ATGATCAAG'\n",
    "sequence = vibrio_genome\n",
    "\n",
    "pat = pattern_counter(sequence, pattern)\n",
    "for pattern, count in pat.items():\n",
    "    print(pattern)\n",
    "    print(count)\n",
    "    \n",
    "print(pat)"
   ]
  },
  {
   "cell_type": "code",
   "execution_count": 6,
   "metadata": {},
   "outputs": [],
   "source": [
    "# the ?= mark disable the capturing group, you just get the counts, else you got a 18 repetition of the pattern\n",
    "#even faster\n",
    "def get_pattern_count_rgx(sequence, pattern):\n",
    "    '''Return the count the input pattern found in to a give string.'''\n",
    "    return len(re.findall(r'(?='+pattern+')', sequence))\n"
   ]
  },
  {
   "cell_type": "code",
   "execution_count": 11,
   "metadata": {},
   "outputs": [
    {
     "data": {
      "text/plain": [
       "18"
      ]
     },
     "execution_count": 11,
     "metadata": {},
     "output_type": "execute_result"
    }
   ],
   "source": [
    "pattern = 'ATGATCAAG'\n",
    "sequence = vibrio_genome\n",
    "get_pattern_count_rgx(sequence, pattern)"
   ]
  },
  {
   "cell_type": "code",
   "execution_count": 12,
   "metadata": {},
   "outputs": [
    {
     "data": {
      "text/plain": [
       "['ATAT', 'ATAT']"
      ]
     },
     "execution_count": 12,
     "metadata": {},
     "output_type": "execute_result"
    }
   ],
   "source": [
    "seq = 'GATATATGCATATACTT'\n",
    "pat = 'ATAT'\n",
    "\n",
    "re.findall('('+pat+')', seq)"
   ]
  },
  {
   "cell_type": "code",
   "execution_count": 18,
   "metadata": {},
   "outputs": [
    {
     "name": "stdout",
     "output_type": "stream",
     "text": [
      "143 ms ± 273 µs per loop (mean ± std. dev. of 7 runs, 10 loops each)\n"
     ]
    }
   ],
   "source": [
    "%timeit pattern_count(vibrio_genome, 'ATGATCAAG')"
   ]
  },
  {
   "cell_type": "code",
   "execution_count": 22,
   "metadata": {},
   "outputs": [
    {
     "name": "stdout",
     "output_type": "stream",
     "text": [
      "0.17240540200000254\n"
     ]
    }
   ],
   "source": [
    "t0 = time.process_time()\n",
    "\n",
    "pattern_count(vibrio_genome, 'ATGATCAAG')\n",
    "\n",
    "t1 = time.process_time()\n",
    "cpu_time = t1 - t0\n",
    "print(cpu_time)"
   ]
  },
  {
   "cell_type": "code",
   "execution_count": 19,
   "metadata": {},
   "outputs": [
    {
     "name": "stdout",
     "output_type": "stream",
     "text": [
      "150 ms ± 2.47 ms per loop (mean ± std. dev. of 7 runs, 10 loops each)\n"
     ]
    }
   ],
   "source": [
    "%timeit pattern_counter(vibrio_genome, 'ATGATCAAG')"
   ]
  },
  {
   "cell_type": "code",
   "execution_count": 23,
   "metadata": {},
   "outputs": [
    {
     "name": "stdout",
     "output_type": "stream",
     "text": [
      "0.1559621719999953\n"
     ]
    }
   ],
   "source": [
    "t0 = time.process_time()\n",
    "\n",
    "pattern_counter(vibrio_genome, 'ATGATCAAG')\n",
    "\n",
    "t1 = time.process_time()\n",
    "cpu_time = t1 - t0\n",
    "print(cpu_time)"
   ]
  },
  {
   "cell_type": "code",
   "execution_count": 21,
   "metadata": {},
   "outputs": [
    {
     "name": "stdout",
     "output_type": "stream",
     "text": [
      "14.3 ms ± 36.6 µs per loop (mean ± std. dev. of 7 runs, 100 loops each)\n"
     ]
    }
   ],
   "source": [
    "%timeit get_pattern_count_rgx(vibrio_genome, 'ATGATCAAG')"
   ]
  },
  {
   "cell_type": "code",
   "execution_count": 24,
   "metadata": {},
   "outputs": [
    {
     "name": "stdout",
     "output_type": "stream",
     "text": [
      "0.025794691999998065\n"
     ]
    }
   ],
   "source": [
    "t0 = time.process_time()\n",
    "\n",
    "get_pattern_count_rgx(vibrio_genome, 'ATGATCAAG')\n",
    "\n",
    "t1 = time.process_time()\n",
    "cpu_time = t1 - t0\n",
    "print(cpu_time)"
   ]
  },
  {
   "cell_type": "markdown",
   "metadata": {},
   "source": [
    "    FrequentWords(Text, k)\n",
    "        FrequentPatterns ← an empty set\n",
    "        for i ← 0 to |Text| − k\n",
    "            Pattern ← the k-mer Text(i, k)\n",
    "            Count(i) ← PatternCount(Text, Pattern)\n",
    "        maxCount ← maximum value in array Count\n",
    "        for i ← 0 to |Text| − k\n",
    "            if Count(i) = maxCount\n",
    "                add Text(i, k) to FrequentPatterns\n",
    "        remove duplicates from FrequentPatterns\n",
    "        return FrequentPatterns"
   ]
  },
  {
   "cell_type": "code",
   "execution_count": 7,
   "metadata": {},
   "outputs": [],
   "source": [
    "#eternity for vibrio genome\n",
    "\n",
    "def frequent_patterns(sequence, k):\n",
    "    frequent_pats = defaultdict(int)\n",
    "    for i in range(len(sequence) - k + 1):\n",
    "        pattern = sequence[i:i+k]\n",
    "        frequent_pats[pattern] = frequent_pats.get(pattern, 0) + 1\n",
    "        maxval = max(frequent_pats.values())\n",
    "    return [k for k, v in frequent_pats.items() if v == maxval], maxval, frequent_pats\n"
   ]
  },
  {
   "cell_type": "code",
   "execution_count": 14,
   "metadata": {},
   "outputs": [
    {
     "name": "stdout",
     "output_type": "stream",
     "text": [
      "['ATA']\n",
      "6\n",
      "defaultdict(<class 'int'>, {'ATA': 6, 'TAC': 1, 'ACG': 1, 'CGA': 1, 'GAT': 2, 'TAT': 3, 'ATC': 1, 'TCC': 1, 'CCA': 1, 'CAT': 1, 'TAG': 1, 'AGA': 1})\n"
     ]
    }
   ],
   "source": [
    "sequence = 'ATACGATATATATCCATAGATA'\n",
    "\n",
    "#%timeit frequentWords(sequence, 3)\n",
    "\n",
    "pat, count, d = frequent_patterns(sequence, 3)\n",
    "print(pat)\n",
    "print(count)\n",
    "print(d)"
   ]
  },
  {
   "cell_type": "code",
   "execution_count": 29,
   "metadata": {},
   "outputs": [
    {
     "ename": "KeyboardInterrupt",
     "evalue": "",
     "output_type": "error",
     "traceback": [
      "\u001b[0;31m---------------------------------------------------------------------------\u001b[0m",
      "\u001b[0;31mKeyboardInterrupt\u001b[0m                         Traceback (most recent call last)",
      "\u001b[0;32m<ipython-input-29-331bc0de549a>\u001b[0m in \u001b[0;36m<module>\u001b[0;34m\u001b[0m\n\u001b[1;32m      1\u001b[0m \u001b[0mt0\u001b[0m \u001b[0;34m=\u001b[0m \u001b[0mtime\u001b[0m\u001b[0;34m.\u001b[0m\u001b[0mprocess_time\u001b[0m\u001b[0;34m(\u001b[0m\u001b[0;34m)\u001b[0m\u001b[0;34m\u001b[0m\u001b[0;34m\u001b[0m\u001b[0m\n\u001b[1;32m      2\u001b[0m \u001b[0;34m\u001b[0m\u001b[0m\n\u001b[0;32m----> 3\u001b[0;31m \u001b[0mfrequent_patterns\u001b[0m\u001b[0;34m(\u001b[0m\u001b[0mvibrio_genome\u001b[0m\u001b[0;34m,\u001b[0m \u001b[0;36m9\u001b[0m\u001b[0;34m)\u001b[0m\u001b[0;34m\u001b[0m\u001b[0;34m\u001b[0m\u001b[0m\n\u001b[0m\u001b[1;32m      4\u001b[0m \u001b[0;34m\u001b[0m\u001b[0m\n\u001b[1;32m      5\u001b[0m \u001b[0mt1\u001b[0m \u001b[0;34m=\u001b[0m \u001b[0mtime\u001b[0m\u001b[0;34m.\u001b[0m\u001b[0mprocess_time\u001b[0m\u001b[0;34m(\u001b[0m\u001b[0;34m)\u001b[0m\u001b[0;34m\u001b[0m\u001b[0;34m\u001b[0m\u001b[0m\n",
      "\u001b[0;32m<ipython-input-26-35c949deee3d>\u001b[0m in \u001b[0;36mfrequent_patterns\u001b[0;34m(sequence, k)\u001b[0m\n\u001b[1;32m      6\u001b[0m         \u001b[0mpattern\u001b[0m \u001b[0;34m=\u001b[0m \u001b[0msequence\u001b[0m\u001b[0;34m[\u001b[0m\u001b[0mi\u001b[0m\u001b[0;34m:\u001b[0m\u001b[0mi\u001b[0m\u001b[0;34m+\u001b[0m\u001b[0mk\u001b[0m\u001b[0;34m]\u001b[0m\u001b[0;34m\u001b[0m\u001b[0;34m\u001b[0m\u001b[0m\n\u001b[1;32m      7\u001b[0m         \u001b[0mfrequent_pats\u001b[0m\u001b[0;34m[\u001b[0m\u001b[0mpattern\u001b[0m\u001b[0;34m]\u001b[0m \u001b[0;34m=\u001b[0m \u001b[0mfrequent_pats\u001b[0m\u001b[0;34m.\u001b[0m\u001b[0mget\u001b[0m\u001b[0;34m(\u001b[0m\u001b[0mpattern\u001b[0m\u001b[0;34m,\u001b[0m \u001b[0;36m0\u001b[0m\u001b[0;34m)\u001b[0m \u001b[0;34m+\u001b[0m \u001b[0;36m1\u001b[0m\u001b[0;34m\u001b[0m\u001b[0;34m\u001b[0m\u001b[0m\n\u001b[0;32m----> 8\u001b[0;31m         \u001b[0mmaxval\u001b[0m \u001b[0;34m=\u001b[0m \u001b[0mmax\u001b[0m\u001b[0;34m(\u001b[0m\u001b[0mfrequent_pats\u001b[0m\u001b[0;34m.\u001b[0m\u001b[0mvalues\u001b[0m\u001b[0;34m(\u001b[0m\u001b[0;34m)\u001b[0m\u001b[0;34m)\u001b[0m\u001b[0;34m\u001b[0m\u001b[0;34m\u001b[0m\u001b[0m\n\u001b[0m\u001b[1;32m      9\u001b[0m     \u001b[0;32mreturn\u001b[0m \u001b[0;34m[\u001b[0m\u001b[0mk\u001b[0m \u001b[0;32mfor\u001b[0m \u001b[0mk\u001b[0m\u001b[0;34m,\u001b[0m \u001b[0mv\u001b[0m \u001b[0;32min\u001b[0m \u001b[0mfrequent_pats\u001b[0m\u001b[0;34m.\u001b[0m\u001b[0mitems\u001b[0m\u001b[0;34m(\u001b[0m\u001b[0;34m)\u001b[0m \u001b[0;32mif\u001b[0m \u001b[0mv\u001b[0m \u001b[0;34m==\u001b[0m \u001b[0mmaxval\u001b[0m\u001b[0;34m]\u001b[0m\u001b[0;34m,\u001b[0m \u001b[0mmaxval\u001b[0m\u001b[0;34m,\u001b[0m \u001b[0mfrequent_pats\u001b[0m\u001b[0;34m\u001b[0m\u001b[0;34m\u001b[0m\u001b[0m\n\u001b[1;32m     10\u001b[0m \u001b[0;34m\u001b[0m\u001b[0m\n",
      "\u001b[0;31mKeyboardInterrupt\u001b[0m: "
     ]
    }
   ],
   "source": [
    "# toooooooo slowwwwwwwwww = ctrl + c  8(\n",
    "\n",
    "t0 = time.process_time()\n",
    "\n",
    "frequent_patterns(vibrio_genome, 9)\n",
    "\n",
    "t1 = time.process_time()\n",
    "cpu_time = t1 - t0\n",
    "print(cpu_time)"
   ]
  },
  {
   "cell_type": "code",
   "execution_count": 8,
   "metadata": {},
   "outputs": [],
   "source": [
    "def most_frequent_patterns(sequence, k, n=1):\n",
    "    \"\"\"Returns the n most frequent patterns of lenght k from a input\n",
    "    sequence.\"\"\"\n",
    "    return Counter([sequence[i:i+k] for i in range(len(sequence) - k + 1)]).most_common(n)\n",
    "           "
   ]
  },
  {
   "cell_type": "code",
   "execution_count": 16,
   "metadata": {},
   "outputs": [
    {
     "name": "stdout",
     "output_type": "stream",
     "text": [
      "0.3727863949999999\n"
     ]
    }
   ],
   "source": [
    "t0 = time.process_time()\n",
    "\n",
    "most_frequent_patterns(vibrio_genome, 9, 5)\n",
    "\n",
    "t1 = time.process_time()\n",
    "cpu_time = t1 - t0\n",
    "print(cpu_time)"
   ]
  },
  {
   "cell_type": "code",
   "execution_count": 17,
   "metadata": {},
   "outputs": [
    {
     "name": "stdout",
     "output_type": "stream",
     "text": [
      "[('GCAT', 3), ('CATG', 3)]\n",
      "[('TGG', 6)]\n",
      "[('TTTT', 4)]\n",
      "[('AACAA', 5)]\n",
      "[('GGGGT', 4), ('TTTTA', 4), ('AAAAT', 4)]\n"
     ]
    }
   ],
   "source": [
    "#tests\n",
    "\n",
    "t1= 'ACGTTGCATGTCGCATGATGCATGAGAGCT'\n",
    "print(most_frequent_patterns(t1, 4, 2))\n",
    "\n",
    "t2 = 'TGGTAGCGACGTTGGTCCCGCCGCTTGAGAATCTGGATGAACATAAGCTCCCACTTGGCTTATT\\\n",
    "CAGAGAACTGGTCAACACTTGTCTCTCCCAGCCAGGTCTGACCACCGGGCAACTTTTAGAGCACTATCGTGGTACAAATAATGCTGCCAC'\n",
    "print(most_frequent_patterns(t2, 3, 1))\n",
    "\n",
    "t3 = 'CAGTGGCAGATGACATTTTGCTGGTCGACTGGTTACAACAACGCCTGGGGCTTTTGAGCAACGA\\\n",
    "GACTTTTCAATGTTGCACCGTTTGCTGCATGATATTGAAAACAATATCACCAAATAAATAACGC\\\n",
    "CTTAGTAAGTAGCTTTT'\n",
    "print(most_frequent_patterns(t3, 4, 1))\n",
    "\n",
    "t4 = 'ATACAATTACAGTCTGGAACCGGATGAACTGGCCGCAGGTTAACAACAGAGTTGCCAGGCACTG\\\n",
    "CCGCTGACCAGCAACAACAACAATGACTTTGACGCGAAGGGGATGGCATGAGCGAACTGATCGT\\\n",
    "CAGCCGTCAGCAACGAGTATTGTTGCTGACCCTTAACAATCCCGCCGCACGTAATGCGCTAACT\\\n",
    "AATGCCCTGCTG'\n",
    "print(most_frequent_patterns(t4, 5, 1))\n",
    "\n",
    "t5 = 'CCAGCGGGGGTTGATGCTCTGGGGGTCACAAGATTGCATTTTTATGGGGTTGCAAAAATGTTTT\\\n",
    "TTACGGCAGATTCATTTAAAATGCCCACTGGCTGGAGACATAGCCCGGATGCGCGTCTTTTACA\\\n",
    "ACGTATTGCGGGGTAAAATCGTAGATGTTTTAAAATAGGCGTAAC'\n",
    "print(most_frequent_patterns(t5, 5, 3))"
   ]
  },
  {
   "cell_type": "code",
   "execution_count": 18,
   "metadata": {},
   "outputs": [
    {
     "name": "stdout",
     "output_type": "stream",
     "text": [
      "GCAT CATG "
     ]
    }
   ],
   "source": [
    "sequence = 'ACGTTGCATGTCGCATGATGCATGAGAGCT'\n",
    "patterns = most_frequent_patterns(sequence, 4, 2)\n",
    "for pat, count in patterns:\n",
    "    print(pat, end=' ')"
   ]
  },
  {
   "cell_type": "code",
   "execution_count": 19,
   "metadata": {},
   "outputs": [
    {
     "name": "stdout",
     "output_type": "stream",
     "text": [
      "CACTACGTGTG\n"
     ]
    }
   ],
   "source": [
    "# code grade coursera CACTACGTGTG\n",
    "\n",
    "with open('dataset_2_10.txt') as f:\n",
    "    sequence = f.readline()\n",
    "    number = int(f.readline())\n",
    "    \n",
    "patterns = most_frequent_patterns(sequence, number)\n",
    "for pat, count in patterns:\n",
    "    print(pat)"
   ]
  },
  {
   "cell_type": "code",
   "execution_count": 7,
   "metadata": {},
   "outputs": [],
   "source": [
    "oriCVibrio = 'atcaatgatcaacgtaagcttctaagcatgatcaaggtgctcacacagtttatccacaac\\\n",
    "ctgagtggatgacatcaagataggtcgttgtatctccttcctctcgtactctcatgacca\\\n",
    "cggaaagatgatcaagagaggatgatttcttggccatatcgcaatgaatacttgtgactt\\\n",
    "gtgcttccaattgacatcttcagcgccatattgcgctggccaaggtgacggagcgggatt\\\n",
    "acgaaagcatgatcatggctgttgttctgtttatcttgttttgactgagacttgttagga\\\n",
    "tagacggtttttcatcactgactagccaaagccttactctgcctgacatcgaccgtaaat\\\n",
    "tgataatgaatttacatgcttccgcgacgatttacctcttgatcatcgatccgattgaag\\\n",
    "atcttcaattgttaattctcttgcctcgactcatagccatgatgagctcttgatcatgtt\\\n",
    "tccttaaccctctattttttacggaagaatgatcaagctgctgctcttgatcatcgtttc'\n",
    "\n",
    "#patterns_vibrio = most_frequent_patterns(oriCVibrio.upper(), 9, 5)\n",
    "#print(patterns_vibrio)"
   ]
  },
  {
   "cell_type": "code",
   "execution_count": 21,
   "metadata": {},
   "outputs": [
    {
     "name": "stdout",
     "output_type": "stream",
     "text": [
      "[('TACTAGTTC', 3), ('ACTAGTTCT', 3), ('CTAGTTCTC', 3), ('GAACTAGTA', 3), ('GCTACTAGT', 2)]\n"
     ]
    }
   ],
   "source": [
    "patterns_vibrio = most_frequent_patterns(oriCVibrio.upper()[::-1], 9, 5)\n",
    "print(patterns_vibrio)"
   ]
  },
  {
   "cell_type": "code",
   "execution_count": 22,
   "metadata": {},
   "outputs": [
    {
     "data": {
      "text/plain": [
       "[('TAACGCCCG', 125)]"
      ]
     },
     "execution_count": 22,
     "metadata": {},
     "output_type": "execute_result"
    }
   ],
   "source": [
    "sequence = vibrio_genome\n",
    "most_frequent_patterns(sequence, 9)"
   ]
  },
  {
   "cell_type": "code",
   "execution_count": 23,
   "metadata": {},
   "outputs": [
    {
     "data": {
      "text/plain": [
       "[('ATGATCAAG', 3)]"
      ]
     },
     "execution_count": 23,
     "metadata": {},
     "output_type": "execute_result"
    }
   ],
   "source": [
    "oriC_start = 535819\n",
    "oriC_vibrio = vibrio_genome[oriC_start:oriC_start + 540]\n",
    "most_frequent_patterns(oriC_vibrio, 9)"
   ]
  },
  {
   "cell_type": "code",
   "execution_count": 36,
   "metadata": {},
   "outputs": [],
   "source": [
    "# faster\n",
    "def reverse_complement_str(sequence):\n",
    "    reverse = str.maketrans(\"ACGT\",\"TGCA\")\n",
    "    return sequence.translate(reverse)[::-1]"
   ]
  },
  {
   "cell_type": "code",
   "execution_count": 37,
   "metadata": {},
   "outputs": [],
   "source": [
    "def reverse_complement(sequence):\n",
    "    \"\"\"Receive a sequence string as input and returns\n",
    "    the revese complement.\"\"\"\n",
    "    sequence = sequence.upper()\n",
    "    return ''.join([{'A':'T','C':'G','G':'C','T':'A'}[nuc] for nuc in reversed(sequence)])"
   ]
  },
  {
   "cell_type": "code",
   "execution_count": 245,
   "metadata": {},
   "outputs": [
    {
     "name": "stdout",
     "output_type": "stream",
     "text": [
      "76.5 µs ± 3.07 µs per loop (mean ± std. dev. of 7 runs, 10000 loops each)\n"
     ]
    }
   ],
   "source": [
    "%timeit reverse_complement(oriCVibrio.upper())"
   ]
  },
  {
   "cell_type": "code",
   "execution_count": 26,
   "metadata": {},
   "outputs": [
    {
     "name": "stdout",
     "output_type": "stream",
     "text": [
      "0.003514449999999947\n"
     ]
    }
   ],
   "source": [
    "t0 = time.process_time()\n",
    "\n",
    "reverse_complement_str(vibrio_genome)\n",
    "\n",
    "t1 = time.process_time()\n",
    "cpu_time = t1 - t0\n",
    "print(cpu_time)"
   ]
  },
  {
   "cell_type": "code",
   "execution_count": 246,
   "metadata": {},
   "outputs": [
    {
     "name": "stdout",
     "output_type": "stream",
     "text": [
      "1.87 µs ± 79.1 ns per loop (mean ± std. dev. of 7 runs, 100000 loops each)\n"
     ]
    }
   ],
   "source": [
    "%timeit reverse_complement_str(oriCVibrio.upper())"
   ]
  },
  {
   "cell_type": "code",
   "execution_count": 27,
   "metadata": {},
   "outputs": [
    {
     "name": "stdout",
     "output_type": "stream",
     "text": [
      "0.1390458360000002\n"
     ]
    }
   ],
   "source": [
    "t0 = time.process_time()\n",
    "\n",
    "reverse_complement(vibrio_genome)\n",
    "\n",
    "t1 = time.process_time()\n",
    "cpu_time = t1 - t0\n",
    "print(cpu_time)"
   ]
  },
  {
   "cell_type": "code",
   "execution_count": 11,
   "metadata": {},
   "outputs": [
    {
     "name": "stdout",
     "output_type": "stream",
     "text": [
      "ACCGGGTTTT\n",
      "GTGTGT\n",
      "ACCGGGTTTT\n",
      "GTGTGT\n"
     ]
    }
   ],
   "source": [
    "#tests\n",
    "s = 'AAAACCCGGT' # ACCGGGTTTT\n",
    "s1 = 'ACACAC' # GTGTGT\n",
    "\n",
    "print(reverse_complement(s))\n",
    "print(reverse_complement(s1))\n",
    "print(reverse_complement_str(s))\n",
    "print(reverse_complement_str(s1))"
   ]
  },
  {
   "cell_type": "markdown",
   "metadata": {},
   "source": [
    "Solve the Pattern Matching Problem.\n",
    "\n",
    "    Input: Two strings, Pattern and Genome.\n",
    "    Output: A collection of space-separated integers specifying all starting positions where Pattern appears as a substring of Genome."
   ]
  },
  {
   "cell_type": "code",
   "execution_count": 38,
   "metadata": {},
   "outputs": [],
   "source": [
    "# just one ajust in pattern_count\n",
    "\n",
    "def pattern_locations(sequence, pattern):\n",
    "    matches = []\n",
    "    n = len(sequence)\n",
    "    m = len(pattern)\n",
    "    for i in range(n - m + 1):\n",
    "        if pattern == sequence[i:i+m]:\n",
    "            matches.append(i)\n",
    "    return matches"
   ]
  },
  {
   "cell_type": "code",
   "execution_count": 37,
   "metadata": {},
   "outputs": [
    {
     "name": "stdout",
     "output_type": "stream",
     "text": [
      "1 3 9 "
     ]
    }
   ],
   "source": [
    "pat = 'ATAT'\n",
    "seq = 'GATATATGCATATACTT'\n",
    "locations = pattern_locations(seq, pat)\n",
    "for loc in locations:\n",
    "    print(loc, end = ' ')"
   ]
  },
  {
   "cell_type": "code",
   "execution_count": 43,
   "metadata": {},
   "outputs": [
    {
     "name": "stdout",
     "output_type": "stream",
     "text": [
      "480\n",
      "23111\n",
      "82158\n",
      "150128\n",
      "198993\n",
      "208106\n",
      "295923\n",
      "500498\n",
      "533288\n",
      "535846\n",
      "535946\n",
      "536327\n",
      "570123\n",
      "578209\n",
      "584009\n",
      "608450\n",
      "691622\n",
      "863619\n"
     ]
    }
   ],
   "source": [
    "rgx = re.finditer('('+pattern+')', sequence)\n",
    "for rg in rgx:\n",
    "    print(rg.span()[0])"
   ]
  },
  {
   "cell_type": "code",
   "execution_count": 39,
   "metadata": {},
   "outputs": [],
   "source": [
    "def get_pattern_starpos_rgx(sequence, pattern):\n",
    "    \"\"\" Return a list of start positions of the matched pattern in the string\"\"\"\n",
    "    return [match.start() for match in re.finditer(r'(?='+pattern+')', sequence)]"
   ]
  },
  {
   "cell_type": "code",
   "execution_count": 34,
   "metadata": {},
   "outputs": [
    {
     "data": {
      "text/plain": [
       "[1, 3, 9]"
      ]
     },
     "execution_count": 34,
     "metadata": {},
     "output_type": "execute_result"
    }
   ],
   "source": [
    "pat = 'ATAT'\n",
    "seq = 'GATATATGCATATACTT'\n",
    "get_pattern_starpos_rgx(seq, pat)"
   ]
  },
  {
   "cell_type": "code",
   "execution_count": 38,
   "metadata": {},
   "outputs": [
    {
     "name": "stdout",
     "output_type": "stream",
     "text": [
      "0.1357695699999999\n"
     ]
    }
   ],
   "source": [
    "t0 = time.process_time()\n",
    "\n",
    "pattern_locations(vibrio_genome, 'ATGATCAAG')\n",
    "\n",
    "t1 = time.process_time()\n",
    "cpu_time = t1 - t0\n",
    "print(cpu_time)"
   ]
  },
  {
   "cell_type": "code",
   "execution_count": 39,
   "metadata": {},
   "outputs": [
    {
     "name": "stdout",
     "output_type": "stream",
     "text": [
      "0.02378334300000029\n"
     ]
    }
   ],
   "source": [
    "t0 = time.process_time()\n",
    "\n",
    "get_pattern_starpos_rgx(vibrio_genome, 'ATGATCAAG')\n",
    "\n",
    "t1 = time.process_time()\n",
    "cpu_time = t1 - t0\n",
    "print(cpu_time)"
   ]
  },
  {
   "cell_type": "code",
   "execution_count": 40,
   "metadata": {},
   "outputs": [],
   "source": [
    "def get_pattern_positions_rgx(sequence, pattern):\n",
    "    return [pos.span()[0] for pos in re.finditer(r'('+pattern+')', sequence)]\n"
   ]
  },
  {
   "cell_type": "code",
   "execution_count": 41,
   "metadata": {},
   "outputs": [],
   "source": [
    "def pattern_positions(sequence, pattern):\n",
    "    \"\"\" returns the position of all k-mers in sequence as a dictionary\n",
    "    Autor: Leonard McMillan \"\"\"\n",
    "    k_positions = {}\n",
    "    for i in range(len(sequence) - len(pattern) + 1):\n",
    "        kmer = sequence[i:i+len(pattern)]\n",
    "        k_positions[kmer] = k_positions.get(kmer,[])+[i]\n",
    "    # combine kmers with their reverse complements\n",
    "    k_pair_position = {}\n",
    "    for kmer, pos in k_positions.items():\n",
    "        k_rev = reverse_complement_str(kmer)\n",
    "        if (kmer == k_rev):\n",
    "            k_pair_position[kmer] = pos\n",
    "        elif (kmer <= k_rev):\n",
    "            k_pair_position[kmer] = sorted(pos + k_positions.get(k_rev, []))\n",
    "        elif (k_rev < kmer):\n",
    "            k_pair_position[k_rev] = sorted(k_positions.get(k_rev, []) + pos)\n",
    "    return k_pair_position"
   ]
  },
  {
   "cell_type": "code",
   "execution_count": 41,
   "metadata": {},
   "outputs": [
    {
     "name": "stdout",
     "output_type": "stream",
     "text": [
      "[1, 3, 9]\n"
     ]
    }
   ],
   "source": [
    "pat = 'ATAT'\n",
    "seq = 'GATATATGCATATACTT'\n",
    "\n",
    "locations = pattern_positions(seq, pat)\n",
    "\n",
    "for p, loc in locations.items():\n",
    "    if p == pat:\n",
    "        print(loc)"
   ]
  },
  {
   "cell_type": "code",
   "execution_count": 42,
   "metadata": {},
   "outputs": [
    {
     "name": "stdout",
     "output_type": "stream",
     "text": [
      "2.478380733\n"
     ]
    }
   ],
   "source": [
    "t0 = time.process_time()\n",
    "\n",
    "pattern_positions(vibrio_genome, 'ATGATCAAG')\n",
    "\n",
    "t1 = time.process_time()\n",
    "cpu_time = t1 - t0\n",
    "print(cpu_time)"
   ]
  },
  {
   "cell_type": "code",
   "execution_count": 15,
   "metadata": {},
   "outputs": [],
   "source": [
    "def get_pattern_positions_rgx_yield(sequence, pattern):\n",
    "    \"\"\" Yield a list of start positions of the matched pattern in the string\"\"\"\n",
    "    positions = re.finditer(r'('+pattern+')', sequence)\n",
    "    for position in positions:\n",
    "        pos_lst =  position.span()[0]\n",
    "        yield pos_lst"
   ]
  },
  {
   "cell_type": "code",
   "execution_count": 46,
   "metadata": {},
   "outputs": [
    {
     "name": "stdout",
     "output_type": "stream",
     "text": [
      "480\n",
      "23111\n",
      "82158\n",
      "150128\n",
      "198993\n",
      "208106\n",
      "295923\n",
      "500498\n",
      "533288\n",
      "535846\n",
      "535946\n",
      "536327\n",
      "570123\n",
      "578209\n",
      "584009\n",
      "608450\n",
      "691622\n",
      "863619\n"
     ]
    }
   ],
   "source": [
    "k_pos = get_pattern_positions_rgx_yield(vibrio_genome, 'ATGATCAAG')\n",
    "\n",
    "for pos in k_pos:\n",
    "    print(pos)"
   ]
  },
  {
   "cell_type": "code",
   "execution_count": 47,
   "metadata": {},
   "outputs": [
    {
     "name": "stdout",
     "output_type": "stream",
     "text": [
      "0.00014790799999975235\n"
     ]
    }
   ],
   "source": [
    "t0 = time.process_time()\n",
    "\n",
    "get_pattern_positions_rgx_yield(vibrio_genome, 'ATGATCAAG')\n",
    "\n",
    "t1 = time.process_time()\n",
    "cpu_time = t1 - t0\n",
    "print(cpu_time)"
   ]
  },
  {
   "cell_type": "code",
   "execution_count": 49,
   "metadata": {},
   "outputs": [
    {
     "name": "stdout",
     "output_type": "stream",
     "text": [
      "0.029146146999999623\n"
     ]
    }
   ],
   "source": [
    "t0 = time.process_time()\n",
    "\n",
    "get_pattern_starpos_rgx(vibrio_genome, 'ATGATCAAG')\n",
    "\n",
    "t1 = time.process_time()\n",
    "cpu_time = t1 - t0\n",
    "print(cpu_time)"
   ]
  },
  {
   "cell_type": "code",
   "execution_count": 42,
   "metadata": {},
   "outputs": [],
   "source": [
    "def get_pattern_positions_rgx_generator(sequence, pattern):\n",
    "    \"\"\" Return a list of start positions of the matched pattern in the string\"\"\"\n",
    "    return (pos.span()[0] for pos in re.finditer(r'('+pattern+')', sequence))\n"
   ]
  },
  {
   "cell_type": "code",
   "execution_count": 51,
   "metadata": {},
   "outputs": [
    {
     "name": "stdout",
     "output_type": "stream",
     "text": [
      "480\n",
      "23111\n",
      "82158\n",
      "150128\n",
      "198993\n",
      "208106\n",
      "295923\n",
      "500498\n",
      "533288\n",
      "535846\n",
      "535946\n",
      "536327\n",
      "570123\n",
      "578209\n",
      "584009\n",
      "608450\n",
      "691622\n",
      "863619\n"
     ]
    }
   ],
   "source": [
    "seq = 'GATATATGCATATACTT'\n",
    "pat = 'ATAT'\n",
    "positions = get_pattern_positions_rgx_generator(sequence, pattern)\n",
    "for pos in positions:\n",
    "    print(pos)"
   ]
  },
  {
   "cell_type": "code",
   "execution_count": 52,
   "metadata": {},
   "outputs": [
    {
     "name": "stdout",
     "output_type": "stream",
     "text": [
      "0.0001347830000000272\n"
     ]
    }
   ],
   "source": [
    "t0 = time.process_time()\n",
    "\n",
    "get_pattern_positions_rgx_generator(vibrio_genome, 'ATGATCAAG')\n",
    "\n",
    "t1 = time.process_time()\n",
    "cpu_time = t1 - t0\n",
    "print(cpu_time)"
   ]
  },
  {
   "cell_type": "code",
   "execution_count": 53,
   "metadata": {},
   "outputs": [
    {
     "name": "stdout",
     "output_type": "stream",
     "text": [
      "480\n",
      "23111\n",
      "82158\n",
      "150128\n",
      "198993\n",
      "208106\n",
      "295923\n",
      "500498\n",
      "533288\n",
      "535846\n",
      "535946\n",
      "536327\n",
      "570123\n",
      "578209\n",
      "584009\n",
      "608450\n",
      "691622\n",
      "863619\n"
     ]
    }
   ],
   "source": [
    "pos_generator = get_pattern_positions_rgx_generator(vibrio_genome, 'ATGATCAAG')\n",
    "for pos in pos_generator:\n",
    "    print(pos)"
   ]
  },
  {
   "cell_type": "code",
   "execution_count": 125,
   "metadata": {},
   "outputs": [
    {
     "name": "stdout",
     "output_type": "stream",
     "text": [
      "First test\n",
      "[4]\n",
      "[4, 14]\n",
      "Second test\n",
      "[0, 46, 51, 74]\n",
      "[0, 46, 51, 54, 55, 74, 80]\n",
      "Third test\n",
      "[88, 92, 98, 132]\n",
      "[9, 80, 88, 92, 98, 132]\n",
      "Fourth test\n",
      "[0, 2, 4]\n",
      "[0, 1, 2, 3, 4]\n"
     ]
    }
   ],
   "source": [
    "#tests function pattern_locations\n",
    "#\n",
    "p1 = 'ACAC'\n",
    "s1 = 'TTTTACACTTTTTTGTGTAAAAA' # 4\n",
    "\n",
    "print('First test')\n",
    "print(pattern_locations(s1, p1))\n",
    "locations = pattern_positions(s1, p1) # gets the reverse\n",
    "for p, loc in locations.items():\n",
    "    if p == p1:\n",
    "        print(loc)\n",
    "        \n",
    "# s dataset checks for off-by-one errors at the beginning of Genome\n",
    "p2 = 'AAA'\n",
    "s2 = 'AAAGAGTGTCTGATAGCAGCTTCTGAACTGGTTACCTGCCGTGAGTAAATTAAATTTTATTGAC\\\n",
    "TTAGGTCACTAAATACTTTAACCAATATAGGCATAGCGCACAGACAGATAATAATTACAGAGTA\\\n",
    "CACAACATCCAT' # 0 46 51 74\n",
    "\n",
    "print('Second test')\n",
    "print(pattern_locations(s2, p2))\n",
    "\n",
    "locations1 = pattern_positions(s2, p2) # gets the reverse\n",
    "for p, loc in locations1.items():\n",
    "    if p == p2:\n",
    "        print(loc)\n",
    "\n",
    "\n",
    "# dataset checks for off-by-one errors at the endof Genome\n",
    "p3 = 'TTT'\n",
    "s3 = 'AGCGTGCCGAAATATGCCGCCAGACCTGCTGCGGTGGCCTCGCCGACTTCACGGATGCCAAGTG\\\n",
    "CATAGAGGAAGCGAGCAAAGGTGGTTTCTTTCGCTTTATCCAGCGCGTTAACCACGTTCTGTGC\\\n",
    "CGACTTT'  # 88 92 98 132\n",
    "\n",
    "print('Third test')\n",
    "print(pattern_locations(s3, p3))\n",
    "locations2 = pattern_positions(s3, p3) # gets the reverse\n",
    "for p, loc in locations2.items():\n",
    "    if p == reverse_complement(p3):\n",
    "        print(loc)\n",
    "\n",
    "\n",
    "# overlapings\n",
    "p4 = 'ATA'\n",
    "s4 = 'ATATATA' # 0 2 4\n",
    "\n",
    "print('Fourth test')\n",
    "print(pattern_locations(s4, p4))\n",
    "locations3 = pattern_positions(s4, p4) # gets the reverse\n",
    "for p, loc in locations3.items():\n",
    "    if p == p4:\n",
    "        print(loc)"
   ]
  },
  {
   "cell_type": "code",
   "execution_count": 54,
   "metadata": {},
   "outputs": [
    {
     "name": "stdout",
     "output_type": "stream",
     "text": [
      "[116556, 149355, 151913, 152013, 152394, 186189, 194276, 200076, 224527, 307692, 479770, 610980, 653338, 679985, 768828, 878903, 985368]\n"
     ]
    }
   ],
   "source": [
    "# coursera code grade\n",
    "# 116556, 149355, 151913, 152013, 152394, 186189, 194276, 200076, 224527, \n",
    "# 307692, 479770, 610980, 653338, 679985, 768828, 878903, 985368\n",
    "with open('Vibrio_cholerae.txt') as f:\n",
    "    seq = f.read()\n",
    "v_DNAA = 'ATGATCAAG' \n",
    "\n",
    "#ccode version one\n",
    "print(sorted(pattern_locations(seq, 'ATGATCAAG')))"
   ]
  },
  {
   "cell_type": "code",
   "execution_count": 55,
   "metadata": {},
   "outputs": [
    {
     "name": "stdout",
     "output_type": "stream",
     "text": [
      "[60039, 98409, 116556, 129189, 149355, 151913, 152013, 152283, 152354, 152394, 152411, 163207, 186189, 194276, 197028, 200076, 200160, 224527, 307692, 357976, 376771, 392723, 479770, 532935, 600085, 610980, 622755, 653338, 679985, 768828, 878903, 985368, 1065555]\n"
     ]
    }
   ],
   "source": [
    "vdnaAloc = pattern_positions(seq, v_DNAA)\n",
    "for pat, loc in vdnaAloc.items():\n",
    "    if pat == v_DNAA:\n",
    "        print(loc)"
   ]
  },
  {
   "cell_type": "code",
   "execution_count": 5,
   "metadata": {},
   "outputs": [],
   "source": [
    "oriCThermoga = 'aactctatacctcctttttgtcgaatttgtgtgatttatagagaaaatcttattaactga\\\n",
    "aactaaaatggtaggtttggtggtaggttttgtgtacattttgtagtatctgatttttaa\\\n",
    "ttacataccgtatattgtattaaattgacgaacaattgcatggaattgaatatatgcaaa\\\n",
    "acaaacctaccaccaaactctgtattgaccattttaggacaacttcagggtggtaggttt\\\n",
    "ctgaagctctcatcaatagactattttagtctttacaaacaatattaccgttcagattca\\\n",
    "agattctacaacgctgttttaatgggcgttgcagaaaacttaccacctaaaatccagtat\\\n",
    "ccaagccgatttcagagaaacctaccacttacctaccacttacctaccacccgggtggta\\\n",
    "agttgcagacattattaaaaacctcatcagaagcttgttcaaaaatttcaatactcgaaa\\\n",
    "cctaccacctgcgtcccctattatttactactactaataatagcagtataattgatctga'"
   ]
  },
  {
   "cell_type": "code",
   "execution_count": 58,
   "metadata": {},
   "outputs": [
    {
     "name": "stdout",
     "output_type": "stream",
     "text": [
      "[('ACCTACCAC', 5), ('TGGTAGGTT', 3), ('GGTAGGTTT', 3), ('AAACCTACC', 3), ('AACCTACCA', 3), ('CCTACCACC', 3)]\n"
     ]
    }
   ],
   "source": [
    "thermoga = most_frequent_patterns(oriCThermoga.upper(), 9, 6)\n",
    "print(thermoga)\n",
    "\n",
    "# AACCTACCA   AAACCTACC   ACCTACCAC CCTACCACC   GGTAGGTTT   TGGTAGGTT"
   ]
  },
  {
   "cell_type": "markdown",
   "metadata": {},
   "source": [
    "The Frequency Array"
   ]
  },
  {
   "cell_type": "markdown",
   "metadata": {},
   "source": [
    "    ComputingFrequencies(Text, k)\n",
    "            for i ← 0 to 4k − 1\n",
    "                FrequencyArray(i) ← 0\n",
    "            for i ← 0 to |Text| − k\n",
    "                Pattern ← Text(i, k)\n",
    "                j ← PatternToNumber(Pattern)\n",
    "                FrequencyArray(j) ← FrequencyArray(j) + 1\n",
    "            return FrequencyArray"
   ]
  },
  {
   "cell_type": "markdown",
   "metadata": {},
   "source": [
    "    PATTERNTONUMBER(Pattern)\n",
    "        if Pattern contains no symbols\n",
    "            return 0\n",
    "        symbol LASTSYMBOL(Pattern)\n",
    "        Prefix PREFIX(Pattern)\n",
    "        return 4 · PATTERNTONUMBER(Prefix) + SYMBOLTONUMBER(symbol)"
   ]
  },
  {
   "cell_type": "code",
   "execution_count": 17,
   "metadata": {},
   "outputs": [],
   "source": [
    "def pattern_to_numbers(pattern):\n",
    "    \"\"\"Returns a integer number representing the inputed \n",
    "    pattern\"\"\"\n",
    "    k = len(pattern)\n",
    "    base_index = {'A': 0, 'C': 1, 'G': 2, 'T': 3}\n",
    "    number= 0\n",
    "    for i in range(k):\n",
    "        number += base_index[pattern[i]]*4**(k-i-1)\n",
    "    return number\n"
   ]
  },
  {
   "cell_type": "code",
   "execution_count": 18,
   "metadata": {},
   "outputs": [
    {
     "name": "stdout",
     "output_type": "stream",
     "text": [
      "AA AA AC CG CG CT CT GA GC GC GG TC TG "
     ]
    }
   ],
   "source": [
    "def kmers(seq, k):\n",
    "    \"\"\"Returns a k_mer iterator\"\"\"\n",
    "    return (seq[i:i+k] for i in range(len(seq)-k+1))\n",
    "\n",
    "seq = 'ACGCGGCTCTGAAA'\n",
    "k = 2\n",
    "kmers = sorted(kmers(seq, k))\n",
    "for kmer in kmers:\n",
    "    print(kmer, end= ' ')"
   ]
  },
  {
   "cell_type": "code",
   "execution_count": 33,
   "metadata": {},
   "outputs": [
    {
     "data": {
      "text/plain": [
       "58178"
      ]
     },
     "execution_count": 33,
     "metadata": {},
     "output_type": "execute_result"
    }
   ],
   "source": [
    "pattern = 'ATGATCAAG'\n",
    "pattern_to_numbers(pattern)"
   ]
  },
  {
   "cell_type": "code",
   "execution_count": 34,
   "metadata": {},
   "outputs": [
    {
     "data": {
      "text/plain": [
       "912"
      ]
     },
     "execution_count": 34,
     "metadata": {},
     "output_type": "execute_result"
    }
   ],
   "source": [
    "pattern_to_numbers('ATGCAA')"
   ]
  },
  {
   "cell_type": "code",
   "execution_count": 35,
   "metadata": {},
   "outputs": [
    {
     "data": {
      "text/plain": [
       "2161555804173"
      ]
     },
     "execution_count": 35,
     "metadata": {},
     "output_type": "execute_result"
    }
   ],
   "source": [
    "#test\n",
    "pattern = 'CTTCTCACGTACAACAAAATC'\n",
    "pattern_to_numbers(pattern)\n"
   ]
  },
  {
   "cell_type": "code",
   "execution_count": 76,
   "metadata": {},
   "outputs": [],
   "source": [
    "def number_to_pattern(number, k):\n",
    "    \"\"\"Returns a pattern representing the inputed \n",
    "    number\"\"\"\n",
    "    nts = {0: 'A', 1: 'C', 2: 'G', 3: 'T'}\n",
    "    if k == 1:\n",
    "        return nts[number]\n",
    "    prefix_idx = number // 4\n",
    "    reminder = number % 4\n",
    "    prefix_pattern = number_to_pattern(prefix_idx, k - 1)\n",
    "    return prefix_pattern + nts[reminder]"
   ]
  },
  {
   "cell_type": "code",
   "execution_count": 62,
   "metadata": {},
   "outputs": [
    {
     "data": {
      "text/plain": [
       "'CCCATTC'"
      ]
     },
     "execution_count": 62,
     "metadata": {},
     "output_type": "execute_result"
    }
   ],
   "source": [
    "number_to_pattern(5437, 7)  # CCCATTC"
   ]
  },
  {
   "cell_type": "code",
   "execution_count": 63,
   "metadata": {},
   "outputs": [
    {
     "data": {
      "text/plain": [
       "'ACCCATTC'"
      ]
     },
     "execution_count": 63,
     "metadata": {},
     "output_type": "execute_result"
    }
   ],
   "source": [
    "number_to_pattern(5437, 8) # ACCCATTC"
   ]
  },
  {
   "cell_type": "code",
   "execution_count": 20,
   "metadata": {},
   "outputs": [],
   "source": [
    "def compute_frequencies(sequence, k):\n",
    "    \"\"\"Returns the number of times that each k-mer Pattern has already \n",
    "    appeared in the sequence.\"\"\"\n",
    "    frequency_array = [0]*(4**k)\n",
    "    patterns = []\n",
    "    for i in range(len(sequence)- k + 1):\n",
    "        pattern = sequence[i:i+k]\n",
    "        patterns.append(pattern)\n",
    "        j = pattern_to_numbers(pattern)\n",
    "        frequency_array[j] = frequency_array[j] + 1\n",
    "    return frequency_array\n"
   ]
  },
  {
   "cell_type": "code",
   "execution_count": 65,
   "metadata": {},
   "outputs": [
    {
     "data": {
      "text/plain": [
       "[2, 1, 0, 0, 0, 0, 2, 2, 1, 2, 1, 0, 0, 1, 1, 0]"
      ]
     },
     "execution_count": 65,
     "metadata": {},
     "output_type": "execute_result"
    }
   ],
   "source": [
    "seq = 'ACGCGGCTCTGAAA'\n",
    "k = 2\n",
    "compute_frequencies(seq, k) # 2 1 0 0 0 0 2 2 1 2 1 0 0 1 1 0"
   ]
  },
  {
   "cell_type": "code",
   "execution_count": 43,
   "metadata": {},
   "outputs": [],
   "source": [
    "def compute_frequency(sequence, k):\n",
    "    \"\"\"Returns the number of times that each k-mer Pattern has already \n",
    "    appeared in the sequence.\"\"\"\n",
    "    freq_array = [0] * (4**k)\n",
    "    for i, val in enumerate(sequence[:len(sequence) - (k - 1)]):\n",
    "        freq_array[pattern_to_numbers(sequence[i:i + k])] += 1\n",
    "    return [v for v in freq_array]\n"
   ]
  },
  {
   "cell_type": "code",
   "execution_count": 67,
   "metadata": {},
   "outputs": [
    {
     "data": {
      "text/plain": [
       "[2, 1, 0, 0, 0, 0, 2, 2, 1, 2, 1, 0, 0, 1, 1, 0]"
      ]
     },
     "execution_count": 67,
     "metadata": {},
     "output_type": "execute_result"
    }
   ],
   "source": [
    "seq = 'ACGCGGCTCTGAAA'\n",
    "k = 2\n",
    "compute_frequency(seq, k)"
   ]
  },
  {
   "cell_type": "code",
   "execution_count": 68,
   "metadata": {},
   "outputs": [
    {
     "name": "stdout",
     "output_type": "stream",
     "text": [
      "1.04 s ± 16.9 ms per loop (mean ± std. dev. of 7 runs, 1 loop each)\n"
     ]
    }
   ],
   "source": [
    "%timeit compute_frequencies(sequence, k)"
   ]
  },
  {
   "cell_type": "code",
   "execution_count": 69,
   "metadata": {},
   "outputs": [
    {
     "name": "stdout",
     "output_type": "stream",
     "text": [
      "13.1 µs ± 114 ns per loop (mean ± std. dev. of 7 runs, 100000 loops each)\n"
     ]
    }
   ],
   "source": [
    "%timeit compute_frequency(seq, k)"
   ]
  },
  {
   "cell_type": "code",
   "execution_count": 70,
   "metadata": {},
   "outputs": [
    {
     "name": "stdout",
     "output_type": "stream",
     "text": [
      "1.059972235\n"
     ]
    }
   ],
   "source": [
    "start = time.process_time()\n",
    "compute_frequencies(sequence, k)\n",
    "end = time.process_time()\n",
    "total = end - start\n",
    "print(total)"
   ]
  },
  {
   "cell_type": "code",
   "execution_count": 71,
   "metadata": {},
   "outputs": [
    {
     "name": "stdout",
     "output_type": "stream",
     "text": [
      "0.0002048840000021812\n"
     ]
    }
   ],
   "source": [
    "start = time.process_time()\n",
    "compute_frequency(seq, k)\n",
    "end = time.process_time()\n",
    "total1 = end - start\n",
    "print(total1)"
   ]
  },
  {
   "cell_type": "markdown",
   "metadata": {},
   "source": [
    "      FasterFrequentWords(Text, k)\n",
    "            FrequentPatterns ← an empty set\n",
    "            FrequencyArray ← ComputingFrequencies(Text, k)\n",
    "            maxCount ← maximal value in FrequencyArray\n",
    "            for i ← 0 to 4k − 1\n",
    "                if FrequencyArray(i) = maxCount\n",
    "                    Pattern ← NumberToPattern(i, k)\n",
    "                    add Pattern to the set FrequentPatterns\n",
    "            return FrequentPatterns"
   ]
  },
  {
   "cell_type": "code",
   "execution_count": 22,
   "metadata": {},
   "outputs": [],
   "source": [
    "def faster_frequent_patterns(sequence, k):\n",
    "    \"\"\"Returns the most frequent k-mers in a string\"\"\"\n",
    "    freq_pats = set()\n",
    "    freq_array = compute_frequency(sequence, k)\n",
    "    max_count = max(freq_array)\n",
    "    for i in range(4**k -1):\n",
    "        if freq_array[i] == max_count:\n",
    "            pattern = number_to_pattern(i, k)\n",
    "            freq_pats.add(pattern)\n",
    "    return freq_pats"
   ]
  },
  {
   "cell_type": "code",
   "execution_count": 73,
   "metadata": {},
   "outputs": [
    {
     "data": {
      "text/plain": [
       "{'AA', 'CG', 'CT', 'GC'}"
      ]
     },
     "execution_count": 73,
     "metadata": {},
     "output_type": "execute_result"
    }
   ],
   "source": [
    "faster_frequent_patterns('ACGCGGCTCTGAAA', 2)"
   ]
  },
  {
   "cell_type": "markdown",
   "metadata": {},
   "source": [
    "     FindingFrequentWordsBySorting(Text , k)\n",
    "            FrequentPatterns ← an empty set\n",
    "            for i ← 0 to |Text| − k\n",
    "                Pattern ← Text(i, k)\n",
    "                Index(i) ← PatternToNumber(Pattern)\n",
    "                Count(i) ← 1\n",
    "            SortedIndex ← Sort(Index)\n",
    "            for i ← 1 to |Text| − k\n",
    "                if SortedIndex(i) = SortedIndex(i − 1)\n",
    "                    Count(i) = Count(i − 1) + 1\n",
    "            maxCount ← maximum value in the array Count\n",
    "            for i ← 0 to |Text| − k\n",
    "                if Count(i) = maxCount\n",
    "                    Pattern ← NumberToPattern(SortedIndex(i), k)\n",
    "                    add Pattern to the set FrequentPatterns\n",
    "            return FrequentPatterns"
   ]
  },
  {
   "cell_type": "code",
   "execution_count": 23,
   "metadata": {},
   "outputs": [],
   "source": [
    "def get_frequent_patterns_by_sorting(sequence, k):\n",
    "    \"\"\"Returns the most frequent k-mers in a string\"\"\"\n",
    "    freq_pats = set()\n",
    "    idx = [0] * (len(sequence) - k + 1)\n",
    "    count = [0] * (len(sequence) - k + 1)\n",
    "    for i in range(len(sequence) - k + 1):\n",
    "        pattern = sequence[i:i+k]\n",
    "        idx[i] = pattern_to_numbers(pattern)\n",
    "        count[i] = 1\n",
    "    sorted_idx = sorted(idx)\n",
    "    for i in range(len(sequence) - k + 1):\n",
    "        if sorted_idx[i] == sorted_idx[i - 1]:\n",
    "            count[i] = count[i - 1] + 1\n",
    "    max_count = max(count)\n",
    "    for i in range(len(sequence) - k + 1):\n",
    "        if count[i] == max_count:\n",
    "            pattern = number_to_pattern(sorted_idx[i], k)\n",
    "            freq_pats.add(pattern)\n",
    "    return freq_pats"
   ]
  },
  {
   "cell_type": "code",
   "execution_count": 75,
   "metadata": {},
   "outputs": [
    {
     "data": {
      "text/plain": [
       "{'AA', 'CG', 'CT', 'GC'}"
      ]
     },
     "execution_count": 75,
     "metadata": {},
     "output_type": "execute_result"
    }
   ],
   "source": [
    "get_frequent_patterns_by_sorting('ACGCGGCTCTGAAA', 2)"
   ]
  },
  {
   "cell_type": "code",
   "execution_count": 76,
   "metadata": {},
   "outputs": [
    {
     "name": "stdout",
     "output_type": "stream",
     "text": [
      "3.042381016\n"
     ]
    }
   ],
   "source": [
    "start = time.process_time()\n",
    "faster_frequent_patterns(vibrio_genome, 9)\n",
    "end = time.process_time()\n",
    "total = end - start\n",
    "print(total)"
   ]
  },
  {
   "cell_type": "code",
   "execution_count": 77,
   "metadata": {},
   "outputs": [
    {
     "name": "stdout",
     "output_type": "stream",
     "text": [
      "3.511440695000001\n"
     ]
    }
   ],
   "source": [
    "start = time.process_time()\n",
    "get_frequent_patterns_by_sorting(vibrio_genome, 9)\n",
    "end = time.process_time()\n",
    "total = end - start\n",
    "print(total)"
   ]
  },
  {
   "cell_type": "code",
   "execution_count": 78,
   "metadata": {},
   "outputs": [
    {
     "name": "stdout",
     "output_type": "stream",
     "text": [
      "0.38091594800000195\n"
     ]
    }
   ],
   "source": [
    "# better and faster\n",
    "\n",
    "start = time.process_time()\n",
    "most_frequent_patterns(vibrio_genome, 9, 5)\n",
    "end = time.process_time()\n",
    "total = end - start\n",
    "print(total)"
   ]
  },
  {
   "cell_type": "markdown",
   "metadata": {},
   "source": [
    "The Clump Finding Problem"
   ]
  },
  {
   "cell_type": "markdown",
   "metadata": {},
   "source": [
    "    ClumpFinding(Genome, k, L, t)\n",
    "            FrequentPatterns ← an empty set\n",
    "            for i ← 0 to 4k − 1\n",
    "                Clump(i) ← 0\n",
    "            for i ← 0 to |Genome| − L\n",
    "                Text ← the string of length L starting at position i in Genome \n",
    "                FrequencyArray ← ComputingFrequencies(Text, k)\n",
    "                for index ← 0 to 4k − 1\n",
    "                    if FrequencyArray(index) ≥ t\n",
    "                        Clump(index) ← 1\n",
    "            for i ← 0 to 4k − 1\n",
    "                if Clump(i) = 1\n",
    "                    Pattern ← NumberToPattern(i, k)\n",
    "                    add Pattern to the set FrequentPatterns\n",
    "            return FrequentPatterns"
   ]
  },
  {
   "cell_type": "code",
   "execution_count": 24,
   "metadata": {},
   "outputs": [],
   "source": [
    "def clump_finder(sequence, k, window, times):\n",
    "    \"\"\"Returns the number of the times the clumps of patterns of k length appears in a sliding window\n",
    "    inside a inputed sequence.\"\"\"\n",
    "    clumps = []\n",
    "    for i in range(len(sequence) - window + 1):\n",
    "        pattern = sequence[i:i+window]\n",
    "        counts = {}\n",
    "        for i in range(len(pattern) - k + 1):\n",
    "            if pattern[i:i+k] not in counts:\n",
    "                counts[pattern[i:i+k]] = 0\n",
    "            counts[pattern[i:i+k]] += 1\n",
    "        for mer in counts:\n",
    "            if counts[mer] >= times and mer not in clumps:\n",
    "                clumps.append(mer)\n",
    "    return clumps\n"
   ]
  },
  {
   "cell_type": "code",
   "execution_count": 25,
   "metadata": {},
   "outputs": [],
   "source": [
    "def find_pattern_clumps(sequence, k, window, times):\n",
    "    \"\"\"Returns the number of the times the clumps of patterns of k length appears in a sliding window\n",
    "    inside a inputed sequence.\"\"\"\n",
    "    clumps = []\n",
    "    for i in range(len(sequence) - window + 1):\n",
    "        pattern = sequence[i:i+window]\n",
    "        counts = {}\n",
    "        for i in range(len(pattern) - k + 1):\n",
    "            counts[pattern[i:i+k]] = counts.get(pattern[i:i+k], 0) + 1\n",
    "        for mer in counts:\n",
    "            if counts[mer] >= times and mer not in clumps:\n",
    "                clumps.append(mer)\n",
    "    return clumps"
   ]
  },
  {
   "cell_type": "code",
   "execution_count": 99,
   "metadata": {},
   "outputs": [
    {
     "data": {
      "text/plain": [
       "['CGACA', 'GAAGA']"
      ]
     },
     "execution_count": 99,
     "metadata": {},
     "output_type": "execute_result"
    }
   ],
   "source": [
    "#test coursera\n",
    "\n",
    "sequence = 'CGGACTCGACAGATGTGAAGAACGACAATGTGAAGACTCGACACGACAGAGTGAAGAGAAGAGGAAACATTGTAA'\n",
    "clump_finder(sequence, 5, 50, 4) # CGACA GAAGA"
   ]
  },
  {
   "cell_type": "code",
   "execution_count": 100,
   "metadata": {},
   "outputs": [
    {
     "data": {
      "text/plain": [
       "['CGACA', 'GAAGA']"
      ]
     },
     "execution_count": 100,
     "metadata": {},
     "output_type": "execute_result"
    }
   ],
   "source": [
    "#test coursera\n",
    "\n",
    "sequence = 'CGGACTCGACAGATGTGAAGAACGACAATGTGAAGACTCGACACGACAGAGTGAAGAGAAGAGGAAACATTGTAA'\n",
    "find_pattern_clumps(sequence, 5, 50, 4) # CGACA GAAGA"
   ]
  },
  {
   "cell_type": "code",
   "execution_count": 101,
   "metadata": {},
   "outputs": [
    {
     "data": {
      "text/plain": [
       "['ATCCGGTGAG',\n",
       " 'ATGACACTGC',\n",
       " 'CAATAAACCA',\n",
       " 'TTGCAACCGA',\n",
       " 'GGCATATACC',\n",
       " 'TCGCTCTGTA',\n",
       " 'TTTGATGGGG',\n",
       " 'CGATACCTCT',\n",
       " 'GGCGACAGCG',\n",
       " 'GCGACAGCGG',\n",
       " 'CGACAGCGGG',\n",
       " 'GACAGCGGGC',\n",
       " 'ACAGCGGGCG',\n",
       " 'CAGCGGGCGA',\n",
       " 'AGCGGGCGAC',\n",
       " 'GCGGGCGACA',\n",
       " 'CGGGCGACAG',\n",
       " 'GGGCGACAGC']"
      ]
     },
     "execution_count": 101,
     "metadata": {},
     "output_type": "execute_result"
    }
   ],
   "source": [
    "#test coursera - code grade\n",
    "\n",
    "with open('dataset_4_5.txt') as f:\n",
    "    sequence = f.readline()\n",
    "\n",
    "\n",
    "'''answer = ATCCGGTGAG ATGACACTGC CAATAAACCA TTGCAACCGA GGCATATACC TCGCTCTGTA TTTGATGGGG \n",
    "            CGATACCTCT GGCGACAGCG GCGACAGCGG CGACAGCGGG GACAGCGGGC ACAGCGGGCG CAGCGGGCGA \n",
    "            AGCGGGCGAC GCGGGCGACA CGGGCGACAG GGGCGACAGC'''\n",
    "\n",
    "clump_finder(sequence, 10, 527, 20)"
   ]
  },
  {
   "cell_type": "code",
   "execution_count": 102,
   "metadata": {},
   "outputs": [
    {
     "data": {
      "text/plain": [
       "['ATCCGGTGAG',\n",
       " 'ATGACACTGC',\n",
       " 'CAATAAACCA',\n",
       " 'TTGCAACCGA',\n",
       " 'GGCATATACC',\n",
       " 'TCGCTCTGTA',\n",
       " 'TTTGATGGGG',\n",
       " 'CGATACCTCT',\n",
       " 'GGCGACAGCG',\n",
       " 'GCGACAGCGG',\n",
       " 'CGACAGCGGG',\n",
       " 'GACAGCGGGC',\n",
       " 'ACAGCGGGCG',\n",
       " 'CAGCGGGCGA',\n",
       " 'AGCGGGCGAC',\n",
       " 'GCGGGCGACA',\n",
       " 'CGGGCGACAG',\n",
       " 'GGGCGACAGC']"
      ]
     },
     "execution_count": 102,
     "metadata": {},
     "output_type": "execute_result"
    }
   ],
   "source": [
    "#test coursera - code grade\n",
    "\n",
    "with open('dataset_4_5.txt') as f:\n",
    "    sequence = f.readline()\n",
    "\n",
    "\n",
    "'''answer = ATCCGGTGAG ATGACACTGC CAATAAACCA TTGCAACCGA GGCATATACC TCGCTCTGTA TTTGATGGGG \n",
    "            CGATACCTCT GGCGACAGCG GCGACAGCGG CGACAGCGGG GACAGCGGGC ACAGCGGGCG CAGCGGGCGA \n",
    "            AGCGGGCGAC GCGGGCGACA CGGGCGACAG GGGCGACAGC'''\n",
    "\n",
    "find_pattern_clumps(sequence, 10, 527, 20)"
   ]
  },
  {
   "cell_type": "code",
   "execution_count": 104,
   "metadata": {},
   "outputs": [
    {
     "data": {
      "text/plain": [
       "1904"
      ]
     },
     "execution_count": 104,
     "metadata": {},
     "output_type": "execute_result"
    }
   ],
   "source": [
    "seq_record = SeqIO.read(\"EColi.fasta\", \"fasta\") # GenBank ID: \n",
    "ecoli_genome = str(seq_record.seq)\n",
    "#print(ecoli_genome[:100])\n",
    "\n",
    "len(clump_finder(ecoli_genome, 9, 500, 3)) # 1904"
   ]
  },
  {
   "cell_type": "code",
   "execution_count": 106,
   "metadata": {},
   "outputs": [
    {
     "data": {
      "text/plain": [
       "1904"
      ]
     },
     "execution_count": 106,
     "metadata": {},
     "output_type": "execute_result"
    }
   ],
   "source": [
    "len(find_pattern_clumps(ecoli_genome, 9, 500, 3))"
   ]
  },
  {
   "cell_type": "markdown",
   "metadata": {},
   "source": [
    "    BetterClumpFinding(Genome, k, t, L)\n",
    "            FrequentPatterns ← an empty set\n",
    "            for i ← 0 to 4k − 1\n",
    "                Clump(i) ← 0\n",
    "            Text ← Genome(0, L)\n",
    "            FrequencyArray ← ComputingFrequencies(Text, k)\n",
    "            for i ← 0 to 4k − 1\n",
    "                if FrequencyArray(i) ≥ t\n",
    "                    Clump(i) ← 1\n",
    "            for i ← 1 to |Genome| − L\n",
    "                FirstPattern ← Genome(i − 1, k)\n",
    "                index ← PatternToNumber(FirstPattern)\n",
    "                FrequencyArray(index) ← FrequencyArray(index) − 1\n",
    "                LastPattern ← Genome(i + L − k, k)\n",
    "                index ← PatternToNumber(LastPattern)\n",
    "                FrequencyArray(index) ← FrequencyArray(index) + 1\n",
    "                if FrequencyArray(index) ≥ t\n",
    "                    Clump(index) ← 1\n",
    "            for i ← 0 to 4k − 1\n",
    "                if Clump(i) = 1\n",
    "                    Pattern ← NumberToPattern(i, k)\n",
    "                    add Pattern to the set FrequentPatterns\n",
    "            return FrequentPatterns"
   ]
  },
  {
   "cell_type": "code",
   "execution_count": 32,
   "metadata": {},
   "outputs": [],
   "source": [
    "def better_clump_finder(sequence, k, window_size, num_timest):\n",
    "    \"\"\"Returns the number of the times the clumps of patterns of k \n",
    "    length appears in a sliding window\n",
    "    inside a inputed sequence.\"\"\"\n",
    "    freq_patterns = []\n",
    "    clumps = []\n",
    "    for i in range(4 ** k):\n",
    "        clumps.append(0)\n",
    "    window = sequence[0:window_size]\n",
    "    freq = compute_frequency(window, k)\n",
    "    for i in range(4 ** k):\n",
    "        if freq[i] >= num_timestt:\n",
    "            clumps[i] = 1\n",
    "    for i in range(1, len(sequence) - window_size):\n",
    "        first_pat = sequence[i-1:i-1+k]\n",
    "        index = pattern_to_numbers(first_pat)\n",
    "        freq[index] = freq[index] - 1\n",
    "        last_pat = sequence[i+window_siz-k:i+window_size]\n",
    "        index = pattern_to_numbers(last_pat)\n",
    "        freq[index] = freq[index] + 1\n",
    "        if freq[index] >= num_timest:\n",
    "            clumps[index] = 1\n",
    "    for i in range(4**k):\n",
    "        if clumps[i] == 1:\n",
    "            pat = number_to_pattern(i, k)\n",
    "            freq_patterns.append(pat)\n",
    "    return freq_patterns"
   ]
  },
  {
   "cell_type": "code",
   "execution_count": 33,
   "metadata": {},
   "outputs": [
    {
     "ename": "NameError",
     "evalue": "name 'ecoli_genome' is not defined",
     "output_type": "error",
     "traceback": [
      "\u001b[0;31m---------------------------------------------------------------------------\u001b[0m",
      "\u001b[0;31mNameError\u001b[0m                                 Traceback (most recent call last)",
      "\u001b[0;32m<ipython-input-33-4a87fea4c138>\u001b[0m in \u001b[0;36m<module>\u001b[0;34m\u001b[0m\n\u001b[0;32m----> 1\u001b[0;31m \u001b[0mprint\u001b[0m\u001b[0;34m(\u001b[0m\u001b[0mlen\u001b[0m\u001b[0;34m(\u001b[0m\u001b[0mbetter_clump_finder\u001b[0m\u001b[0;34m(\u001b[0m\u001b[0mecoli_genome\u001b[0m\u001b[0;34m,\u001b[0m \u001b[0;36m9\u001b[0m\u001b[0;34m,\u001b[0m \u001b[0;36m500\u001b[0m\u001b[0;34m,\u001b[0m \u001b[0;36m3\u001b[0m\u001b[0;34m)\u001b[0m\u001b[0;34m)\u001b[0m\u001b[0;34m)\u001b[0m\u001b[0;34m\u001b[0m\u001b[0;34m\u001b[0m\u001b[0m\n\u001b[0m",
      "\u001b[0;31mNameError\u001b[0m: name 'ecoli_genome' is not defined"
     ]
    }
   ],
   "source": [
    "print(len(better_clump_finder(ecoli_genome, 9, 500, 3)))"
   ]
  },
  {
   "cell_type": "code",
   "execution_count": 27,
   "metadata": {},
   "outputs": [],
   "source": [
    "def get_base_compostion_stats(sequence, start):\n",
    "    \"\"\"Returns basics statistics from a sequence in itś forward and\n",
    "    revese strands. Autor: Leonard McMillan\"\"\"\n",
    "    half_genome = len(sequence)//2\n",
    "    ter_C = start + half_genome\n",
    "    if (ter_C > len(sequence)): # handle genome's circular nature\n",
    "        ter_C = ter_C - len(sequence) + 1\n",
    "    stats = {}\n",
    "    for base in \"ACGT\":\n",
    "        total = sequence.count(base)\n",
    "        if (ter_C > start):                                   # case 1: ----start========ter---->\n",
    "            forward_count = sequence[start:ter_C].count(base)\n",
    "            reverse_count = total - forward_count\n",
    "        else:                                                # case 2: ====ter--------start====>\n",
    "            reverse_count = sequence[ter_C:start].count(base)\n",
    "            forward_count = total - reverse_count\n",
    "        stats[base] = (total, forward_count, reverse_count)\n",
    "    return stats"
   ]
  },
  {
   "cell_type": "code",
   "execution_count": 109,
   "metadata": {},
   "outputs": [
    {
     "name": "stdout",
     "output_type": "stream",
     "text": [
      "\tTotal\tForward\tReverse\tDiference CG compostion\n",
      "C:\t1180091\t578899\t601192\t-22293\n",
      "G:\t1177437\t593925\t583512\t10413\n",
      "A:\t1142742\t572428\t570314\t2114\n",
      "T:\t1141382\t575575\t565807\t9768\n"
     ]
    }
   ],
   "source": [
    "seq_record = SeqIO.read(\"EColi.fasta\", \"fasta\") # GenBank ID: \n",
    "ecoli_genome = str(seq_record.seq)\n",
    "\n",
    "E_oriC_start = 4597344\n",
    "E_ori_offset = 278         # offset to the middle of OriC\n",
    "E_start = E_oriC_start + E_ori_offset\n",
    "\n",
    "ecoli = get_base_compostion_stats(ecoli_genome, E_start)\n",
    "print('\\tTotal'+'\\t'+'Forward'+'\\t'+'Reverse'+'\\t'+'Diference CG compostion')\n",
    "for base in \"CGAT\":\n",
    "    total, forward_count, reverse_count = ecoli[base]\n",
    "    print(\"{}:\\t{}\\t{}\\t{}\\t{}\".format(base, total, forward_count, reverse_count, forward_count - reverse_count))"
   ]
  },
  {
   "cell_type": "code",
   "execution_count": 110,
   "metadata": {},
   "outputs": [
    {
     "name": "stdout",
     "output_type": "stream",
     "text": [
      "\tTotal\tForward\tReverse\tDiference CG compostion\n",
      "C:\t427419\t207901\t219518\t-11617\n",
      "G:\t413241\t211607\t201634\t9973\n",
      "A:\t491488\t247525\t243963\t3562\n",
      "T:\t491363\t244722\t246641\t-1919\n"
     ]
    }
   ],
   "source": [
    "seq_record = SeqIO.read(\"Thermotoga_petrophila.fasta\", \"fasta\") # GenBank ID: CP000702.1\n",
    "thermo_genoma = str(seq_record.seq)\n",
    "\n",
    "\n",
    "T_oriC_start = 786685\n",
    "T_ori_offset = 211          # offset to the middle of OriC\n",
    "T_start = T_oriC_start + T_ori_offset\n",
    "\n",
    "result = get_base_compostion_stats(thermo_genoma, T_start)\n",
    "print('\\tTotal'+'\\t'+'Forward'+'\\t'+'Reverse'+'\\t'+'Diference CG compostion')\n",
    "for base in \"CGAT\":\n",
    "    total, forward_count, reverse_count = result[base]\n",
    "    print(\"{}:\\t{}\\t{}\\t{}\\t{}\".format(base, total, forward_count, reverse_count, forward_count - reverse_count))"
   ]
  },
  {
   "cell_type": "code",
   "execution_count": 107,
   "metadata": {},
   "outputs": [
    {
     "name": "stdout",
     "output_type": "stream",
     "text": [
      "\tTotal\tForward\tReverse\tDiference CG compostion\n",
      "C:\t247272\t119267\t128005\t-8738\n",
      "G:\t244757\t130546\t114211\t16335\n",
      "A:\t277354\t134653\t142701\t-8048\n",
      "T:\t277062\t138757\t138305\t452\n"
     ]
    }
   ],
   "source": [
    "seq_record = SeqIO.read(\"vibrio_cholera.fasta\", \"fasta\") # GenBank ID: CP033513.1\n",
    "vibrio_genome = str(seq_record.seq)\n",
    "\n",
    "ori_start_v = 535819\n",
    "terc_v = 270 # half oric\n",
    "v_start = ori_start_v + terc_v\n",
    "\n",
    "vibrio = get_base_compostion_stats(vibrio_genome, v_start)\n",
    "print('\\tTotal'+'\\t'+'Forward'+'\\t'+'Reverse'+'\\t'+'Diference CG compostion')\n",
    "for base in \"CGAT\":\n",
    "    total, forward_count, reverse_count = vibrio[base]\n",
    "    print(\"{}:\\t{}\\t{}\\t{}\\t{}\".format(base, total, forward_count, reverse_count, forward_count - reverse_count))"
   ]
  },
  {
   "cell_type": "code",
   "execution_count": 28,
   "metadata": {},
   "outputs": [],
   "source": [
    "def get_sequence_skew(sequence):\n",
    "    \"\"\"Returns the difference between the total number of \n",
    "    occurrences of G and the total number of occurrences of C in \n",
    "    the first i elements of the sequence. \"\"\"\n",
    "    skew = [0]\n",
    "    for idx, element in enumerate(sequence):\n",
    "        if sequence[idx] == 'G':\n",
    "            skew.append(skew[idx] + 1)\n",
    "        elif sequence[idx] == 'C':\n",
    "            skew.append(skew[idx] -1)\n",
    "        else:\n",
    "            skew.append(skew[idx])\n",
    "    return skew"
   ]
  },
  {
   "cell_type": "code",
   "execution_count": 124,
   "metadata": {},
   "outputs": [
    {
     "name": "stdout",
     "output_type": "stream",
     "text": [
      "0 -1 -1 -1 0 1 2 1 1 1 0 1 2 1 0 0 0 0 -1 0 -1 -2\n"
     ]
    }
   ],
   "source": [
    "print(' '.join(map(str, get_sequence_skew('CATGGGCATCGGCCATACGCC')))) \n",
    "# 0 -1 -1 -1 0 1 2 1 1 1 0 1 2 1 0 0 0 0 -1 0 -1 -2"
   ]
  },
  {
   "cell_type": "code",
   "execution_count": 127,
   "metadata": {},
   "outputs": [
    {
     "data": {
      "image/png": "[encoded data removed]",
      "text/plain": [
       "<Figure size 432x288 with 1 Axes>"
      ]
     },
     "metadata": {
      "needs_background": "light"
     },
     "output_type": "display_data"
    }
   ],
   "source": [
    "%matplotlib inline\n",
    "\n",
    "coli = get_sequence_skew(ecoli_genome)\n",
    "\n",
    "plt.plot(coli);"
   ]
  },
  {
   "cell_type": "code",
   "execution_count": 29,
   "metadata": {},
   "outputs": [],
   "source": [
    "def get_minimum_skew(sequence):\n",
    "    \"\"\"Returns a position in a sequence minimizing the skew.\"\"\"\n",
    "    min_skew = []\n",
    "    skew = get_sequence_skew(sequence)\n",
    "    m_skew = min(skew)\n",
    "    for idx in range(len(sequence) + 1):\n",
    "        if skew[idx] == m_skew:\n",
    "            min_skew.append(idx)\n",
    "    return min_skew"
   ]
  },
  {
   "cell_type": "code",
   "execution_count": 137,
   "metadata": {},
   "outputs": [
    {
     "data": {
      "text/plain": [
       "[11, 24]"
      ]
     },
     "execution_count": 137,
     "metadata": {},
     "output_type": "execute_result"
    }
   ],
   "source": [
    "myseq = 'TAAAGACTGCCGAGAGGCCAACACGAGTGCTAGAACGAGGGGCGTAAACGCGGGTCCGAT'\n",
    "get_minimum_skew(myseq)"
   ]
  },
  {
   "cell_type": "code",
   "execution_count": 134,
   "metadata": {},
   "outputs": [
    {
     "data": {
      "image/png": "[encoded data removed]",
      "text/plain": [
       "<Figure size 432x288 with 1 Axes>"
      ]
     },
     "metadata": {
      "needs_background": "light"
     },
     "output_type": "display_data"
    }
   ],
   "source": [
    "%matplotlib inline\n",
    "\n",
    "coli_minskew = get_minimum_skew(ecoli_genome)\n",
    "\n",
    "plt.plot(coli);"
   ]
  },
  {
   "cell_type": "code",
   "execution_count": 4,
   "metadata": {},
   "outputs": [],
   "source": [
    "oriC_ecoli = 'aatgatgatgacgtcaaaaggatccggataaaacatggtgattgcctcgcataacgcggta\\\n",
    "tgaaaatggattgaagcccgggccgtggattctactcaactttgtcggcttgagaaagacc\\\n",
    "tgggatcctgggtattaaaaagaagatctatttatttagagatctgttctattgtgatctc\\\n",
    "ttattaggatcgcactgccctgtggataacaaggatccggcttttaagatcaacaacctgg\\\n",
    "aaaggatcattaactgtgaatgatcggtgatcctggaccgtataagctgggatcagaatga\\\n",
    "ggggttatacacaactcaaaaactgaacaacagttgttctttggataactaccggttgatc\\\n",
    "caagcttcctgacagagttatccacagtagatcgcacgatctgtatacttatttgagtaaa\\\n",
    "ttaacccacgatcccagccattcttctgccggatcttccggaatgtcgtgatcaagaatgt\\\n",
    "tgatcttcagtg'"
   ]
  },
  {
   "cell_type": "code",
   "execution_count": 172,
   "metadata": {},
   "outputs": [
    {
     "name": "stdout",
     "output_type": "stream",
     "text": [
      "500\n"
     ]
    }
   ],
   "source": [
    "print(len(oriC_ecoli))"
   ]
  },
  {
   "cell_type": "code",
   "execution_count": 178,
   "metadata": {},
   "outputs": [
    {
     "data": {
      "text/plain": [
       "['aaggatccg', 'aggatccgg']"
      ]
     },
     "execution_count": 178,
     "metadata": {},
     "output_type": "execute_result"
    }
   ],
   "source": [
    "find_pattern_clumps(oriC_ecoli, 9, 500, 2)"
   ]
  },
  {
   "cell_type": "code",
   "execution_count": 183,
   "metadata": {},
   "outputs": [
    {
     "name": "stdout",
     "output_type": "stream",
     "text": [
      "9-mers with a frequency bigger than 3 were not found.\n",
      "9-mers with a frequency bigger than 3 were not found.\n",
      "9-mers with a frequency bigger than 3 were not found.\n",
      "9-mers with a frequency bigger than 3 were not found.\n",
      "9-mers with a frequency bigger than 3 were not found.\n"
     ]
    }
   ],
   "source": [
    "most_freq_pat = most_frequent_patterns(oriC_ecoli, 9, 5)\n",
    "\n",
    "for data in most_freq_pat:\n",
    "    if data[1] >= 3:\n",
    "        print(data[0])\n",
    "    else:\n",
    "        print('9-mers with a frequency bigger than 3 were not found.')"
   ]
  },
  {
   "cell_type": "code",
   "execution_count": 173,
   "metadata": {},
   "outputs": [
    {
     "data": {
      "text/plain": [
       "[3925597]"
      ]
     },
     "execution_count": 173,
     "metadata": {},
     "output_type": "execute_result"
    }
   ],
   "source": [
    "get_pattern_starpos_rgx(ecoli_genome, oriC_ecoli.upper()) # 3923620"
   ]
  },
  {
   "cell_type": "code",
   "execution_count": 175,
   "metadata": {},
   "outputs": [
    {
     "data": {
      "text/plain": [
       "[]"
      ]
     },
     "execution_count": 175,
     "metadata": {},
     "output_type": "execute_result"
    }
   ],
   "source": [
    "get_pattern_starpos_rgx(oriC_ecoli.upper(), 'ATGATCAAG')"
   ]
  },
  {
   "cell_type": "code",
   "execution_count": 11,
   "metadata": {},
   "outputs": [],
   "source": [
    "def hamming_distance(sequence1, sequence2):\n",
    "    \"\"\"Return the HD form two inputed sequences\"\"\"\n",
    "    return len([(x,y) for x,y in zip(sequence1, sequence2) if x != y])"
   ]
  },
  {
   "cell_type": "code",
   "execution_count": 194,
   "metadata": {},
   "outputs": [
    {
     "data": {
      "text/plain": [
       "3"
      ]
     },
     "execution_count": 194,
     "metadata": {},
     "output_type": "execute_result"
    }
   ],
   "source": [
    "s1 = 'GGGCCGTTGGT'\n",
    "s2 = 'GGACCGTTGAC'\n",
    "hamming_distance(s1, s2)"
   ]
  },
  {
   "cell_type": "code",
   "execution_count": 195,
   "metadata": {},
   "outputs": [
    {
     "name": "stdout",
     "output_type": "stream",
     "text": [
      "4\n",
      "8\n",
      "6\n",
      "8\n",
      "15\n",
      "28\n",
      "844\n"
     ]
    }
   ],
   "source": [
    "# tests\n",
    "\n",
    "print(hamming_distance('AAAA', 'TTTT'))  # 4\n",
    "\n",
    "print(hamming_distance('ACGTACGT', 'TACGTACG'))  # 8\n",
    "\n",
    "print(hamming_distance('ACGTACGT', 'CCCCCCCC'))  # 6\n",
    "\n",
    "print(hamming_distance('ACGTACGT', 'TGCATGCA'))  # 8\n",
    "\n",
    "\n",
    "sa = 'GATAGCAGCTTCTGAACTGGTTACCTGCCGTGAGTAAATTAAAATTTTATTGACTTAGGTCACT\\\n",
    "AAATACT'\n",
    "sb = 'AATAGCAGCTTCTCAACTGGTTACCTCGTATGAGTAAATTAGGTCATTATTGACTCAGGTCACT\\\n",
    "AACGTCT'  # 15\n",
    "print(hamming_distance(sa, sb)) \n",
    "\n",
    "\n",
    "sc = 'AGAAACAGACCGCTATGTTCAACGATTTGTTTTATCTCGTCACCGGGATATTGCGGCCACTCAT\\\n",
    "CGGTCAGTTGATTACGCAGGGCGTAAATCGCCAGAATCAGGCTG'\n",
    "sd = 'AGAAACCCACCGCTAAAAACAACGATTTGCGTAGTCAGGTCACCGGGATATTGCGGCCACTAAG\\\n",
    "GCCTTGGATGATTACGCAGAACGTATTGACCCAGAATCAGGCTC'  # 28\n",
    "print(hamming_distance(sc, sd))\n",
    "\n",
    "se = 'CCGAAGCAATTGAAACCCCCCCGGCCTGGGAGGCGCAAAAATCTGACCTCTTTGTGAGTTGACCA\\\n",
    "CTTAATTTATGTCTGACCACGAGAAGGGCTACTGATTTGGTACGTCGGGTCATGACCCCCAGTTCTTAGCC\\\n",
    "GCCTGCTCCAATCTCTGACTTGTTTATCGAGGGGATGGAGTAACGAAATGCGATTCGCCCGCTCAGGCCAA\\\n",
    "GGTATATATTTGAGTAGCGGAAGGTTGCACTACCTACAACCACGGCACACCGGCACGTTGTCGTGCCCTGG\\\n",
    "CGGCCTGCGCACTTTCGCCACTGTCAAGTACGACTTCCCAAGCTCAACCAACATTCATAATCCGGTGCAAT\\\n",
    "TCATACCGTATCATCGTGCTATAAGCGACGCCGATTCTCGGGGCCTGATAATTGAGACTGGACTACATAGT\\\n",
    "GGGTGCCCTCTCTGCGAGTAAGTGACGGAACAACGGAGATCAGGGACCAAATGGTAGCAAAACAGATCGAG\\\n",
    "GTACACGCAGGTAGCTGTCCGTGGAGTAGACCGCGCTTAGCGTCTGTTAGAGTATCATCGGGGTATTAGAC\\\n",
    "ACAGGAACCTCTATGCTGTTAAAAGGCCATACCCCGTAATTGTGCAAATTTGTTACGTTCAAATCTACGCA\\\n",
    "GTGAGGGTCCTAAGGTGATGGCAGGGATTGGAACTTCTCCGCTGGCTCTTAGATTACTTAGCCAGTCTACC\\\n",
    "CTCGAAGATACAAATCCTTCCACCAGAGGGAGCTCATTGAAATTCATTCCATGCTACTCGACCGCGCGTAT\\\n",
    "GGGTGCGGGGCTCTATGGGATCTAACTCGATCCTTCAGAGTCCTTATTCAAATGCATTTCCGTCCCCGTAT\\\n",
    "GTTTCGACGAAGCCGAAGCCCAAACCCTGGGATGGACGAATTAAGGACAGTACAGGCAATAGTGTTCTCCC\\\n",
    "ATACTCGGAACAGACGCCTCATTTTTTCGCGAAATCGATCTGGGTTGGAAGAAGTTCCAGTGCAGAGTTCC\\\n",
    "TATCACACAATTCGTTCTCGGGGCTTCCGGCCCATAAGCGATACTACTGTCTTTGCGAGCTAACGATTACA\\\n",
    "TTCGGGGGAACTTAGCTCGGACTGGACCAGGTACATGATCCAAAGCGCGATGTCTGTCTGTTACCCTCACCG\\\n",
    "CCGCTCTTTTATCGGGTA'\n",
    "sf = 'GCGTAGTAGGTTCGCGTACCTAGTTCCGCCGAAAAGACAAAGGAGAAGGGAATGCTCCTAGTAGT\\\n",
    "TTCAGTCTAGCAAACATGTTATAACGCTAACTGTGTGCTGCAAAAAGGATTTGAACCCAAATTTTAAAGCG\\\n",
    "CTGATCGACAGAACGCTGTTGAAGAGGCGATGGTACTGAGATTCCCCAGAAACCACCTCCGCGCTATGTGC\\\n",
    "TCAAGACAACCCGCATTCGTTTTTACTAGATTTGGAGCCGAGTTGTGATTTGGATATTTTCACATAAGACC\\\n",
    "GAGCAGGAAATATACCTTGTTGCAGCTATTGACCCCGTTCTCTCGGAAATCCATGGAATAGTCTTCGGATA\\\n",
    "TTCGTACCAATGGGCGCGATGTTGCGATAAGAGAGCACATTTCATTAAGTGGTGCTCCGCCGCTAAGATG\\\n",
    "GGAAGGGGCGAGTCTATCGCAGCATCGAAGGCTGAGTTGGCCATTGCCGAGAGTATACATATTTACGATCA\\\n",
    "CACTCGCATAGTCCCACGCATTACGTCCGAGATAGTATGTCCCAATGCAACCTAAAGCCGCGAGATTCCCT\\\n",
    "AAGGAGAAAATTAAACACTGGAAATTAGGTGATGCTACATCCCATGGACACTTTCGGAACAATATCGGTGA\\\n",
    "CACACATCATCCGTGATCCCGTGATATTTCATCCATGGAGAGAGTATGGTTTTACTACACCTGGTCTAGGC\\\n",
    "CAAGCCTAACCCCCTGTTCATCCGTTTTATACGAGTATTACCTTGACGACCATAGAGGATAGACTCGGTAT\\\n",
    "CCCGCACACTCTACACACACGACTTAATCCGCTCCACGACCTTCCTAGCGATCTTTGGCGCAGCCGGTTCG\\\n",
    "CGTATTTTACGACCAACTCGATGGATCCCAATTATCCCCCTGGTAGTGCCCCTCCGCCTGAGAATTCGACG\\\n",
    "GGCGAGGTCCGGGGGACCGACATAGAGTGGAATGCTTCTTTCCGGGATAACACGTGATTGACATAAAAATG\\\n",
    "TAGGGCAGATAGGCATCGTTAGCACCTCTCTCCTTGCTGCACTGCGTTTATCGATCGAATTCAAGACTTGT\\\n",
    "GCATGTTGAAAACAACCTCGCGTTATCCCTGCTATTTGCTTCAGAGCCGTAGGAGGGGACCATGCGTGAGT\\\n",
    "CCTCCTGAGCAACCTCAATT'\n",
    "print(hamming_distance(se, sf))  # 844"
   ]
  },
  {
   "cell_type": "code",
   "execution_count": 31,
   "metadata": {},
   "outputs": [],
   "source": [
    "def pattern_with_mismatches_finder(sequence, pattern, distance):\n",
    "    \"\"\"Return list of positions of the pattern with hamming distance d from one input sequence.\"\"\"\n",
    "    positions = []\n",
    "    count = 0\n",
    "    for i in range(len(sequence) -  len(pattern) + 1):\n",
    "        pat = sequence[i:i+len(pattern)]\n",
    "        if hamming_distance(pattern, pat)<= distance:\n",
    "            count += 1\n",
    "            positions.append(i)\n",
    "    return positions"
   ]
  },
  {
   "cell_type": "code",
   "execution_count": 108,
   "metadata": {},
   "outputs": [
    {
     "name": "stdout",
     "output_type": "stream",
     "text": [
      "1.3210826490000045\n"
     ]
    }
   ],
   "source": [
    "start = time.process_time()\n",
    "pattern_with_mismatches_finder(vibrio_genome, 'ATCCGGTGAG', 2)\n",
    "end = time.process_time()\n",
    "total = end - start\n",
    "print(total)"
   ]
  },
  {
   "cell_type": "code",
   "execution_count": 10,
   "metadata": {},
   "outputs": [],
   "source": [
    "def hamming_pattern_count(sequence, pattern, distance):\n",
    "    \"\"\"Return the number of times the pattern with hamming distance d is found \n",
    "    in the inputed sequence.\"\"\"\n",
    "    return len([i for i in range(len(sequence) - len(pattern) + 1) if \n",
    "                hamming_distance(sequence[i:i+len(pattern)], pattern) <= distance])"
   ]
  },
  {
   "cell_type": "code",
   "execution_count": 109,
   "metadata": {},
   "outputs": [
    {
     "name": "stdout",
     "output_type": "stream",
     "text": [
      "1.2809613469999874\n"
     ]
    }
   ],
   "source": [
    "start = time.process_time()\n",
    "hamming_pattern_count(vibrio_genome, 'ATCCGGTGAG', 2)\n",
    "end = time.process_time()\n",
    "total = end - start\n",
    "print(total)"
   ]
  },
  {
   "cell_type": "code",
   "execution_count": 33,
   "metadata": {},
   "outputs": [],
   "source": [
    "def hamming_pattern_positions(sequence, pattern, distance):\n",
    "    \"\"\"Return list of positions of the pattern with hamming distance d from one input sequence.\"\"\"\n",
    "    return [i for i in range(len(sequence) - len(pattern) + 1) if \n",
    "                hamming_distance(sequence[i:i+len(pattern)], pattern) <= distance]"
   ]
  },
  {
   "cell_type": "code",
   "execution_count": 111,
   "metadata": {},
   "outputs": [
    {
     "name": "stdout",
     "output_type": "stream",
     "text": [
      "1.2527527350000014\n"
     ]
    }
   ],
   "source": [
    "start = time.process_time()\n",
    "hamming_pattern_positions(vibrio_genome, 'ATCCGGTGAG', 2)\n",
    "end = time.process_time()\n",
    "total = end - start\n",
    "print(total)"
   ]
  },
  {
   "cell_type": "code",
   "execution_count": 102,
   "metadata": {},
   "outputs": [
    {
     "data": {
      "text/plain": [
       "[6, 7, 26, 27]"
      ]
     },
     "execution_count": 102,
     "metadata": {},
     "output_type": "execute_result"
    }
   ],
   "source": [
    "text = 'CGCCCGAATCCAGAACGCATTCCCATATTTCGGGACCACTGGCCTCCACGGTACGGACGTCAATCAAAT'\n",
    "pattern_with_mismatches_finder(text, 'ATTCTGGA', 3)  # 6 7 26 27"
   ]
  },
  {
   "cell_type": "code",
   "execution_count": 103,
   "metadata": {},
   "outputs": [
    {
     "data": {
      "text/plain": [
       "4"
      ]
     },
     "execution_count": 103,
     "metadata": {},
     "output_type": "execute_result"
    }
   ],
   "source": [
    "hamming_pattern_count(text, 'ATTCTGGA', 3)"
   ]
  },
  {
   "cell_type": "code",
   "execution_count": 105,
   "metadata": {},
   "outputs": [
    {
     "data": {
      "text/plain": [
       "[6, 7, 26, 27]"
      ]
     },
     "execution_count": 105,
     "metadata": {},
     "output_type": "execute_result"
    }
   ],
   "source": [
    "hamming_pattern_positions(text, 'ATTCTGGA', 3)"
   ]
  },
  {
   "cell_type": "code",
   "execution_count": 202,
   "metadata": {},
   "outputs": [
    {
     "name": "stdout",
     "output_type": "stream",
     "text": [
      "[4, 5, 6, 7, 8, 11, 12, 13, 14, 15]\n",
      "[0, 30, 66]\n",
      "[3, 36, 74, 137]\n",
      "[0, 7, 36, 44, 48, 72, 79, 112]\n",
      "[0, 1, 2, 3]\n",
      "[0]\n"
     ]
    }
   ],
   "source": [
    "#tests\n",
    "\n",
    "print(pattern_with_mismatches_finder('TTTTTTAAATTTTAAATTTTTT', 'AAA', 2))  # 4 5 6 7 8 11 12 13 14 15\n",
    "\n",
    "p = 'GAGCGCTGG'\n",
    "t = 'GAGCGCTGGGTTAACTCGCTACTTCCCGACGAGCGCTGTGGCGCAAATTGGCGATGA\\\n",
    "AACTGCAGAGAGAACTGGTCATCCAACTGAATTCTCCCCGCTATCGCATTTTGATGCGCGCCGCGTCGATT'\n",
    "d = 2  # 0 30 66\n",
    "print(pattern_with_mismatches_finder(t, p, 2))\n",
    "\n",
    "p1 = 'AATCCTTTCA'\n",
    "t1 = 'CCAAATCCCCTCATGGCATGCATTCCCGCAGTATTTAATCCTTTCATTCTGCATATAA\\\n",
    "GTAGTGAAGGTATAGAAACCCGTTCAAGCCCGCAGCGGTAAAACCGAGAACCATGATGAATGCACGGCGATTGCGCCATAATCCAAACA'\n",
    "d1 = 3 # 3 36 74 137\n",
    "print(pattern_with_mismatches_finder(t1, p1, 3))\n",
    "\n",
    "\n",
    "p2 = 'CCGTCATCC'\n",
    "t2 = 'CCGTCATCCGTCATCCTCGCCACGTTGGCATGCATTCCGTCATCCCGTCAGGCATACT\\\n",
    "TCTGCATATAAGTACAAACATCCGTCATGTCAAAGGGAGCCCGCAGCGGTAAAACCGAGAACCATGATGAATGCACGGCGATTGC'\n",
    "d2 = 3  # 0 7 36 44 48 72 79 112\n",
    "print(pattern_with_mismatches_finder(t2, p2, 3))\n",
    "\n",
    "print(pattern_with_mismatches_finder('AAAAAA', 'TTT', 3))  # 0 1 2 3\n",
    "\n",
    "print(pattern_with_mismatches_finder('CCACCT', 'CCA', 0))  # 0\n"
   ]
  },
  {
   "cell_type": "code",
   "execution_count": 210,
   "metadata": {},
   "outputs": [
    {
     "name": "stdout",
     "output_type": "stream",
     "text": [
      "[3, 5, 10, 17, 18, 26, 27, 29, 30, 31, 33, 34, 43, 44, 48, 50, 52, 54, 60, 61, 62, 63, 66, 67, 72, 74, 75, 78, 81, 83, 86, 92, 94, 98, 99, 104, 105, 108, 111, 112, 116, 122, 125, 126, 131, 135, 136, 139, 146, 147, 153, 154, 158, 160, 162, 166, 169, 171, 172, 176, 182, 184, 186, 190, 193, 194, 197, 206, 209, 214, 217, 220, 223, 229, 232, 234, 236, 240, 242, 243, 248, 249, 251, 254, 255, 262, 265, 271, 273, 275, 277, 281, 286, 287, 289, 290, 293, 294, 298, 302, 305, 307, 311, 315, 316, 317, 320, 321, 325, 331, 332, 338, 339, 341, 343, 346, 347, 348, 354, 362, 363, 364, 370, 371, 372, 374, 376, 378, 379, 383, 387, 389, 391, 394, 395, 398, 403, 406, 407, 408, 418, 421, 425, 426, 428, 430, 432, 434, 436, 438, 440, 443, 444, 448, 451, 452, 455, 459, 460, 462, 466, 468, 472, 482, 486, 490, 494, 497, 500, 503, 509, 512, 513, 516, 517, 522, 525, 526, 527, 532, 535, 537, 539, 543, 545, 546, 549, 551, 558, 560, 563, 566, 567, 570, 572, 578, 584, 586, 599, 605, 609, 615, 618, 622, 623, 627, 629, 630, 633, 636, 638, 642, 643, 644, 648, 652, 655, 657, 659, 666, 668, 670, 672, 673, 674, 681, 683, 685, 688, 689, 692, 696, 703, 705, 707, 711, 716, 719, 724, 725, 726, 729, 734, 735, 739, 743, 749, 755, 759, 761, 764, 765, 767, 768, 771, 773, 775, 777, 780, 781, 782, 784, 788, 789, 794, 796, 798, 800, 803, 804, 805, 808, 810, 812, 816, 818, 820, 822, 825, 829, 835, 836, 843, 851, 852, 854, 855, 860, 862, 866, 870, 872, 873, 879, 883, 884, 888, 894, 897, 898, 899, 905, 913, 914, 921, 922, 928, 933, 937, 941, 946, 947, 952, 956, 958, 959, 962, 964, 965, 968, 971, 976, 978, 982, 983, 984, 987, 998, 999, 1002, 1004, 1005, 1008, 1009, 1013, 1014, 1023, 1029, 1032, 1033, 1034, 1038, 1042, 1044, 1048, 1050, 1054, 1058, 1061, 1063, 1067, 1075, 1076, 1083, 1084, 1090, 1092, 1096, 1097, 1102, 1108, 1112, 1117, 1120, 1122, 1124, 1126, 1130, 1131, 1136, 1139, 1141, 1143, 1145, 1150, 1152, 1157, 1160, 1161, 1162, 1168, 1170, 1172, 1175, 1176, 1188, 1189, 1197, 1200, 1205, 1206, 1212, 1214, 1215, 1218, 1220, 1224, 1228, 1233, 1235, 1241, 1246, 1247, 1250, 1253, 1254, 1258, 1260, 1264, 1266, 1268, 1270, 1274, 1277, 1283, 1286, 1287, 1291, 1295, 1296, 1301, 1304, 1310, 1312, 1318, 1319, 1320, 1324, 1325, 1326, 1328, 1332, 1335, 1337, 1341, 1342, 1343, 1350, 1351, 1355, 1360, 1361, 1366, 1370, 1374, 1379, 1381, 1385, 1387, 1390, 1391, 1397, 1398, 1404, 1405, 1406, 1410, 1411, 1417, 1418, 1427, 1429, 1431, 1435, 1437, 1439, 1443, 1448, 1455, 1459, 1463, 1467, 1471, 1478, 1482, 1487, 1489, 1499, 1503, 1505, 1506, 1509, 1514, 1515, 1516, 1519, 1523, 1527, 1528, 1530, 1536, 1537, 1539, 1543, 1544, 1547, 1549, 1553, 1555, 1557, 1558, 1560, 1564, 1566, 1567, 1572, 1575, 1585, 1587, 1591, 1597, 1598, 1606, 1607, 1612, 1618, 1619, 1621, 1622, 1624, 1631, 1633, 1637, 1639, 1640, 1641, 1645, 1646, 1651, 1653, 1655, 1661, 1662, 1663, 1670, 1671, 1674, 1680, 1681, 1685, 1690, 1695, 1696, 1700, 1704, 1705, 1706, 1710, 1712, 1713, 1717, 1721, 1723, 1726, 1733, 1734, 1738, 1746, 1749, 1751, 1753, 1755, 1759, 1761, 1765, 1766, 1769, 1770, 1775, 1776, 1777, 1780, 1781, 1784, 1786, 1792, 1796, 1800, 1804, 1805, 1809, 1814, 1815, 1816, 1820, 1825, 1826, 1827, 1832, 1837, 1842, 1847, 1851, 1857, 1858, 1859, 1862, 1866, 1870, 1871, 1875, 1876, 1877, 1880, 1886, 1888, 1892, 1896, 1897, 1898, 1899, 1904, 1905, 1914, 1915, 1918, 1921, 1922, 1926, 1927, 1929, 1931, 1935, 1938, 1945, 1946, 1949, 1952, 1956, 1961, 1966, 1967, 1969, 1973, 1977, 1979, 1982, 1983, 1984, 1990, 1994, 1995, 2000, 2001, 2002, 2004, 2007, 2008, 2012, 2017, 2019, 2021, 2026, 2027, 2031, 2035, 2041, 2045, 2048, 2050, 2052, 2054, 2061, 2070, 2072, 2074, 2076, 2078, 2082, 2083, 2084, 2085, 2088, 2092, 2095, 2096, 2102, 2103, 2108, 2110, 2114, 2116, 2118, 2122, 2128, 2131, 2132, 2134, 2137, 2139, 2144, 2149, 2150, 2153, 2154, 2158, 2161, 2166, 2168, 2170, 2174, 2178, 2180, 2181, 2184, 2190, 2194, 2196, 2198, 2202, 2206, 2208, 2209, 2212, 2214, 2218, 2222, 2225, 2231, 2232, 2234, 2236, 2240, 2243, 2244, 2246, 2249, 2257, 2259, 2261, 2262, 2265, 2269, 2271, 2274, 2275, 2279, 2283, 2285, 2289, 2291, 2297, 2306, 2310, 2311, 2312, 2314, 2318, 2319, 2321, 2325, 2329, 2330, 2333, 2339, 2342, 2351, 2352, 2353, 2357, 2358, 2359, 2360, 2364, 2368, 2369, 2373, 2377, 2379, 2380, 2383, 2385, 2388, 2392, 2396, 2397, 2401, 2407, 2408, 2414, 2418, 2419, 2420, 2422, 2426, 2427, 2431, 2435, 2437, 2438, 2441, 2456, 2457, 2460, 2462, 2466, 2474, 2478, 2481, 2482, 2488, 2492, 2496, 2498, 2502, 2512, 2513, 2516, 2517, 2522, 2526, 2530, 2531, 2534, 2535, 2539, 2546, 2547, 2551, 2554, 2555, 2556, 2561, 2565, 2567, 2573, 2579, 2582, 2584, 2586, 2588, 2593, 2597, 2598, 2600, 2601, 2602, 2612, 2613, 2619, 2622, 2626, 2630, 2632, 2634, 2641, 2647, 2648, 2649, 2650, 2654, 2656, 2657, 2660, 2662, 2664, 2666, 2668, 2672, 2674, 2675, 2679, 2680, 2684, 2685, 2688, 2689, 2692, 2698, 2705, 2706, 2712, 2715, 2716, 2722, 2727, 2728, 2732, 2734, 2738, 2743, 2747, 2749, 2751, 2755, 2758, 2762, 2763, 2772, 2776, 2777, 2778, 2781, 2782, 2784, 2790, 2793, 2797, 2801, 2802, 2805, 2810, 2811, 2814, 2815, 2817, 2831, 2833, 2837, 2844, 2846, 2847, 2848, 2850, 2851, 2856, 2857, 2859, 2863, 2868, 2870, 2877, 2879, 2883, 2884, 2887, 2889, 2894, 2895, 2901, 2904, 2908, 2909, 2913, 2915, 2917, 2921, 2923, 2934, 2935, 2936, 2940, 2945, 2946, 2952, 2956, 2958, 2962, 2964, 2965, 2968, 2976, 2977, 2978, 2983, 2985, 2988, 2992, 2995, 2997, 2998, 3003, 3008, 3012, 3016, 3018, 3024, 3027, 3029, 3035, 3038, 3044, 3047, 3048, 3054, 3055, 3058, 3066, 3070, 3072, 3073, 3074, 3078, 3082, 3085, 3087, 3088, 3095, 3096, 3101, 3102, 3105, 3106, 3108, 3112, 3116, 3120, 3128, 3132, 3138, 3142, 3143, 3151, 3152, 3157, 3158, 3159, 3165, 3166, 3167, 3171, 3173, 3174, 3178, 3181, 3182, 3184, 3189, 3191, 3192, 3194, 3195, 3196, 3203, 3204, 3205, 3212, 3215, 3220, 3222, 3228, 3230, 3232, 3234, 3237, 3241, 3245, 3249, 3250, 3254, 3255, 3258, 3259, 3267, 3268, 3274, 3277, 3279, 3281, 3282, 3283, 3285, 3288, 3295, 3296, 3299, 3300, 3302, 3306, 3308, 3309, 3311, 3315, 3322, 3324, 3326, 3330, 3333, 3335, 3343, 3344, 3349, 3351, 3353, 3356, 3358, 3362, 3366, 3370, 3372, 3374, 3378, 3387, 3390, 3395, 3401, 3403, 3407, 3411, 3415, 3417, 3419, 3420, 3424, 3427, 3433, 3440, 3444, 3447, 3448, 3449, 3456, 3458, 3463, 3465, 3468, 3470, 3472, 3475, 3477, 3478, 3481, 3483, 3485, 3489, 3493, 3495, 3497, 3501, 3503, 3505, 3507, 3509, 3515, 3516, 3522, 3523, 3524, 3530, 3533, 3534, 3537, 3538, 3544, 3546, 3553, 3555, 3557, 3564, 3565, 3567, 3568, 3572, 3574, 3580, 3586, 3595, 3601, 3604, 3605, 3606, 3608, 3612, 3616, 3617, 3623, 3628, 3629, 3633, 3634, 3640, 3641, 3645, 3649, 3655, 3656, 3657, 3661, 3665, 3667, 3671, 3673, 3679, 3681, 3685, 3691, 3692, 3696, 3697, 3702, 3704, 3708, 3718, 3719, 3720, 3723, 3724, 3727, 3731, 3735, 3744, 3750, 3751, 3752, 3755, 3759, 3761, 3765, 3768, 3772, 3774, 3775, 3779, 3781, 3785, 3788, 3792, 3796, 3798, 3799, 3801, 3804, 3808, 3812, 3818, 3820, 3825, 3826, 3829, 3831, 3835, 3838, 3840, 3841, 3851, 3852, 3855, 3859, 3863, 3865, 3867, 3873, 3877, 3879, 3889, 3890, 3892, 3893, 3899, 3900, 3904, 3912, 3915, 3916, 3917, 3923, 3926, 3928, 3929, 3932, 3933, 3935, 3937, 3944, 3947, 3953, 3954, 3958, 3959, 3964, 3971, 3973, 3979, 3980, 3986, 3988, 3992, 3994, 3996, 3997, 4001, 4006, 4009, 4010, 4016, 4019, 4020, 4021, 4024, 4029, 4033, 4035, 4037, 4040, 4044, 4048, 4049, 4051, 4053, 4055, 4062, 4063, 4067, 4070, 4073, 4082, 4083, 4086, 4088, 4096, 4097, 4098, 4100, 4102, 4104, 4108, 4109, 4111, 4115, 4117, 4121, 4124, 4128, 4130, 4131, 4132, 4137, 4138, 4139, 4142, 4143, 4149, 4150, 4153, 4155, 4161, 4162, 4163, 4167, 4169, 4171, 4174, 4178, 4181, 4185, 4188, 4194, 4195, 4197, 4198, 4204, 4206, 4208, 4209, 4216, 4219, 4220, 4226, 4228, 4232, 4236, 4237, 4240, 4241, 4247, 4248, 4251, 4252, 4256, 4259, 4260, 4268, 4269, 4273, 4274, 4276, 4277, 4281, 4282, 4285, 4288, 4289, 4290, 4295, 4296, 4298, 4300, 4303, 4304, 4310, 4311, 4317, 4321, 4323, 4324, 4325, 4327, 4329, 4333, 4334, 4339, 4341, 4349, 4350, 4354, 4357, 4363, 4365, 4376, 4377, 4378, 4384, 4388, 4392, 4394, 4398, 4401, 4402, 4403, 4407, 4408, 4410, 4412, 4413, 4414, 4415, 4416, 4418, 4422, 4424, 4425, 4429, 4431, 4433, 4436, 4440, 4442, 4444, 4446, 4448, 4452, 4453, 4458, 4459, 4462, 4464, 4466, 4473, 4475, 4483, 4485, 4489, 4493, 4494, 4498, 4500, 4502, 4504, 4506, 4509, 4510, 4512, 4521, 4525, 4526, 4530, 4531, 4536, 4537, 4538, 4544, 4548, 4550, 4558, 4561, 4568, 4569, 4572, 4578, 4579, 4582, 4583, 4590, 4593, 4594, 4595, 4599, 4600, 4604, 4607, 4608, 4611, 4614, 4620, 4623, 4624, 4630, 4631, 4635, 4637, 4640, 4643, 4644, 4653, 4654, 4656, 4660, 4662, 4664, 4669, 4674, 4676, 4680, 4687, 4688, 4692, 4700, 4704, 4705, 4708, 4709, 4712, 4716, 4718, 4722, 4726, 4734, 4735, 4736, 4738, 4739, 4740, 4742, 4744, 4745, 4751, 4753, 4754, 4755, 4761, 4766, 4767, 4771, 4777, 4779, 4781, 4785, 4786, 4790, 4792, 4794, 4798, 4801, 4803, 4805, 4807, 4809, 4812, 4820, 4821, 4824, 4825, 4827, 4829, 4831, 4835, 4840, 4843, 4844, 4845, 4847, 4851, 4853, 4857, 4864, 4865, 4869, 4878, 4880, 4886, 4891, 4892, 4894, 4897, 4898, 4900, 4904, 4910, 4915, 4917, 4919, 4920, 4921, 4926, 4928, 4939, 4941, 4943, 4947, 4948, 4954, 4955, 4957, 4959, 4961, 4963, 4966, 4968, 4969, 4976, 4981, 4983, 4987, 4991, 4995, 4999, 5003, 5007, 5009, 5015, 5018, 5021, 5022, 5029, 5032, 5035, 5038, 5042, 5045, 5047, 5051, 5052, 5057, 5062, 5072, 5077, 5081, 5083, 5088, 5092, 5094, 5096, 5098, 5101, 5102, 5106, 5108, 5111, 5113, 5115, 5119, 5124, 5125, 5126, 5128, 5130, 5132, 5134, 5136, 5140, 5146, 5147, 5151, 5152, 5155, 5157, 5161, 5165, 5166, 5172, 5178, 5180, 5182, 5184, 5186, 5187, 5188, 5190, 5199, 5204, 5208, 5210, 5218, 5221, 5224, 5226, 5232, 5235, 5236, 5239, 5241, 5243, 5249, 5251, 5252, 5253, 5255, 5265, 5268, 5269, 5272, 5280, 5284, 5286, 5290, 5294, 5295, 5299, 5300, 5306, 5310, 5311, 5317, 5320, 5321, 5324, 5329, 5333, 5335, 5336, 5337, 5343, 5347, 5349, 5353, 5354, 5355, 5359, 5360, 5361, 5362, 5365, 5366, 5370, 5378, 5379, 5381, 5383, 5385, 5390, 5396, 5397, 5403, 5410, 5411, 5412, 5414, 5419, 5420, 5424, 5428, 5434, 5435, 5441, 5449, 5450, 5451, 5454, 5458, 5459, 5460, 5462, 5464, 5465, 5469, 5473, 5475, 5477, 5479, 5481, 5483, 5485, 5486, 5498, 5499, 5501, 5505, 5511, 5512, 5514, 5517, 5518, 5520, 5526, 5529, 5532, 5535, 5543, 5544, 5546, 5552, 5553, 5559, 5560, 5563, 5564, 5566, 5568, 5572, 5576, 5578, 5580, 5592, 5601, 5605, 5606, 5612, 5615, 5621, 5625, 5628, 5629, 5632, 5634, 5635, 5636, 5638, 5641, 5646, 5647, 5650, 5654, 5657, 5661, 5665, 5669, 5671, 5672, 5675, 5680, 5682, 5684, 5686, 5688, 5691, 5695, 5697, 5704, 5708, 5715, 5720, 5724, 5725, 5728, 5732, 5733, 5736, 5737, 5738, 5741, 5742, 5747, 5751, 5754, 5758, 5760, 5762, 5766, 5768, 5770, 5774, 5776, 5780, 5786, 5787, 5790, 5793, 5795, 5799, 5800, 5802, 5804, 5806, 5808, 5810, 5815, 5817, 5821, 5823, 5824, 5830, 5838, 5840, 5841, 5842, 5848, 5850, 5856, 5858, 5862, 5864, 5868, 5869, 5874, 5875, 5878, 5883, 5887, 5888, 5892, 5897, 5900, 5902, 5903, 5906, 5907, 5913, 5914, 5917, 5920, 5922, 5923, 5924, 5927, 5928, 5930, 5931, 5934, 5936, 5939, 5943, 5944, 5949, 5953, 5955, 5961, 5973, 5979, 5982, 5987, 5992, 5996, 5998, 5999, 6000, 6004, 6005, 6008, 6009, 6015, 6021, 6026, 6027, 6028, 6033, 6034, 6041, 6042, 6045, 6046, 6049, 6050, 6056, 6064, 6065, 6068, 6069, 6072, 6076, 6078, 6081, 6084, 6088, 6094, 6095, 6097, 6103, 6104, 6105, 6109, 6111, 6117, 6120, 6123, 6126, 6136, 6141, 6145, 6147, 6152, 6153, 6156, 6160, 6164, 6166, 6170, 6172, 6174, 6176, 6178, 6183, 6184, 6188, 6190, 6194, 6196, 6207, 6214, 6215, 6218, 6221, 6222, 6229, 6232, 6233, 6236, 6238, 6244, 6245, 6249, 6252, 6256, 6261, 6263, 6265, 6269, 6275, 6276, 6279, 6282, 6284, 6294, 6296, 6298, 6300, 6301, 6304, 6306, 6307, 6310, 6312, 6316, 6317, 6318, 6322, 6323, 6326, 6327, 6329, 6330, 6339, 6343, 6345, 6349, 6352, 6353, 6359, 6363, 6364, 6366, 6370, 6373, 6375, 6376, 6377, 6379, 6383, 6384, 6385, 6393, 6394, 6401, 6404, 6411, 6412, 6417, 6419, 6421, 6423, 6425, 6427, 6431, 6435, 6437, 6441, 6450, 6452, 6454, 6456, 6459, 6460, 6464, 6468, 6472, 6476, 6478, 6482, 6484, 6486, 6488, 6492, 6494, 6498, 6499, 6503, 6505, 6507, 6508, 6524, 6525, 6528, 6529, 6532, 6535, 6539, 6543, 6544, 6546, 6549, 6550, 6553, 6554, 6560, 6561, 6564, 6569, 6570, 6571, 6573, 6575, 6581, 6585, 6589, 6595, 6599, 6609, 6610, 6612, 6615, 6622, 6626, 6627, 6635, 6639, 6643, 6647, 6648, 6651, 6660, 6661, 6662, 6663, 6667, 6669, 6676, 6682, 6686, 6690, 6692, 6696, 6700, 6702, 6704, 6708, 6710, 6712, 6719, 6720, 6723, 6726, 6730, 6733, 6735, 6736, 6737, 6740, 6742, 6744, 6750, 6753, 6755, 6757, 6759, 6766, 6771, 6773, 6778, 6782, 6787, 6789, 6794, 6795, 6796, 6799, 6800, 6803, 6805, 6806, 6810, 6811, 6816, 6817, 6819, 6820, 6824, 6829, 6832, 6835, 6836, 6840, 6843, 6847, 6848, 6851, 6856, 6860, 6862, 6868, 6873, 6877, 6884, 6885, 6886, 6888, 6892, 6896, 6898, 6899, 6902, 6905, 6909, 6915, 6916, 6918, 6920, 6923, 6926, 6927, 6934, 6936, 6940]\n"
     ]
    }
   ],
   "source": [
    "file = open('approximate_match.txt', 'r')\n",
    "data = file.read().replace('\\n', ' ').split(' ')\n",
    "pat = data[1]\n",
    "seqs = data[2]\n",
    "distance = int(data[3])\n",
    "\n",
    "print(pattern_with_mismatches_finder(seqs, pat, distance))\n",
    "file.close()"
   ]
  },
  {
   "cell_type": "code",
   "execution_count": 115,
   "metadata": {},
   "outputs": [
    {
     "data": {
      "text/plain": [
       "11"
      ]
     },
     "execution_count": 115,
     "metadata": {},
     "output_type": "execute_result"
    }
   ],
   "source": [
    "hamming_pattern_count('AACAAGCTGATAAACATTTAAAGAG', 'AAAAA', 2)\n"
   ]
  },
  {
   "cell_type": "code",
   "execution_count": 117,
   "metadata": {},
   "outputs": [
    {
     "data": {
      "text/plain": [
       "27"
      ]
     },
     "execution_count": 117,
     "metadata": {},
     "output_type": "execute_result"
    }
   ],
   "source": [
    "s = 'GAATCCGCCAAGTACCAAGATGTAAGTGAGGAGCGCTTAGGTCTGTACTGCGCATAAGCCTTAACGCGAAGTATGGA\\\n",
    "TATGCTCCCCGGATACAGGTTTGGGATTTGGCGGTTACCTAAGCTAACGGTGAGACCGATATGACGAGGTTCCTATCTTAAT\\\n",
    "CATATTCACATACTGAACGAGGCGCCCAGTTTCTTCTCACCAATATGTCAGGAAGCTACAGTGCAGCATTATCCACACCATT\\\n",
    "CCACTTATCCTTGAACGGAAGTCTTATGCGAAGATTATTCTGAGAAGCCCTTGTGCCCTGCATCACGATTTGCAGACTGACA\\\n",
    "GGGAATCTTAAGGCCACTCAAA'\n",
    "hamming_pattern_count(s, 'TACAG', 2)"
   ]
  },
  {
   "cell_type": "code",
   "execution_count": 27,
   "metadata": {},
   "outputs": [],
   "source": [
    "def get_neighbors(pattern, d):\n",
    "    \"\"\"Return list of all offsets of patterns with hamming distance d of `pattern\"\"\"\n",
    "    if d == 0:\n",
    "        return [pattern]\n",
    "    if len(pattern) == 1:\n",
    "        return set(['A', 'C', 'T', 'G'])\n",
    "    neighborhood = set()\n",
    "    neighbors = get_neighbors(pattern[1:], d)\n",
    "    for kmer in neighbors:\n",
    "        if hamming_distance(pattern[1:], kmer) < d:\n",
    "            for char in ['A', 'C', 'T', 'G']:\n",
    "                neighborhood.add(char + kmer)\n",
    "        else:\n",
    "            neighborhood.add(pattern[0] + kmer)\n",
    "    return sorted(list(neighborhood))"
   ]
  },
  {
   "cell_type": "code",
   "execution_count": 28,
   "metadata": {},
   "outputs": [
    {
     "data": {
      "text/plain": [
       "['AACAG',\n",
       " 'CACAG',\n",
       " 'GACAG',\n",
       " 'TAAAG',\n",
       " 'TACAA',\n",
       " 'TACAC',\n",
       " 'TACAG',\n",
       " 'TACAT',\n",
       " 'TACCG',\n",
       " 'TACGG',\n",
       " 'TACTG',\n",
       " 'TAGAG',\n",
       " 'TATAG',\n",
       " 'TCCAG',\n",
       " 'TGCAG',\n",
       " 'TTCAG']"
      ]
     },
     "execution_count": 28,
     "metadata": {},
     "output_type": "execute_result"
    }
   ],
   "source": [
    "get_neighbors('TACAG', 1)"
   ]
  },
  {
   "cell_type": "markdown",
   "metadata": {},
   "source": [
    "    FrequentWordsWithMismatches(Text, k, d)\n",
    "        FrequentPatterns ← an empty set\n",
    "        Neighborhoods ← an empty list\n",
    "        for i ← 0 to |Text| − k\n",
    "            add Neighbors(Text(i, k), d) to Neighborhoods\n",
    "        form an array NeighborhoodArray holding all strings in Neighborhoods\n",
    "        for i ← 0 to |Neighborhoods| − 1\n",
    "            Pattern ← NeighborhoodArray(i) \n",
    "            Index(i) ← PatternToNumber(Pattern)\n",
    "            Count(i) ← 1\n",
    "        SortedIndex ← Sort(Index)\n",
    "        for i ← 0 to |Neighborhoods| − 2 \n",
    "            if SortedIndex(i) = SortedIndex(i + 1)\n",
    "                Count(i + 1) ← Count(i) + 1\n",
    "       maxCount ← maximum value in array Count\n",
    "       for i ← 0 to |Neighborhoods| − 1\n",
    "           if Count(i) = maxCount\n",
    "               Pattern ← NumberToPattern(SortedIndex(i), k)\n",
    "               add Pattern to FrequentPatterns\n",
    "       return FrequentPatterns "
   ]
  },
  {
   "cell_type": "code",
   "execution_count": 29,
   "metadata": {},
   "outputs": [],
   "source": [
    "def frequent_patterns_with_d_mismatches(sequence,k,distance):\n",
    "   \"\"\"Return list of most frequent offsets of patterns of k \n",
    "   length and with hamming distance d from one input sequence.\"\"\"\n",
    "    counts = {}\n",
    "    for i in range(len(sequence) - k + 1):\n",
    "        for kmer in get_neighbors(sequence[i:i+k], distance):\n",
    "            counts[kmer] = counts.get(kmer, 0) + 1\n",
    "    max_count = max(counts.values())\n",
    "    return [kmer for kmer in counts if counts[kmer] == max_count]"
   ]
  },
  {
   "cell_type": "code",
   "execution_count": 30,
   "metadata": {},
   "outputs": [
    {
     "name": "stdout",
     "output_type": "stream",
     "text": [
      "['AA', 'AC', 'AG', 'AT', 'CA', 'GA', 'TA']\n",
      "['AAGC', 'AATT', 'ACAC', 'ACTG', 'AGAG', 'AGCA', 'AGGT', 'ATCC', 'ATTA', 'CATC', 'CGGC', 'CGTT', 'GGCC', 'GGTA', 'GTTC', 'TCTC', 'TGAC', 'TGTG']\n",
      "['GGTA']\n",
      "['AAA', 'ACA', 'AGA', 'ATA', 'ATC', 'ATG', 'ATT', 'CTA', 'GTA', 'TTA']\n",
      "['AAT']\n",
      "['TG', 'GG']\n"
     ]
    }
   ],
   "source": [
    "#tests\n",
    "# checks that your code includes k-mers that do not actually appear in Text\n",
    "print(frequent_patterns_with_d_mismatches('AAAAAAAAAA', 2, 1)) #  AA AC AG CA AT GA TA\n",
    "\n",
    "# dataset makes sure that your code is not accidentally swapping k and d\n",
    "print(frequent_patterns_with_d_mismatches('AGTCAGTC', 4, 2)) \n",
    "# TCTC CGGC AAGC TGTG GGCC AGGT ATCC ACTG ACAC AGAG ATTA TGAC AATT CGTT GTTC GGTA AGCA CATC\n",
    "\n",
    "# dataset makes sure you are not finding patterns in the Reverse Complement of Text\n",
    "print(frequent_patterns_with_d_mismatches('AATTAATTGGTAGGTAGGTA', 4, 0)) # GGTA\n",
    "\n",
    "# checks that k-mers with exactly d mismatches are being found. \n",
    "# checks that k-mers with less than d mismatches are being allowed (i.e. you are not only allowing\n",
    "# k-mers with exactly d mismatches).\n",
    "# it checks that you are not returning too few k-mers.\n",
    "# it checks that you are not returning too many k-mers.\n",
    "print(frequent_patterns_with_d_mismatches('ATA', 3, 1)) \n",
    "#  GTA ACA AAA ATC ATA AGA ATT CTA TTA ATG\n",
    "\n",
    "#checks that your code is not looking for k-mers in the Reverse Complement of Text\n",
    "print(frequent_patterns_with_d_mismatches('AAT', 3, 0)) #  AAT\n",
    "\n",
    "# checks that your code correctly delimiting your output (i.e. using spaces) and\n",
    "# verifies that your k-mers are actually of length k\n",
    "print(frequent_patterns_with_d_mismatches('TAGCG', 2, 1)) #  GG TG"
   ]
  },
  {
   "cell_type": "code",
   "execution_count": 31,
   "metadata": {},
   "outputs": [
    {
     "name": "stdout",
     "output_type": "stream",
     "text": [
      "['AA', 'AC', 'AG', 'AT', 'CA', 'GA', 'TA']\n",
      "['AAGC', 'AATT', 'ACAC', 'ACTG', 'AGAG', 'AGCA', 'AGGT', 'ATCC', 'ATTA', 'CATC', 'CGGC', 'CGTT', 'GGCC', 'GGTA', 'GTTC', 'TCTC', 'TGAC', 'TGTG']\n",
      "['GGTA']\n",
      "['AAA', 'ACA', 'AGA', 'ATA', 'ATC', 'ATG', 'ATT', 'CTA', 'GTA', 'TTA']\n",
      "['AAT']\n",
      "['TG', 'GG']\n"
     ]
    }
   ],
   "source": [
    "#tests\n",
    "# checks that your code includes k-mers that do not actually appear in Text\n",
    "print(frequent_patterns_with_d_mismatches('AAAAAAAAAA', 2, 1)) #  AA AC AG CA AT GA TA\n",
    "\n",
    "# dataset makes sure that your code is not accidentally swapping k and d\n",
    "print(frequent_patterns_with_d_mismatches('AGTCAGTC', 4, 2)) \n",
    "# TCTC CGGC AAGC TGTG GGCC AGGT ATCC ACTG ACAC AGAG ATTA TGAC AATT CGTT GTTC GGTA AGCA CATC\n",
    "\n",
    "# dataset makes sure you are not finding patterns in the Reverse Complement of Text\n",
    "print(frequent_patterns_with_d_mismatches('AATTAATTGGTAGGTAGGTA', 4, 0)) # GGTA\n",
    "\n",
    "# checks that k-mers with exactly d mismatches are being found. \n",
    "# checks that k-mers with less than d mismatches are being allowed (i.e. you are not only allowing\n",
    "# k-mers with exactly d mismatches).\n",
    "# it checks that you are not returning too few k-mers.\n",
    "# it checks that you are not returning too many k-mers.\n",
    "print(frequent_patterns_with_d_mismatches('ATA', 3, 1)) \n",
    "#  GTA ACA AAA ATC ATA AGA ATT CTA TTA ATG\n",
    "\n",
    "#checks that your code is not looking for k-mers in the Reverse Complement of Text\n",
    "print(frequent_patterns_with_d_mismatches('AAT', 3, 0)) #  AAT\n",
    "\n",
    "# checks that your code correctly delimiting your output (i.e. using spaces) and\n",
    "# verifies that your k-mers are actually of length k\n",
    "print(frequent_patterns_with_d_mismatches('TAGCG', 2, 1)) #  GG TG"
   ]
  },
  {
   "cell_type": "code",
   "execution_count": 24,
   "metadata": {},
   "outputs": [],
   "source": [
    "def frequent_patterns_with_mismatches_and_rev_complements(sequence, k, distance):\n",
    "    \"\"\"Return list of most frequent offsets of patterns and it's reverse\n",
    "    complements of k length and with hamming distance d from one input sequence.\"\"\"\n",
    "    counts = {}\n",
    "    for i in range(len(sequence)-k+1):\n",
    "        for subsequence in [sequence[i:i+k], reverse_complement_str(sequence[i:i+k])]:\n",
    "            for kmer in get_neighbors(subsequence, distance):\n",
    "                counts[kmer] = counts.get(kmer, 0) + 1\n",
    "    max_count = max(counts.values())\n",
    "    return [kmer for kmer in counts if counts[kmer] == max_count]"
   ]
  },
  {
   "cell_type": "code",
   "execution_count": 25,
   "metadata": {},
   "outputs": [
    {
     "name": "stdout",
     "output_type": "stream",
     "text": [
      "['ACAT', 'ATGT']\n",
      "['AT', 'TA']\n",
      "['AATT', 'GGCC']\n",
      "['AATT']\n",
      "['AAA', 'ACA', 'AGA', 'ATA', 'ATC', 'ATG', 'ATT', 'CTA', 'GTA', 'TTA', 'AAT', 'CAT', 'GAT', 'TAA', 'TAC', 'TAG', 'TAT', 'TCT', 'TGT', 'TTT']\n",
      "['ACAT', 'ATGT']\n",
      "['AGCGGCGCT', 'AGCGCCGCT']\n"
     ]
    }
   ],
   "source": [
    "print(frequent_patterns_with_mismatches_and_rev_complements('ACGTTGCATGTCGCATGATGCATGAGAGCT', 4, 1)) # ATGT ACAT\n",
    "\n",
    "#checks that your code includes k-mers that do not actually appear in Text.\n",
    "print(frequent_patterns_with_mismatches_and_rev_complements('AAAAAAAAAA', 2, 1)) # AT TA\n",
    "\n",
    "# dataset makes sure that your code is not accidentally swapping k and d\n",
    "print(frequent_patterns_with_mismatches_and_rev_complements('AGTCAGTC', 4, 2)) # AATT GGCC\n",
    "\n",
    "#dataset makes sure you are finding k-mers in both Text and the Reverse Complement\n",
    "print(frequent_patterns_with_mismatches_and_rev_complements('AATTAATTGGTAGGTAGGTA', 4, 0)) # AATT\n",
    "\n",
    "# dataset first checks that k-mers with exactly d mismatches are being found. \n",
    "# itchecks that k-mers with less than d mismatches are being allowed (i.e. you are not only allowing\n",
    "# k-mers with exactly d mismatches). \n",
    "# it checks that you are not returning too few k-mers.\n",
    "#Last, it checks that you are not returning too many k-mers.\n",
    "print(frequent_patterns_with_mismatches_and_rev_complements('ATA', 3, 1)) \n",
    "# AAA AAT ACA AGA ATA ATC ATG ATT CAT CTA GAT GTA TAA TAC TAG TAT TCT TGT TTA TTT\n",
    "\n",
    "# code grade\n",
    "print(frequent_patterns_with_mismatches_and_rev_complements('ACGTTGCATGTCGCATGATGCATGAGAGCT', 4, 1)) # ATGT ACAT\n",
    "\n",
    "#extra data set\n",
    "s = 'CTTGCCGGCGCCGATTATACGATCGCGGCCGCTTGCCTTCTTTATAATGCATCGGCGCCGCGATCTTGCTATATACGTA\\\n",
    "CGCTTCGCTTGCATCTTGCGCGCATTACGTACTTATCGATTACTTATCTTCGATGCCGGCCGGCATATGCCGCTTTAGCATCGA\\\n",
    "TCGATCGTACTTTACGCGTATAGCCGCTTCGCTTGCCGTACGCGATGCTAGCATATGCTAGCGCTAATTACTTAT'\n",
    "k = 9\n",
    "d = 3  # AGCGCCGCT AGCGGCGCT\n",
    "print(frequent_patterns_with_mismatches_and_rev_complements(s, k, d))"
   ]
  },
  {
   "cell_type": "code",
   "execution_count": 26,
   "metadata": {},
   "outputs": [
    {
     "data": {
      "text/plain": [
       "['AAGGATCCT',\n",
       " 'AATGATCCG',\n",
       " 'AGGATCCTT',\n",
       " 'CGGATCATT',\n",
       " 'TCTGGATAA',\n",
       " 'TTATCCAGA',\n",
       " 'AGCTGGGAT',\n",
       " 'ATCCCAGCT',\n",
       " 'GCTGGGATC',\n",
       " 'GATCCCAGC',\n",
       " 'CTGGGATCA',\n",
       " 'TGATCCCAG',\n",
       " 'GGATCCTGG',\n",
       " 'CCAGGATCC',\n",
       " 'CAGAAGATC',\n",
       " 'GATCTTCTG',\n",
       " 'AGATCTCTT',\n",
       " 'AAGAGATCT',\n",
       " 'TGTGAATAA',\n",
       " 'TGTGGATAA',\n",
       " 'TTATCCACA',\n",
       " 'TTATTCACA',\n",
       " 'GTGGATAAC',\n",
       " 'GTTATCCAC',\n",
       " 'TGGATAACC',\n",
       " 'GGTTATCCA',\n",
       " 'AGGATCAAC',\n",
       " 'GTTGATCCT',\n",
       " 'AGAACAACA',\n",
       " 'TGATCAACA',\n",
       " 'TGTTGATCA',\n",
       " 'TGTTGTTCT',\n",
       " 'GATCAACAG',\n",
       " 'CTGTTGATC']"
      ]
     },
     "execution_count": 26,
     "metadata": {},
     "output_type": "execute_result"
    }
   ],
   "source": [
    "frequent_patterns_with_mismatches_and_rev_complements(oriC_ecoli.upper(), 9, 1)"
   ]
  },
  {
   "cell_type": "code",
   "execution_count": null,
   "metadata": {},
   "outputs": [],
   "source": []
  }
 ],
 "metadata": {
  "kernelspec": {
   "display_name": "Python 3",
   "language": "python",
   "name": "python3"
  },
  "language_info": {
   "codemirror_mode": {
    "name": "ipython",
    "version": 3
   },
   "file_extension": ".py",
   "mimetype": "text/x-python",
   "name": "python",
   "nbconvert_exporter": "python",
   "pygments_lexer": "ipython3",
   "version": "3.7.3"
  }
 },
 "nbformat": 4,
 "nbformat_minor": 2
}
